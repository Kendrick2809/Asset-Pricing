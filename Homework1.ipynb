{
 "cells": [
  {
   "cell_type": "code",
   "execution_count": 5,
   "id": "818377b4",
   "metadata": {},
   "outputs": [],
   "source": [
    "import numpy as np\n",
    "import matplotlib.pyplot as plt\n",
    "import pandas as pd"
   ]
  },
  {
   "cell_type": "code",
   "execution_count": 6,
   "id": "afcf052c",
   "metadata": {},
   "outputs": [
    {
     "name": "stdout",
     "output_type": "stream",
     "text": [
      "Variable    Type      Data/Info\n",
      "-------------------------------\n",
      "file_path   str       Industry_Portfolios_raw.csv\n",
      "np          module    <module 'numpy' from '/Us<...>kages/numpy/__init__.py'>\n",
      "pd          module    <module 'pandas' from '/U<...>ages/pandas/__init__.py'>\n",
      "plt         module    <module 'matplotlib.pyplo<...>es/matplotlib/pyplot.py'>\n"
     ]
    }
   ],
   "source": [
    "%whos"
   ]
  },
  {
   "cell_type": "code",
   "execution_count": 7,
   "id": "64c56942",
   "metadata": {},
   "outputs": [],
   "source": [
    "file_path = \"Industry_Portfolios_raw.csv\""
   ]
  },
  {
   "cell_type": "code",
   "execution_count": 336,
   "id": "69e985a7",
   "metadata": {},
   "outputs": [],
   "source": [
    "data_frame = pd.read_csv(file_path)"
   ]
  },
  {
   "cell_type": "code",
   "execution_count": 337,
   "id": "9adf073f",
   "metadata": {
    "scrolled": true
   },
   "outputs": [
    {
     "data": {
      "text/html": [
       "<div>\n",
       "<style scoped>\n",
       "    .dataframe tbody tr th:only-of-type {\n",
       "        vertical-align: middle;\n",
       "    }\n",
       "\n",
       "    .dataframe tbody tr th {\n",
       "        vertical-align: top;\n",
       "    }\n",
       "\n",
       "    .dataframe thead th {\n",
       "        text-align: right;\n",
       "    }\n",
       "</style>\n",
       "<table border=\"1\" class=\"dataframe\">\n",
       "  <thead>\n",
       "    <tr style=\"text-align: right;\">\n",
       "      <th></th>\n",
       "      <th>Date</th>\n",
       "      <th>NoDur</th>\n",
       "      <th>Durbl</th>\n",
       "      <th>Manuf</th>\n",
       "      <th>Enrgy</th>\n",
       "      <th>HiTec</th>\n",
       "      <th>Telcm</th>\n",
       "      <th>Shops</th>\n",
       "      <th>Hlth</th>\n",
       "      <th>Utils</th>\n",
       "      <th>Other</th>\n",
       "    </tr>\n",
       "  </thead>\n",
       "  <tbody>\n",
       "    <tr>\n",
       "      <th>0</th>\n",
       "      <td>200401</td>\n",
       "      <td>0.06</td>\n",
       "      <td>-1.07</td>\n",
       "      <td>-0.62</td>\n",
       "      <td>0.44</td>\n",
       "      <td>4.53</td>\n",
       "      <td>1.41</td>\n",
       "      <td>0.45</td>\n",
       "      <td>3.09</td>\n",
       "      <td>1.92</td>\n",
       "      <td>2.88</td>\n",
       "    </tr>\n",
       "    <tr>\n",
       "      <th>1</th>\n",
       "      <td>200402</td>\n",
       "      <td>4.25</td>\n",
       "      <td>-0.07</td>\n",
       "      <td>1.95</td>\n",
       "      <td>4.69</td>\n",
       "      <td>-2.92</td>\n",
       "      <td>-0.52</td>\n",
       "      <td>6.09</td>\n",
       "      <td>0.89</td>\n",
       "      <td>2.07</td>\n",
       "      <td>2.16</td>\n",
       "    </tr>\n",
       "    <tr>\n",
       "      <th>2</th>\n",
       "      <td>200403</td>\n",
       "      <td>-0.09</td>\n",
       "      <td>-1.15</td>\n",
       "      <td>-0.27</td>\n",
       "      <td>-0.13</td>\n",
       "      <td>-2.55</td>\n",
       "      <td>-2.07</td>\n",
       "      <td>0.29</td>\n",
       "      <td>-3.96</td>\n",
       "      <td>1.13</td>\n",
       "      <td>-0.63</td>\n",
       "    </tr>\n",
       "    <tr>\n",
       "      <th>3</th>\n",
       "      <td>200404</td>\n",
       "      <td>1.42</td>\n",
       "      <td>2.30</td>\n",
       "      <td>-0.17</td>\n",
       "      <td>2.52</td>\n",
       "      <td>-4.91</td>\n",
       "      <td>-0.48</td>\n",
       "      <td>-2.70</td>\n",
       "      <td>3.54</td>\n",
       "      <td>-3.55</td>\n",
       "      <td>-3.76</td>\n",
       "    </tr>\n",
       "    <tr>\n",
       "      <th>4</th>\n",
       "      <td>200405</td>\n",
       "      <td>-1.89</td>\n",
       "      <td>-1.64</td>\n",
       "      <td>1.61</td>\n",
       "      <td>0.39</td>\n",
       "      <td>4.85</td>\n",
       "      <td>-2.95</td>\n",
       "      <td>0.30</td>\n",
       "      <td>-0.42</td>\n",
       "      <td>1.28</td>\n",
       "      <td>1.86</td>\n",
       "    </tr>\n",
       "    <tr>\n",
       "      <th>...</th>\n",
       "      <td>...</td>\n",
       "      <td>...</td>\n",
       "      <td>...</td>\n",
       "      <td>...</td>\n",
       "      <td>...</td>\n",
       "      <td>...</td>\n",
       "      <td>...</td>\n",
       "      <td>...</td>\n",
       "      <td>...</td>\n",
       "      <td>...</td>\n",
       "      <td>...</td>\n",
       "    </tr>\n",
       "    <tr>\n",
       "      <th>115</th>\n",
       "      <td>201308</td>\n",
       "      <td>-4.00</td>\n",
       "      <td>-1.00</td>\n",
       "      <td>-1.95</td>\n",
       "      <td>-1.83</td>\n",
       "      <td>-0.12</td>\n",
       "      <td>-3.28</td>\n",
       "      <td>-4.21</td>\n",
       "      <td>-3.49</td>\n",
       "      <td>-4.43</td>\n",
       "      <td>-3.66</td>\n",
       "    </tr>\n",
       "    <tr>\n",
       "      <th>116</th>\n",
       "      <td>201309</td>\n",
       "      <td>1.94</td>\n",
       "      <td>6.46</td>\n",
       "      <td>5.20</td>\n",
       "      <td>2.03</td>\n",
       "      <td>3.77</td>\n",
       "      <td>4.33</td>\n",
       "      <td>4.46</td>\n",
       "      <td>4.19</td>\n",
       "      <td>1.05</td>\n",
       "      <td>3.83</td>\n",
       "    </tr>\n",
       "    <tr>\n",
       "      <th>117</th>\n",
       "      <td>201310</td>\n",
       "      <td>4.75</td>\n",
       "      <td>0.72</td>\n",
       "      <td>4.56</td>\n",
       "      <td>4.86</td>\n",
       "      <td>3.80</td>\n",
       "      <td>5.52</td>\n",
       "      <td>5.08</td>\n",
       "      <td>3.47</td>\n",
       "      <td>3.35</td>\n",
       "      <td>3.87</td>\n",
       "    </tr>\n",
       "    <tr>\n",
       "      <th>118</th>\n",
       "      <td>201311</td>\n",
       "      <td>1.29</td>\n",
       "      <td>1.81</td>\n",
       "      <td>2.95</td>\n",
       "      <td>0.85</td>\n",
       "      <td>3.65</td>\n",
       "      <td>0.27</td>\n",
       "      <td>3.67</td>\n",
       "      <td>4.54</td>\n",
       "      <td>-1.81</td>\n",
       "      <td>4.74</td>\n",
       "    </tr>\n",
       "    <tr>\n",
       "      <th>119</th>\n",
       "      <td>201312</td>\n",
       "      <td>2.65</td>\n",
       "      <td>1.18</td>\n",
       "      <td>3.13</td>\n",
       "      <td>2.95</td>\n",
       "      <td>4.04</td>\n",
       "      <td>3.96</td>\n",
       "      <td>0.20</td>\n",
       "      <td>0.71</td>\n",
       "      <td>1.79</td>\n",
       "      <td>3.11</td>\n",
       "    </tr>\n",
       "  </tbody>\n",
       "</table>\n",
       "<p>120 rows × 11 columns</p>\n",
       "</div>"
      ],
      "text/plain": [
       "       Date  NoDur  Durbl  Manuf  Enrgy  HiTec  Telcm  Shops  Hlth  Utils  \\\n",
       "0    200401   0.06  -1.07  -0.62   0.44   4.53   1.41   0.45  3.09   1.92   \n",
       "1    200402   4.25  -0.07   1.95   4.69  -2.92  -0.52   6.09  0.89   2.07   \n",
       "2    200403  -0.09  -1.15  -0.27  -0.13  -2.55  -2.07   0.29 -3.96   1.13   \n",
       "3    200404   1.42   2.30  -0.17   2.52  -4.91  -0.48  -2.70  3.54  -3.55   \n",
       "4    200405  -1.89  -1.64   1.61   0.39   4.85  -2.95   0.30 -0.42   1.28   \n",
       "..      ...    ...    ...    ...    ...    ...    ...    ...   ...    ...   \n",
       "115  201308  -4.00  -1.00  -1.95  -1.83  -0.12  -3.28  -4.21 -3.49  -4.43   \n",
       "116  201309   1.94   6.46   5.20   2.03   3.77   4.33   4.46  4.19   1.05   \n",
       "117  201310   4.75   0.72   4.56   4.86   3.80   5.52   5.08  3.47   3.35   \n",
       "118  201311   1.29   1.81   2.95   0.85   3.65   0.27   3.67  4.54  -1.81   \n",
       "119  201312   2.65   1.18   3.13   2.95   4.04   3.96   0.20  0.71   1.79   \n",
       "\n",
       "     Other  \n",
       "0     2.88  \n",
       "1     2.16  \n",
       "2    -0.63  \n",
       "3    -3.76  \n",
       "4     1.86  \n",
       "..     ...  \n",
       "115  -3.66  \n",
       "116   3.83  \n",
       "117   3.87  \n",
       "118   4.74  \n",
       "119   3.11  \n",
       "\n",
       "[120 rows x 11 columns]"
      ]
     },
     "execution_count": 337,
     "metadata": {},
     "output_type": "execute_result"
    }
   ],
   "source": [
    "data_frame"
   ]
  },
  {
   "cell_type": "code",
   "execution_count": 65,
   "id": "e8e91219",
   "metadata": {},
   "outputs": [
    {
     "data": {
      "text/html": [
       "<div>\n",
       "<style scoped>\n",
       "    .dataframe tbody tr th:only-of-type {\n",
       "        vertical-align: middle;\n",
       "    }\n",
       "\n",
       "    .dataframe tbody tr th {\n",
       "        vertical-align: top;\n",
       "    }\n",
       "\n",
       "    .dataframe thead th {\n",
       "        text-align: right;\n",
       "    }\n",
       "</style>\n",
       "<table border=\"1\" class=\"dataframe\">\n",
       "  <thead>\n",
       "    <tr style=\"text-align: right;\">\n",
       "      <th></th>\n",
       "      <th>NoDur</th>\n",
       "      <th>Durbl</th>\n",
       "      <th>Manuf</th>\n",
       "      <th>Enrgy</th>\n",
       "      <th>HiTec</th>\n",
       "      <th>Telcm</th>\n",
       "      <th>Shops</th>\n",
       "      <th>Hlth</th>\n",
       "      <th>Utils</th>\n",
       "      <th>Other</th>\n",
       "    </tr>\n",
       "  </thead>\n",
       "  <tbody>\n",
       "    <tr>\n",
       "      <th>0</th>\n",
       "      <td>0.06</td>\n",
       "      <td>-1.07</td>\n",
       "      <td>-0.62</td>\n",
       "      <td>0.44</td>\n",
       "      <td>4.53</td>\n",
       "      <td>1.41</td>\n",
       "      <td>0.45</td>\n",
       "      <td>3.09</td>\n",
       "      <td>1.92</td>\n",
       "      <td>2.88</td>\n",
       "    </tr>\n",
       "    <tr>\n",
       "      <th>1</th>\n",
       "      <td>4.25</td>\n",
       "      <td>-0.07</td>\n",
       "      <td>1.95</td>\n",
       "      <td>4.69</td>\n",
       "      <td>-2.92</td>\n",
       "      <td>-0.52</td>\n",
       "      <td>6.09</td>\n",
       "      <td>0.89</td>\n",
       "      <td>2.07</td>\n",
       "      <td>2.16</td>\n",
       "    </tr>\n",
       "    <tr>\n",
       "      <th>2</th>\n",
       "      <td>-0.09</td>\n",
       "      <td>-1.15</td>\n",
       "      <td>-0.27</td>\n",
       "      <td>-0.13</td>\n",
       "      <td>-2.55</td>\n",
       "      <td>-2.07</td>\n",
       "      <td>0.29</td>\n",
       "      <td>-3.96</td>\n",
       "      <td>1.13</td>\n",
       "      <td>-0.63</td>\n",
       "    </tr>\n",
       "    <tr>\n",
       "      <th>3</th>\n",
       "      <td>1.42</td>\n",
       "      <td>2.30</td>\n",
       "      <td>-0.17</td>\n",
       "      <td>2.52</td>\n",
       "      <td>-4.91</td>\n",
       "      <td>-0.48</td>\n",
       "      <td>-2.70</td>\n",
       "      <td>3.54</td>\n",
       "      <td>-3.55</td>\n",
       "      <td>-3.76</td>\n",
       "    </tr>\n",
       "    <tr>\n",
       "      <th>4</th>\n",
       "      <td>-1.89</td>\n",
       "      <td>-1.64</td>\n",
       "      <td>1.61</td>\n",
       "      <td>0.39</td>\n",
       "      <td>4.85</td>\n",
       "      <td>-2.95</td>\n",
       "      <td>0.30</td>\n",
       "      <td>-0.42</td>\n",
       "      <td>1.28</td>\n",
       "      <td>1.86</td>\n",
       "    </tr>\n",
       "    <tr>\n",
       "      <th>...</th>\n",
       "      <td>...</td>\n",
       "      <td>...</td>\n",
       "      <td>...</td>\n",
       "      <td>...</td>\n",
       "      <td>...</td>\n",
       "      <td>...</td>\n",
       "      <td>...</td>\n",
       "      <td>...</td>\n",
       "      <td>...</td>\n",
       "      <td>...</td>\n",
       "    </tr>\n",
       "    <tr>\n",
       "      <th>115</th>\n",
       "      <td>-4.00</td>\n",
       "      <td>-1.00</td>\n",
       "      <td>-1.95</td>\n",
       "      <td>-1.83</td>\n",
       "      <td>-0.12</td>\n",
       "      <td>-3.28</td>\n",
       "      <td>-4.21</td>\n",
       "      <td>-3.49</td>\n",
       "      <td>-4.43</td>\n",
       "      <td>-3.66</td>\n",
       "    </tr>\n",
       "    <tr>\n",
       "      <th>116</th>\n",
       "      <td>1.94</td>\n",
       "      <td>6.46</td>\n",
       "      <td>5.20</td>\n",
       "      <td>2.03</td>\n",
       "      <td>3.77</td>\n",
       "      <td>4.33</td>\n",
       "      <td>4.46</td>\n",
       "      <td>4.19</td>\n",
       "      <td>1.05</td>\n",
       "      <td>3.83</td>\n",
       "    </tr>\n",
       "    <tr>\n",
       "      <th>117</th>\n",
       "      <td>4.75</td>\n",
       "      <td>0.72</td>\n",
       "      <td>4.56</td>\n",
       "      <td>4.86</td>\n",
       "      <td>3.80</td>\n",
       "      <td>5.52</td>\n",
       "      <td>5.08</td>\n",
       "      <td>3.47</td>\n",
       "      <td>3.35</td>\n",
       "      <td>3.87</td>\n",
       "    </tr>\n",
       "    <tr>\n",
       "      <th>118</th>\n",
       "      <td>1.29</td>\n",
       "      <td>1.81</td>\n",
       "      <td>2.95</td>\n",
       "      <td>0.85</td>\n",
       "      <td>3.65</td>\n",
       "      <td>0.27</td>\n",
       "      <td>3.67</td>\n",
       "      <td>4.54</td>\n",
       "      <td>-1.81</td>\n",
       "      <td>4.74</td>\n",
       "    </tr>\n",
       "    <tr>\n",
       "      <th>119</th>\n",
       "      <td>2.65</td>\n",
       "      <td>1.18</td>\n",
       "      <td>3.13</td>\n",
       "      <td>2.95</td>\n",
       "      <td>4.04</td>\n",
       "      <td>3.96</td>\n",
       "      <td>0.20</td>\n",
       "      <td>0.71</td>\n",
       "      <td>1.79</td>\n",
       "      <td>3.11</td>\n",
       "    </tr>\n",
       "  </tbody>\n",
       "</table>\n",
       "<p>120 rows × 10 columns</p>\n",
       "</div>"
      ],
      "text/plain": [
       "     NoDur  Durbl  Manuf  Enrgy  HiTec  Telcm  Shops  Hlth  Utils  Other\n",
       "0     0.06  -1.07  -0.62   0.44   4.53   1.41   0.45  3.09   1.92   2.88\n",
       "1     4.25  -0.07   1.95   4.69  -2.92  -0.52   6.09  0.89   2.07   2.16\n",
       "2    -0.09  -1.15  -0.27  -0.13  -2.55  -2.07   0.29 -3.96   1.13  -0.63\n",
       "3     1.42   2.30  -0.17   2.52  -4.91  -0.48  -2.70  3.54  -3.55  -3.76\n",
       "4    -1.89  -1.64   1.61   0.39   4.85  -2.95   0.30 -0.42   1.28   1.86\n",
       "..     ...    ...    ...    ...    ...    ...    ...   ...    ...    ...\n",
       "115  -4.00  -1.00  -1.95  -1.83  -0.12  -3.28  -4.21 -3.49  -4.43  -3.66\n",
       "116   1.94   6.46   5.20   2.03   3.77   4.33   4.46  4.19   1.05   3.83\n",
       "117   4.75   0.72   4.56   4.86   3.80   5.52   5.08  3.47   3.35   3.87\n",
       "118   1.29   1.81   2.95   0.85   3.65   0.27   3.67  4.54  -1.81   4.74\n",
       "119   2.65   1.18   3.13   2.95   4.04   3.96   0.20  0.71   1.79   3.11\n",
       "\n",
       "[120 rows x 10 columns]"
      ]
     },
     "execution_count": 65,
     "metadata": {},
     "output_type": "execute_result"
    }
   ],
   "source": [
    "selected_columns = data_frame.drop('Date', axis=1)\n",
    "selected_columns"
   ]
  },
  {
   "cell_type": "code",
   "execution_count": 107,
   "id": "85fc4dd4",
   "metadata": {
    "scrolled": true
   },
   "outputs": [
    {
     "data": {
      "text/plain": [
       "array(['NoDur', 'Durbl', 'Manuf', 'Enrgy', 'HiTec', 'Telcm', 'Shops',\n",
       "       'Hlth', 'Utils', 'Other'], dtype=object)"
      ]
     },
     "execution_count": 107,
     "metadata": {},
     "output_type": "execute_result"
    }
   ],
   "source": [
    "ten_industry_portfolios = selected_columns.columns.to_numpy()\n",
    "ten_industry_portfolios"
   ]
  },
  {
   "cell_type": "code",
   "execution_count": 11,
   "id": "f7e862e0",
   "metadata": {},
   "outputs": [
    {
     "data": {
      "text/plain": [
       "NoDur    0.902833\n",
       "Durbl    0.733333\n",
       "Manuf    1.012833\n",
       "Enrgy    1.231167\n",
       "HiTec    0.766250\n",
       "Telcm    0.881417\n",
       "Shops    0.916333\n",
       "Hlth     0.783833\n",
       "Utils    0.907167\n",
       "Other    0.489083\n",
       "dtype: float64"
      ]
     },
     "execution_count": 11,
     "metadata": {},
     "output_type": "execute_result"
    }
   ],
   "source": [
    "return_averages = selected_columns.mean()\n",
    "return_averages"
   ]
  },
  {
   "cell_type": "code",
   "execution_count": 318,
   "id": "6021bf3a",
   "metadata": {},
   "outputs": [],
   "source": [
    "std_dev_industry = selected_columns.std()"
   ]
  },
  {
   "cell_type": "code",
   "execution_count": 323,
   "id": "45f18062",
   "metadata": {
    "scrolled": false
   },
   "outputs": [],
   "source": [
    "std_dev_industry_array = std_dev_industry.values"
   ]
  },
  {
   "cell_type": "code",
   "execution_count": 12,
   "id": "5d5f0a65",
   "metadata": {},
   "outputs": [],
   "source": [
    "R_transposed = return_averages.values"
   ]
  },
  {
   "cell_type": "code",
   "execution_count": 13,
   "id": "6e8ebb23",
   "metadata": {},
   "outputs": [
    {
     "data": {
      "text/plain": [
       "array([0.90283333, 0.73333333, 1.01283333, 1.23116667, 0.76625   ,\n",
       "       0.88141667, 0.91633333, 0.78383333, 0.90716667, 0.48908333])"
      ]
     },
     "execution_count": 13,
     "metadata": {},
     "output_type": "execute_result"
    }
   ],
   "source": [
    "R_transposed"
   ]
  },
  {
   "cell_type": "code",
   "execution_count": 14,
   "id": "3b6faae0",
   "metadata": {},
   "outputs": [],
   "source": [
    "R = R_transposed.reshape(-1,1)"
   ]
  },
  {
   "cell_type": "code",
   "execution_count": 15,
   "id": "c4d2d8ec",
   "metadata": {},
   "outputs": [
    {
     "data": {
      "text/plain": [
       "array([[0.90283333],\n",
       "       [0.73333333],\n",
       "       [1.01283333],\n",
       "       [1.23116667],\n",
       "       [0.76625   ],\n",
       "       [0.88141667],\n",
       "       [0.91633333],\n",
       "       [0.78383333],\n",
       "       [0.90716667],\n",
       "       [0.48908333]])"
      ]
     },
     "execution_count": 15,
     "metadata": {},
     "output_type": "execute_result"
    }
   ],
   "source": [
    "R"
   ]
  },
  {
   "cell_type": "code",
   "execution_count": 380,
   "id": "8c1892f4",
   "metadata": {},
   "outputs": [
    {
     "data": {
      "text/html": [
       "<div>\n",
       "<style scoped>\n",
       "    .dataframe tbody tr th:only-of-type {\n",
       "        vertical-align: middle;\n",
       "    }\n",
       "\n",
       "    .dataframe tbody tr th {\n",
       "        vertical-align: top;\n",
       "    }\n",
       "\n",
       "    .dataframe thead th {\n",
       "        text-align: right;\n",
       "    }\n",
       "</style>\n",
       "<table border=\"1\" class=\"dataframe\">\n",
       "  <thead>\n",
       "    <tr style=\"text-align: right;\">\n",
       "      <th></th>\n",
       "      <th>NoDur</th>\n",
       "      <th>Durbl</th>\n",
       "      <th>Manuf</th>\n",
       "      <th>Enrgy</th>\n",
       "      <th>HiTec</th>\n",
       "      <th>Telcm</th>\n",
       "      <th>Shops</th>\n",
       "      <th>Hlth</th>\n",
       "      <th>Utils</th>\n",
       "      <th>Other</th>\n",
       "    </tr>\n",
       "  </thead>\n",
       "  <tbody>\n",
       "    <tr>\n",
       "      <th>NoDur</th>\n",
       "      <td>11.193422</td>\n",
       "      <td>18.449666</td>\n",
       "      <td>14.104907</td>\n",
       "      <td>10.531341</td>\n",
       "      <td>12.922949</td>\n",
       "      <td>11.968078</td>\n",
       "      <td>10.170832</td>\n",
       "      <td>9.953112</td>\n",
       "      <td>7.866653</td>\n",
       "      <td>14.438409</td>\n",
       "    </tr>\n",
       "    <tr>\n",
       "      <th>Durbl</th>\n",
       "      <td>18.449666</td>\n",
       "      <td>69.920577</td>\n",
       "      <td>39.178097</td>\n",
       "      <td>27.019794</td>\n",
       "      <td>35.466652</td>\n",
       "      <td>27.490543</td>\n",
       "      <td>27.444731</td>\n",
       "      <td>16.824003</td>\n",
       "      <td>12.746136</td>\n",
       "      <td>39.361987</td>\n",
       "    </tr>\n",
       "    <tr>\n",
       "      <th>Manuf</th>\n",
       "      <td>14.104907</td>\n",
       "      <td>39.178097</td>\n",
       "      <td>28.198970</td>\n",
       "      <td>23.145380</td>\n",
       "      <td>24.618739</td>\n",
       "      <td>19.550150</td>\n",
       "      <td>17.622867</td>\n",
       "      <td>13.596447</td>\n",
       "      <td>11.440612</td>\n",
       "      <td>26.313423</td>\n",
       "    </tr>\n",
       "    <tr>\n",
       "      <th>Enrgy</th>\n",
       "      <td>10.531341</td>\n",
       "      <td>27.019794</td>\n",
       "      <td>23.145380</td>\n",
       "      <td>36.984933</td>\n",
       "      <td>19.267276</td>\n",
       "      <td>15.366817</td>\n",
       "      <td>11.297800</td>\n",
       "      <td>9.630327</td>\n",
       "      <td>14.027168</td>\n",
       "      <td>18.320469</td>\n",
       "    </tr>\n",
       "    <tr>\n",
       "      <th>HiTec</th>\n",
       "      <td>12.922949</td>\n",
       "      <td>35.466652</td>\n",
       "      <td>24.618739</td>\n",
       "      <td>19.267276</td>\n",
       "      <td>28.957220</td>\n",
       "      <td>18.708273</td>\n",
       "      <td>17.837115</td>\n",
       "      <td>13.254064</td>\n",
       "      <td>10.304187</td>\n",
       "      <td>23.855470</td>\n",
       "    </tr>\n",
       "    <tr>\n",
       "      <th>Telcm</th>\n",
       "      <td>11.968078</td>\n",
       "      <td>27.490543</td>\n",
       "      <td>19.550150</td>\n",
       "      <td>15.366817</td>\n",
       "      <td>18.708273</td>\n",
       "      <td>19.787227</td>\n",
       "      <td>14.169356</td>\n",
       "      <td>11.506599</td>\n",
       "      <td>10.991596</td>\n",
       "      <td>19.610836</td>\n",
       "    </tr>\n",
       "    <tr>\n",
       "      <th>Shops</th>\n",
       "      <td>10.170832</td>\n",
       "      <td>27.444731</td>\n",
       "      <td>17.622867</td>\n",
       "      <td>11.297800</td>\n",
       "      <td>17.837115</td>\n",
       "      <td>14.169356</td>\n",
       "      <td>16.759084</td>\n",
       "      <td>10.178849</td>\n",
       "      <td>6.694350</td>\n",
       "      <td>19.226524</td>\n",
       "    </tr>\n",
       "    <tr>\n",
       "      <th>Hlth</th>\n",
       "      <td>9.953112</td>\n",
       "      <td>16.824003</td>\n",
       "      <td>13.596447</td>\n",
       "      <td>9.630327</td>\n",
       "      <td>13.254064</td>\n",
       "      <td>11.506599</td>\n",
       "      <td>10.178849</td>\n",
       "      <td>14.342669</td>\n",
       "      <td>7.475036</td>\n",
       "      <td>14.864553</td>\n",
       "    </tr>\n",
       "    <tr>\n",
       "      <th>Utils</th>\n",
       "      <td>7.866653</td>\n",
       "      <td>12.746136</td>\n",
       "      <td>11.440612</td>\n",
       "      <td>14.027168</td>\n",
       "      <td>10.304187</td>\n",
       "      <td>10.991596</td>\n",
       "      <td>6.694350</td>\n",
       "      <td>7.475036</td>\n",
       "      <td>13.703052</td>\n",
       "      <td>9.992960</td>\n",
       "    </tr>\n",
       "    <tr>\n",
       "      <th>Other</th>\n",
       "      <td>14.438409</td>\n",
       "      <td>39.361987</td>\n",
       "      <td>26.313423</td>\n",
       "      <td>18.320469</td>\n",
       "      <td>23.855470</td>\n",
       "      <td>19.610836</td>\n",
       "      <td>19.226524</td>\n",
       "      <td>14.864553</td>\n",
       "      <td>9.992960</td>\n",
       "      <td>31.163771</td>\n",
       "    </tr>\n",
       "  </tbody>\n",
       "</table>\n",
       "</div>"
      ],
      "text/plain": [
       "           NoDur      Durbl      Manuf      Enrgy      HiTec      Telcm  \\\n",
       "NoDur  11.193422  18.449666  14.104907  10.531341  12.922949  11.968078   \n",
       "Durbl  18.449666  69.920577  39.178097  27.019794  35.466652  27.490543   \n",
       "Manuf  14.104907  39.178097  28.198970  23.145380  24.618739  19.550150   \n",
       "Enrgy  10.531341  27.019794  23.145380  36.984933  19.267276  15.366817   \n",
       "HiTec  12.922949  35.466652  24.618739  19.267276  28.957220  18.708273   \n",
       "Telcm  11.968078  27.490543  19.550150  15.366817  18.708273  19.787227   \n",
       "Shops  10.170832  27.444731  17.622867  11.297800  17.837115  14.169356   \n",
       "Hlth    9.953112  16.824003  13.596447   9.630327  13.254064  11.506599   \n",
       "Utils   7.866653  12.746136  11.440612  14.027168  10.304187  10.991596   \n",
       "Other  14.438409  39.361987  26.313423  18.320469  23.855470  19.610836   \n",
       "\n",
       "           Shops       Hlth      Utils      Other  \n",
       "NoDur  10.170832   9.953112   7.866653  14.438409  \n",
       "Durbl  27.444731  16.824003  12.746136  39.361987  \n",
       "Manuf  17.622867  13.596447  11.440612  26.313423  \n",
       "Enrgy  11.297800   9.630327  14.027168  18.320469  \n",
       "HiTec  17.837115  13.254064  10.304187  23.855470  \n",
       "Telcm  14.169356  11.506599  10.991596  19.610836  \n",
       "Shops  16.759084  10.178849   6.694350  19.226524  \n",
       "Hlth   10.178849  14.342669   7.475036  14.864553  \n",
       "Utils   6.694350   7.475036  13.703052   9.992960  \n",
       "Other  19.226524  14.864553   9.992960  31.163771  "
      ]
     },
     "execution_count": 380,
     "metadata": {},
     "output_type": "execute_result"
    }
   ],
   "source": [
    "covariance_matrix_df = selected_columns.cov()\n",
    "covariance_matrix_df"
   ]
  },
  {
   "cell_type": "code",
   "execution_count": 372,
   "id": "7e45df57",
   "metadata": {},
   "outputs": [
    {
     "data": {
      "text/plain": [
       "array([11.19342216, 18.44966611, 14.10490703, 10.5313412 , 12.92294937,\n",
       "       11.96807831, 10.17083232,  9.95311174,  7.86665347, 14.4384085 ,\n",
       "       18.44966611, 69.92057703, 39.1780972 , 27.0197944 , 35.4666521 ,\n",
       "       27.49054314, 27.44473081, 16.82400308, 12.74613641, 39.36198711,\n",
       "       14.10490703, 39.1780972 , 28.19897006, 23.14537986, 24.61873929,\n",
       "       19.55014973, 17.62286678, 13.59644703, 11.4406123 , 26.31342279,\n",
       "       10.5313412 , 27.0197944 , 23.14537986, 36.98493308, 19.26727584,\n",
       "       15.36681682, 11.29780011,  9.63032658, 14.02716804, 18.32046915,\n",
       "       12.92294937, 35.4666521 , 24.61873929, 19.26727584, 28.95722027,\n",
       "       18.70827342, 17.83711471, 13.25406408, 10.30418676, 23.85547048,\n",
       "       11.96807831, 27.49054314, 19.55014973, 15.36681682, 18.70827342,\n",
       "       19.78722739, 14.16935566, 11.50659873, 10.99159564, 19.61083576,\n",
       "       10.17083232, 27.44473081, 17.62286678, 11.29780011, 17.83711471,\n",
       "       14.16935566, 16.75908392, 10.17884947,  6.69435003, 19.22652434,\n",
       "        9.95311174, 16.82400308, 13.59644703,  9.63032658, 13.25406408,\n",
       "       11.50659873, 10.17884947, 14.34266922,  7.47503616, 14.86455312,\n",
       "        7.86665347, 12.74613641, 11.4406123 , 14.02716804, 10.30418676,\n",
       "       10.99159564,  6.69435003,  7.47503616, 13.70305241,  9.99296041,\n",
       "       14.4384085 , 39.36198711, 26.31342279, 18.32046915, 23.85547048,\n",
       "       19.61083576, 19.22652434, 14.86455312,  9.99296041, 31.16377142])"
      ]
     },
     "execution_count": 372,
     "metadata": {},
     "output_type": "execute_result"
    }
   ],
   "source": [
    "covariance_matrix = covariance_matrix_df.values\n",
    "covariance_matrix.flatten()"
   ]
  },
  {
   "cell_type": "code",
   "execution_count": 18,
   "id": "18580333",
   "metadata": {},
   "outputs": [],
   "source": [
    "inverse_covariance_matrix = np.linalg.inv(covariance_matrix)"
   ]
  },
  {
   "cell_type": "code",
   "execution_count": 19,
   "id": "8ab1b574",
   "metadata": {},
   "outputs": [
    {
     "data": {
      "text/plain": [
       "array([[ 0.42987616,  0.02364299, -0.11228464,  0.02488242,  0.02109433,\n",
       "        -0.06576008, -0.04881808, -0.11787242, -0.06302345, -0.01706207],\n",
       "       [ 0.02364299,  0.09015004, -0.11170494,  0.01575693, -0.00555338,\n",
       "        -0.00938045, -0.03305295,  0.03350381,  0.00998723, -0.02840085],\n",
       "       [-0.11228464, -0.11170494,  0.53145685, -0.1108174 , -0.08616709,\n",
       "        -0.03841071,  0.02407555, -0.02005282,  0.01293586, -0.10978581],\n",
       "       [ 0.02488242,  0.01575693, -0.1108174 ,  0.07924561, -0.00377626,\n",
       "         0.01130945,  0.01490084,  0.01260604, -0.045812  ,  0.01081068],\n",
       "       [ 0.02109433, -0.00555338, -0.08616709, -0.00377626,  0.16225984,\n",
       "        -0.02593953, -0.0651664 , -0.02309265,  0.00097481,  0.01523926],\n",
       "       [-0.06576008, -0.00938045, -0.03841071,  0.01130945, -0.02593953,\n",
       "         0.24932019, -0.04599885, -0.00167346, -0.07979059, -0.01417457],\n",
       "       [-0.04881808, -0.03305295,  0.02407555,  0.01490084, -0.0651664 ,\n",
       "        -0.04599885,  0.2923196 , -0.01206851,  0.02244901, -0.06768095],\n",
       "       [-0.11787242,  0.03350381, -0.02005282,  0.01260604, -0.02309265,\n",
       "        -0.00167346, -0.01206851,  0.21204886, -0.0156185 , -0.04814481],\n",
       "       [-0.06302345,  0.00998723,  0.01293586, -0.045812  ,  0.00097481,\n",
       "        -0.07979059,  0.02244901, -0.0156185 ,  0.18483217,  0.01639026],\n",
       "       [-0.01706207, -0.02840085, -0.10978581,  0.01081068,  0.01523926,\n",
       "        -0.01417457, -0.06768095, -0.04814481,  0.01639026,  0.21892779]])"
      ]
     },
     "execution_count": 19,
     "metadata": {},
     "output_type": "execute_result"
    }
   ],
   "source": [
    "inverse_covariance_matrix"
   ]
  },
  {
   "cell_type": "code",
   "execution_count": 20,
   "id": "49ac63eb",
   "metadata": {},
   "outputs": [],
   "source": [
    "e = np.ones((10,1))"
   ]
  },
  {
   "cell_type": "code",
   "execution_count": 21,
   "id": "28a43376",
   "metadata": {},
   "outputs": [],
   "source": [
    "e_transposed = e.transpose()"
   ]
  },
  {
   "cell_type": "code",
   "execution_count": 22,
   "id": "8e8e5e51",
   "metadata": {},
   "outputs": [
    {
     "data": {
      "text/plain": [
       "array([[1., 1., 1., 1., 1., 1., 1., 1., 1., 1.]])"
      ]
     },
     "execution_count": 22,
     "metadata": {},
     "output_type": "execute_result"
    }
   ],
   "source": [
    "e_transposed"
   ]
  },
  {
   "cell_type": "code",
   "execution_count": 23,
   "id": "73c79149",
   "metadata": {},
   "outputs": [],
   "source": [
    "alpha = np.dot(np.dot(R_transposed, inverse_covariance_matrix),e)"
   ]
  },
  {
   "cell_type": "code",
   "execution_count": 24,
   "id": "b4af4df1",
   "metadata": {},
   "outputs": [
    {
     "data": {
      "text/plain": [
       "array([0.13794324])"
      ]
     },
     "execution_count": 24,
     "metadata": {},
     "output_type": "execute_result"
    }
   ],
   "source": [
    "alpha"
   ]
  },
  {
   "cell_type": "code",
   "execution_count": 25,
   "id": "779a0e1c",
   "metadata": {},
   "outputs": [],
   "source": [
    "zeta = np.dot(np.dot(R_transposed, inverse_covariance_matrix),R)"
   ]
  },
  {
   "cell_type": "code",
   "execution_count": 26,
   "id": "db8b6c0c",
   "metadata": {},
   "outputs": [
    {
     "data": {
      "text/plain": [
       "array([0.19640858])"
      ]
     },
     "execution_count": 26,
     "metadata": {},
     "output_type": "execute_result"
    }
   ],
   "source": [
    "zeta"
   ]
  },
  {
   "cell_type": "code",
   "execution_count": 27,
   "id": "d0bc59d1",
   "metadata": {},
   "outputs": [],
   "source": [
    "delta = np.dot(np.dot(e_transposed, inverse_covariance_matrix),e)"
   ]
  },
  {
   "cell_type": "code",
   "execution_count": 28,
   "id": "83726bd2",
   "metadata": {},
   "outputs": [
    {
     "data": {
      "text/plain": [
       "array([[0.1373876]])"
      ]
     },
     "execution_count": 28,
     "metadata": {},
     "output_type": "execute_result"
    }
   ],
   "source": [
    "delta"
   ]
  },
  {
   "cell_type": "code",
   "execution_count": 29,
   "id": "05c306e0",
   "metadata": {},
   "outputs": [],
   "source": [
    "RMV = alpha/delta"
   ]
  },
  {
   "cell_type": "code",
   "execution_count": 30,
   "id": "c5737c55",
   "metadata": {},
   "outputs": [
    {
     "data": {
      "text/plain": [
       "array([[1.00404433]])"
      ]
     },
     "execution_count": 30,
     "metadata": {},
     "output_type": "execute_result"
    }
   ],
   "source": [
    "RMV"
   ]
  },
  {
   "cell_type": "code",
   "execution_count": 31,
   "id": "c96002d9",
   "metadata": {},
   "outputs": [],
   "source": [
    "# Create a range of values for Rp from 0 to 2 with an interval of 0.1\n",
    "Rp_range = np.arange(0, 2.1, 0.1).reshape(1, -1)"
   ]
  },
  {
   "cell_type": "code",
   "execution_count": 44,
   "id": "74fce2ec",
   "metadata": {},
   "outputs": [
    {
     "data": {
      "text/plain": [
       "array([0. , 0.1, 0.2, 0.3, 0.4, 0.5, 0.6, 0.7, 0.8, 0.9, 1. , 1.1, 1.2,\n",
       "       1.3, 1.4, 1.5, 1.6, 1.7, 1.8, 1.9, 2. ])"
      ]
     },
     "execution_count": 44,
     "metadata": {},
     "output_type": "execute_result"
    }
   ],
   "source": [
    "Rp_range"
   ]
  },
  {
   "cell_type": "code",
   "execution_count": 45,
   "id": "7ccaef54",
   "metadata": {},
   "outputs": [
    {
     "data": {
      "text/plain": [
       "(21,)"
      ]
     },
     "execution_count": 45,
     "metadata": {},
     "output_type": "execute_result"
    }
   ],
   "source": [
    "Rp_range.shape"
   ]
  },
  {
   "cell_type": "code",
   "execution_count": 314,
   "id": "e42a5f6a",
   "metadata": {},
   "outputs": [],
   "source": [
    "# Calculate the standard deviation for each value of Rp using the formula\n",
    "variance = (1 / delta + (delta / (zeta * delta - alpha**2)) * (Rp_range - RMV)**2).flatten()"
   ]
  },
  {
   "cell_type": "code",
   "execution_count": 315,
   "id": "8cff15ac",
   "metadata": {},
   "outputs": [
    {
     "data": {
      "text/plain": [
       "array([24.68757549, 21.39250996, 18.44282309, 15.83851488, 13.57958533,\n",
       "       11.66603444, 10.0978622 ,  8.87506863,  7.99765371,  7.46561746,\n",
       "        7.27895986,  7.43768093,  7.94178065,  8.79125903,  9.98611607,\n",
       "       11.52635177, 13.41196613, 15.64295915, 18.21933082, 21.14108116,\n",
       "       24.40821016])"
      ]
     },
     "execution_count": 315,
     "metadata": {},
     "output_type": "execute_result"
    }
   ],
   "source": [
    "variance"
   ]
  },
  {
   "cell_type": "code",
   "execution_count": 316,
   "id": "2a3e1c68",
   "metadata": {},
   "outputs": [],
   "source": [
    "std_dev = np.sqrt(variance)"
   ]
  },
  {
   "cell_type": "code",
   "execution_count": 317,
   "id": "885c7c91",
   "metadata": {},
   "outputs": [
    {
     "data": {
      "text/plain": [
       "array([4.96865933, 4.62520378, 4.29451081, 3.97976317, 3.68504889,\n",
       "       3.41555771, 3.17771336, 2.97910534, 2.82801233, 2.73232821,\n",
       "       2.69795476, 2.7272112 , 2.81811651, 2.96500574, 3.16008166,\n",
       "       3.39504812, 3.66223513, 3.9551181 , 4.26841081, 4.59794314,\n",
       "       4.94046659])"
      ]
     },
     "execution_count": 317,
     "metadata": {},
     "output_type": "execute_result"
    }
   ],
   "source": [
    "std_dev"
   ]
  },
  {
   "cell_type": "markdown",
   "id": "16830245",
   "metadata": {},
   "source": [
    "### Create a table showing the mean return and standard deviation of return for the ten industry portfolios."
   ]
  },
  {
   "cell_type": "code",
   "execution_count": 325,
   "id": "8575a5d7",
   "metadata": {
    "scrolled": true
   },
   "outputs": [
    {
     "data": {
      "text/html": [
       "<style type=\"text/css\">\n",
       "#T_2513b_row0_col0, #T_2513b_row0_col1, #T_2513b_row0_col2, #T_2513b_row1_col0, #T_2513b_row1_col1, #T_2513b_row1_col2, #T_2513b_row2_col0, #T_2513b_row2_col1, #T_2513b_row2_col2, #T_2513b_row3_col0, #T_2513b_row3_col1, #T_2513b_row3_col2, #T_2513b_row4_col0, #T_2513b_row4_col1, #T_2513b_row4_col2, #T_2513b_row5_col0, #T_2513b_row5_col1, #T_2513b_row5_col2, #T_2513b_row6_col0, #T_2513b_row6_col1, #T_2513b_row6_col2, #T_2513b_row7_col0, #T_2513b_row7_col1, #T_2513b_row7_col2, #T_2513b_row8_col0, #T_2513b_row8_col1, #T_2513b_row8_col2, #T_2513b_row9_col0, #T_2513b_row9_col1, #T_2513b_row9_col2 {\n",
       "  text-align: center;\n",
       "}\n",
       "</style>\n",
       "<table id=\"T_2513b\">\n",
       "  <thead>\n",
       "    <tr>\n",
       "      <th class=\"blank level0\" >&nbsp;</th>\n",
       "      <th id=\"T_2513b_level0_col0\" class=\"col_heading level0 col0\" >Industry_Portfolios</th>\n",
       "      <th id=\"T_2513b_level0_col1\" class=\"col_heading level0 col1\" >Mean Return</th>\n",
       "      <th id=\"T_2513b_level0_col2\" class=\"col_heading level0 col2\" >Standard Deviation</th>\n",
       "    </tr>\n",
       "  </thead>\n",
       "  <tbody>\n",
       "    <tr>\n",
       "      <th id=\"T_2513b_level0_row0\" class=\"row_heading level0 row0\" >1</th>\n",
       "      <td id=\"T_2513b_row0_col0\" class=\"data row0 col0\" >NoDur</td>\n",
       "      <td id=\"T_2513b_row0_col1\" class=\"data row0 col1\" >0.902833</td>\n",
       "      <td id=\"T_2513b_row0_col2\" class=\"data row0 col2\" >3.345657</td>\n",
       "    </tr>\n",
       "    <tr>\n",
       "      <th id=\"T_2513b_level0_row1\" class=\"row_heading level0 row1\" >2</th>\n",
       "      <td id=\"T_2513b_row1_col0\" class=\"data row1 col0\" >Durbl</td>\n",
       "      <td id=\"T_2513b_row1_col1\" class=\"data row1 col1\" >0.733333</td>\n",
       "      <td id=\"T_2513b_row1_col2\" class=\"data row1 col2\" >8.361852</td>\n",
       "    </tr>\n",
       "    <tr>\n",
       "      <th id=\"T_2513b_level0_row2\" class=\"row_heading level0 row2\" >3</th>\n",
       "      <td id=\"T_2513b_row2_col0\" class=\"data row2 col0\" >Manuf</td>\n",
       "      <td id=\"T_2513b_row2_col1\" class=\"data row2 col1\" >1.012833</td>\n",
       "      <td id=\"T_2513b_row2_col2\" class=\"data row2 col2\" >5.310270</td>\n",
       "    </tr>\n",
       "    <tr>\n",
       "      <th id=\"T_2513b_level0_row3\" class=\"row_heading level0 row3\" >4</th>\n",
       "      <td id=\"T_2513b_row3_col0\" class=\"data row3 col0\" >Enrgy</td>\n",
       "      <td id=\"T_2513b_row3_col1\" class=\"data row3 col1\" >1.231167</td>\n",
       "      <td id=\"T_2513b_row3_col2\" class=\"data row3 col2\" >6.081524</td>\n",
       "    </tr>\n",
       "    <tr>\n",
       "      <th id=\"T_2513b_level0_row4\" class=\"row_heading level0 row4\" >5</th>\n",
       "      <td id=\"T_2513b_row4_col0\" class=\"data row4 col0\" >HiTec</td>\n",
       "      <td id=\"T_2513b_row4_col1\" class=\"data row4 col1\" >0.766250</td>\n",
       "      <td id=\"T_2513b_row4_col2\" class=\"data row4 col2\" >5.381191</td>\n",
       "    </tr>\n",
       "    <tr>\n",
       "      <th id=\"T_2513b_level0_row5\" class=\"row_heading level0 row5\" >6</th>\n",
       "      <td id=\"T_2513b_row5_col0\" class=\"data row5 col0\" >Telcm</td>\n",
       "      <td id=\"T_2513b_row5_col1\" class=\"data row5 col1\" >0.881417</td>\n",
       "      <td id=\"T_2513b_row5_col2\" class=\"data row5 col2\" >4.448284</td>\n",
       "    </tr>\n",
       "    <tr>\n",
       "      <th id=\"T_2513b_level0_row6\" class=\"row_heading level0 row6\" >7</th>\n",
       "      <td id=\"T_2513b_row6_col0\" class=\"data row6 col0\" >Shops</td>\n",
       "      <td id=\"T_2513b_row6_col1\" class=\"data row6 col1\" >0.916333</td>\n",
       "      <td id=\"T_2513b_row6_col2\" class=\"data row6 col2\" >4.093786</td>\n",
       "    </tr>\n",
       "    <tr>\n",
       "      <th id=\"T_2513b_level0_row7\" class=\"row_heading level0 row7\" >8</th>\n",
       "      <td id=\"T_2513b_row7_col0\" class=\"data row7 col0\" >Hlth</td>\n",
       "      <td id=\"T_2513b_row7_col1\" class=\"data row7 col1\" >0.783833</td>\n",
       "      <td id=\"T_2513b_row7_col2\" class=\"data row7 col2\" >3.787172</td>\n",
       "    </tr>\n",
       "    <tr>\n",
       "      <th id=\"T_2513b_level0_row8\" class=\"row_heading level0 row8\" >9</th>\n",
       "      <td id=\"T_2513b_row8_col0\" class=\"data row8 col0\" >Utils</td>\n",
       "      <td id=\"T_2513b_row8_col1\" class=\"data row8 col1\" >0.907167</td>\n",
       "      <td id=\"T_2513b_row8_col2\" class=\"data row8 col2\" >3.701763</td>\n",
       "    </tr>\n",
       "    <tr>\n",
       "      <th id=\"T_2513b_level0_row9\" class=\"row_heading level0 row9\" >10</th>\n",
       "      <td id=\"T_2513b_row9_col0\" class=\"data row9 col0\" >Other</td>\n",
       "      <td id=\"T_2513b_row9_col1\" class=\"data row9 col1\" >0.489083</td>\n",
       "      <td id=\"T_2513b_row9_col2\" class=\"data row9 col2\" >5.582452</td>\n",
       "    </tr>\n",
       "  </tbody>\n",
       "</table>\n"
      ],
      "text/plain": [
       "<pandas.io.formats.style.Styler at 0x144b7b310>"
      ]
     },
     "execution_count": 325,
     "metadata": {},
     "output_type": "execute_result"
    }
   ],
   "source": [
    "data = pd.DataFrame({\n",
    "    'Industry_Portfolios': ten_industry_portfolios,\n",
    "    'Mean Return': R_transposed,\n",
    "    'Standard Deviation': std_dev_industry_array\n",
    "}, index=range(1, 11))\n",
    "\n",
    "# Use the `style` attribute to align text at the center\n",
    "styled_data = data.style.set_properties(**{'text-align': 'center'})\n",
    "\n",
    "styled_data"
   ]
  },
  {
   "cell_type": "code",
   "execution_count": 378,
   "id": "0bb16278",
   "metadata": {},
   "outputs": [
    {
     "data": {
      "text/html": [
       "<div>\n",
       "<style scoped>\n",
       "    .dataframe tbody tr th:only-of-type {\n",
       "        vertical-align: middle;\n",
       "    }\n",
       "\n",
       "    .dataframe tbody tr th {\n",
       "        vertical-align: top;\n",
       "    }\n",
       "\n",
       "    .dataframe thead th {\n",
       "        text-align: right;\n",
       "    }\n",
       "</style>\n",
       "<table border=\"1\" class=\"dataframe\">\n",
       "  <thead>\n",
       "    <tr style=\"text-align: right;\">\n",
       "      <th></th>\n",
       "      <th>0</th>\n",
       "      <th>1</th>\n",
       "      <th>2</th>\n",
       "      <th>3</th>\n",
       "      <th>4</th>\n",
       "      <th>5</th>\n",
       "      <th>6</th>\n",
       "      <th>7</th>\n",
       "      <th>8</th>\n",
       "      <th>9</th>\n",
       "    </tr>\n",
       "  </thead>\n",
       "  <tbody>\n",
       "    <tr>\n",
       "      <th>0</th>\n",
       "      <td>11.193422</td>\n",
       "      <td>18.449666</td>\n",
       "      <td>14.104907</td>\n",
       "      <td>10.531341</td>\n",
       "      <td>12.922949</td>\n",
       "      <td>11.968078</td>\n",
       "      <td>10.170832</td>\n",
       "      <td>9.953112</td>\n",
       "      <td>7.866653</td>\n",
       "      <td>14.438409</td>\n",
       "    </tr>\n",
       "    <tr>\n",
       "      <th>1</th>\n",
       "      <td>18.449666</td>\n",
       "      <td>69.920577</td>\n",
       "      <td>39.178097</td>\n",
       "      <td>27.019794</td>\n",
       "      <td>35.466652</td>\n",
       "      <td>27.490543</td>\n",
       "      <td>27.444731</td>\n",
       "      <td>16.824003</td>\n",
       "      <td>12.746136</td>\n",
       "      <td>39.361987</td>\n",
       "    </tr>\n",
       "    <tr>\n",
       "      <th>2</th>\n",
       "      <td>14.104907</td>\n",
       "      <td>39.178097</td>\n",
       "      <td>28.198970</td>\n",
       "      <td>23.145380</td>\n",
       "      <td>24.618739</td>\n",
       "      <td>19.550150</td>\n",
       "      <td>17.622867</td>\n",
       "      <td>13.596447</td>\n",
       "      <td>11.440612</td>\n",
       "      <td>26.313423</td>\n",
       "    </tr>\n",
       "    <tr>\n",
       "      <th>3</th>\n",
       "      <td>10.531341</td>\n",
       "      <td>27.019794</td>\n",
       "      <td>23.145380</td>\n",
       "      <td>36.984933</td>\n",
       "      <td>19.267276</td>\n",
       "      <td>15.366817</td>\n",
       "      <td>11.297800</td>\n",
       "      <td>9.630327</td>\n",
       "      <td>14.027168</td>\n",
       "      <td>18.320469</td>\n",
       "    </tr>\n",
       "    <tr>\n",
       "      <th>4</th>\n",
       "      <td>12.922949</td>\n",
       "      <td>35.466652</td>\n",
       "      <td>24.618739</td>\n",
       "      <td>19.267276</td>\n",
       "      <td>28.957220</td>\n",
       "      <td>18.708273</td>\n",
       "      <td>17.837115</td>\n",
       "      <td>13.254064</td>\n",
       "      <td>10.304187</td>\n",
       "      <td>23.855470</td>\n",
       "    </tr>\n",
       "    <tr>\n",
       "      <th>5</th>\n",
       "      <td>11.968078</td>\n",
       "      <td>27.490543</td>\n",
       "      <td>19.550150</td>\n",
       "      <td>15.366817</td>\n",
       "      <td>18.708273</td>\n",
       "      <td>19.787227</td>\n",
       "      <td>14.169356</td>\n",
       "      <td>11.506599</td>\n",
       "      <td>10.991596</td>\n",
       "      <td>19.610836</td>\n",
       "    </tr>\n",
       "    <tr>\n",
       "      <th>6</th>\n",
       "      <td>10.170832</td>\n",
       "      <td>27.444731</td>\n",
       "      <td>17.622867</td>\n",
       "      <td>11.297800</td>\n",
       "      <td>17.837115</td>\n",
       "      <td>14.169356</td>\n",
       "      <td>16.759084</td>\n",
       "      <td>10.178849</td>\n",
       "      <td>6.694350</td>\n",
       "      <td>19.226524</td>\n",
       "    </tr>\n",
       "    <tr>\n",
       "      <th>7</th>\n",
       "      <td>9.953112</td>\n",
       "      <td>16.824003</td>\n",
       "      <td>13.596447</td>\n",
       "      <td>9.630327</td>\n",
       "      <td>13.254064</td>\n",
       "      <td>11.506599</td>\n",
       "      <td>10.178849</td>\n",
       "      <td>14.342669</td>\n",
       "      <td>7.475036</td>\n",
       "      <td>14.864553</td>\n",
       "    </tr>\n",
       "    <tr>\n",
       "      <th>8</th>\n",
       "      <td>7.866653</td>\n",
       "      <td>12.746136</td>\n",
       "      <td>11.440612</td>\n",
       "      <td>14.027168</td>\n",
       "      <td>10.304187</td>\n",
       "      <td>10.991596</td>\n",
       "      <td>6.694350</td>\n",
       "      <td>7.475036</td>\n",
       "      <td>13.703052</td>\n",
       "      <td>9.992960</td>\n",
       "    </tr>\n",
       "    <tr>\n",
       "      <th>9</th>\n",
       "      <td>14.438409</td>\n",
       "      <td>39.361987</td>\n",
       "      <td>26.313423</td>\n",
       "      <td>18.320469</td>\n",
       "      <td>23.855470</td>\n",
       "      <td>19.610836</td>\n",
       "      <td>19.226524</td>\n",
       "      <td>14.864553</td>\n",
       "      <td>9.992960</td>\n",
       "      <td>31.163771</td>\n",
       "    </tr>\n",
       "  </tbody>\n",
       "</table>\n",
       "</div>"
      ],
      "text/plain": [
       "           0          1          2          3          4          5  \\\n",
       "0  11.193422  18.449666  14.104907  10.531341  12.922949  11.968078   \n",
       "1  18.449666  69.920577  39.178097  27.019794  35.466652  27.490543   \n",
       "2  14.104907  39.178097  28.198970  23.145380  24.618739  19.550150   \n",
       "3  10.531341  27.019794  23.145380  36.984933  19.267276  15.366817   \n",
       "4  12.922949  35.466652  24.618739  19.267276  28.957220  18.708273   \n",
       "5  11.968078  27.490543  19.550150  15.366817  18.708273  19.787227   \n",
       "6  10.170832  27.444731  17.622867  11.297800  17.837115  14.169356   \n",
       "7   9.953112  16.824003  13.596447   9.630327  13.254064  11.506599   \n",
       "8   7.866653  12.746136  11.440612  14.027168  10.304187  10.991596   \n",
       "9  14.438409  39.361987  26.313423  18.320469  23.855470  19.610836   \n",
       "\n",
       "           6          7          8          9  \n",
       "0  10.170832   9.953112   7.866653  14.438409  \n",
       "1  27.444731  16.824003  12.746136  39.361987  \n",
       "2  17.622867  13.596447  11.440612  26.313423  \n",
       "3  11.297800   9.630327  14.027168  18.320469  \n",
       "4  17.837115  13.254064  10.304187  23.855470  \n",
       "5  14.169356  11.506599  10.991596  19.610836  \n",
       "6  16.759084  10.178849   6.694350  19.226524  \n",
       "7  10.178849  14.342669   7.475036  14.864553  \n",
       "8   6.694350   7.475036  13.703052   9.992960  \n",
       "9  19.226524  14.864553   9.992960  31.163771  "
      ]
     },
     "execution_count": 378,
     "metadata": {},
     "output_type": "execute_result"
    }
   ],
   "source": [
    "cov_matrix_df = pd.DataFrame(covariance_matrix)\n",
    "\n",
    "cov_matrix_df"
   ]
  },
  {
   "cell_type": "code",
   "execution_count": 326,
   "id": "df002b35",
   "metadata": {},
   "outputs": [
    {
     "data": {
      "text/plain": [
       "array([0. , 0.1, 0.2, 0.3, 0.4, 0.5, 0.6, 0.7, 0.8, 0.9, 1. , 1.1, 1.2,\n",
       "       1.3, 1.4, 1.5, 1.6, 1.7, 1.8, 1.9, 2. ])"
      ]
     },
     "execution_count": 326,
     "metadata": {},
     "output_type": "execute_result"
    }
   ],
   "source": [
    "Rp_range"
   ]
  },
  {
   "cell_type": "markdown",
   "id": "9962d13a",
   "metadata": {},
   "source": [
    "### The two frontiers will intersect at single point: the tangency portfolio:\n",
    "\n",
    "### Calculate the Sharpe ratio for the tangency portfolio, and also the tangency portfolio weights for the ten industry portfolios."
   ]
  },
  {
   "cell_type": "code",
   "execution_count": 354,
   "id": "fe41dcbc",
   "metadata": {
    "scrolled": true
   },
   "outputs": [
    {
     "data": {
      "text/plain": [
       "0.4035655993495088"
      ]
     },
     "execution_count": 354,
     "metadata": {},
     "output_type": "execute_result"
    }
   ],
   "source": [
    "# Calculate CAL Line for Asset Allocation with Riskless Asset\n",
    "\n",
    "# In the homework it is indicated that Rf = 0.13%\n",
    "Rf = 0.13\n",
    "\n",
    "last_index_Rp = Rp_range[-1]\n",
    "last_index_std_dev = std_dev[-1]\n",
    "\n",
    "CAL_x_axis = np.array([0, last_index_std_dev])\n",
    " \n",
    "sharpe_ratio = ((zeta- 2*alpha*Rf + delta * Rf**2)**(1/2)).item()\n",
    "\n",
    "sharpe_ratio"
   ]
  },
  {
   "cell_type": "code",
   "execution_count": 328,
   "id": "03770d1f",
   "metadata": {},
   "outputs": [],
   "source": [
    "# Calculate the tangency portfolio standard deviation\n",
    "\n",
    "std_dev_tg = -(zeta-2*alpha*Rf+delta*Rf**2)**(1/2)/(delta*(Rf-RMV))\n",
    "Rtg = sharpe_ratio * std_dev_tg + Rf"
   ]
  },
  {
   "cell_type": "code",
   "execution_count": 329,
   "id": "3b9f91bb",
   "metadata": {},
   "outputs": [
    {
     "data": {
      "text/plain": [
       "array([[ 0.42987616,  0.02364299, -0.11228464,  0.02488242,  0.02109433,\n",
       "        -0.06576008, -0.04881808, -0.11787242, -0.06302345, -0.01706207],\n",
       "       [ 0.02364299,  0.09015004, -0.11170494,  0.01575693, -0.00555338,\n",
       "        -0.00938045, -0.03305295,  0.03350381,  0.00998723, -0.02840085],\n",
       "       [-0.11228464, -0.11170494,  0.53145685, -0.1108174 , -0.08616709,\n",
       "        -0.03841071,  0.02407555, -0.02005282,  0.01293586, -0.10978581],\n",
       "       [ 0.02488242,  0.01575693, -0.1108174 ,  0.07924561, -0.00377626,\n",
       "         0.01130945,  0.01490084,  0.01260604, -0.045812  ,  0.01081068],\n",
       "       [ 0.02109433, -0.00555338, -0.08616709, -0.00377626,  0.16225984,\n",
       "        -0.02593953, -0.0651664 , -0.02309265,  0.00097481,  0.01523926],\n",
       "       [-0.06576008, -0.00938045, -0.03841071,  0.01130945, -0.02593953,\n",
       "         0.24932019, -0.04599885, -0.00167346, -0.07979059, -0.01417457],\n",
       "       [-0.04881808, -0.03305295,  0.02407555,  0.01490084, -0.0651664 ,\n",
       "        -0.04599885,  0.2923196 , -0.01206851,  0.02244901, -0.06768095],\n",
       "       [-0.11787242,  0.03350381, -0.02005282,  0.01260604, -0.02309265,\n",
       "        -0.00167346, -0.01206851,  0.21204886, -0.0156185 , -0.04814481],\n",
       "       [-0.06302345,  0.00998723,  0.01293586, -0.045812  ,  0.00097481,\n",
       "        -0.07979059,  0.02244901, -0.0156185 ,  0.18483217,  0.01639026],\n",
       "       [-0.01706207, -0.02840085, -0.10978581,  0.01081068,  0.01523926,\n",
       "        -0.01417457, -0.06768095, -0.04814481,  0.01639026,  0.21892779]])"
      ]
     },
     "execution_count": 329,
     "metadata": {},
     "output_type": "execute_result"
    }
   ],
   "source": [
    "inverse_covariance_matrix"
   ]
  },
  {
   "cell_type": "code",
   "execution_count": 330,
   "id": "7f63ff82",
   "metadata": {
    "scrolled": true
   },
   "outputs": [
    {
     "data": {
      "text/plain": [
       "array([8.32758376])"
      ]
     },
     "execution_count": 330,
     "metadata": {},
     "output_type": "execute_result"
    }
   ],
   "source": [
    "# Calculate tangency portfolio weight\n",
    "\n",
    "lagrange_multiplier = ((Rtg-Rf)/(zeta-2*alpha*Rf+delta*Rf**2)).flatten()\n",
    "lagrange_multiplier"
   ]
  },
  {
   "cell_type": "code",
   "execution_count": 331,
   "id": "0ea18f41",
   "metadata": {},
   "outputs": [],
   "source": [
    "Rf_matrix = Rf*e"
   ]
  },
  {
   "cell_type": "code",
   "execution_count": 332,
   "id": "89a2c5bf",
   "metadata": {
    "scrolled": true
   },
   "outputs": [
    {
     "data": {
      "text/plain": [
       "array([[ 0.56797218],\n",
       "       [-0.2140726 ],\n",
       "       [ 0.71410511],\n",
       "       [ 0.10408719],\n",
       "       [-0.36343817],\n",
       "       [-0.09546326],\n",
       "       [ 0.99164683],\n",
       "       [ 0.0755702 ],\n",
       "       [ 0.13264333],\n",
       "       [-0.91305081]])"
      ]
     },
     "execution_count": 332,
     "metadata": {},
     "output_type": "execute_result"
    }
   ],
   "source": [
    "portfolio_weight = lagrange_multiplier * np.dot(inverse_covariance_matrix , (R-Rf_matrix))\n",
    "\n",
    "portfolio_weight"
   ]
  },
  {
   "cell_type": "code",
   "execution_count": 333,
   "id": "10a14834",
   "metadata": {},
   "outputs": [
    {
     "data": {
      "text/plain": [
       "1.0000000000000013"
      ]
     },
     "execution_count": 333,
     "metadata": {},
     "output_type": "execute_result"
    }
   ],
   "source": [
    "np.sum(portfolio_weight)"
   ]
  },
  {
   "cell_type": "code",
   "execution_count": 334,
   "id": "031a2fd5",
   "metadata": {
    "scrolled": false
   },
   "outputs": [
    {
     "data": {
      "text/html": [
       "<div>\n",
       "<style scoped>\n",
       "    .dataframe tbody tr th:only-of-type {\n",
       "        vertical-align: middle;\n",
       "    }\n",
       "\n",
       "    .dataframe tbody tr th {\n",
       "        vertical-align: top;\n",
       "    }\n",
       "\n",
       "    .dataframe thead th {\n",
       "        text-align: right;\n",
       "    }\n",
       "</style>\n",
       "<table border=\"1\" class=\"dataframe\">\n",
       "  <thead>\n",
       "    <tr style=\"text-align: right;\">\n",
       "      <th></th>\n",
       "      <th>Industry_Portfolios</th>\n",
       "      <th>Mean Return</th>\n",
       "      <th>Standard Deviation</th>\n",
       "      <th>Porftolio Weight</th>\n",
       "    </tr>\n",
       "  </thead>\n",
       "  <tbody>\n",
       "    <tr>\n",
       "      <th>1</th>\n",
       "      <td>NoDur</td>\n",
       "      <td>0.902833</td>\n",
       "      <td>3.345657</td>\n",
       "      <td>0.567972</td>\n",
       "    </tr>\n",
       "    <tr>\n",
       "      <th>2</th>\n",
       "      <td>Durbl</td>\n",
       "      <td>0.733333</td>\n",
       "      <td>8.361852</td>\n",
       "      <td>-0.214073</td>\n",
       "    </tr>\n",
       "    <tr>\n",
       "      <th>3</th>\n",
       "      <td>Manuf</td>\n",
       "      <td>1.012833</td>\n",
       "      <td>5.310270</td>\n",
       "      <td>0.714105</td>\n",
       "    </tr>\n",
       "    <tr>\n",
       "      <th>4</th>\n",
       "      <td>Enrgy</td>\n",
       "      <td>1.231167</td>\n",
       "      <td>6.081524</td>\n",
       "      <td>0.104087</td>\n",
       "    </tr>\n",
       "    <tr>\n",
       "      <th>5</th>\n",
       "      <td>HiTec</td>\n",
       "      <td>0.766250</td>\n",
       "      <td>5.381191</td>\n",
       "      <td>-0.363438</td>\n",
       "    </tr>\n",
       "    <tr>\n",
       "      <th>6</th>\n",
       "      <td>Telcm</td>\n",
       "      <td>0.881417</td>\n",
       "      <td>4.448284</td>\n",
       "      <td>-0.095463</td>\n",
       "    </tr>\n",
       "    <tr>\n",
       "      <th>7</th>\n",
       "      <td>Shops</td>\n",
       "      <td>0.916333</td>\n",
       "      <td>4.093786</td>\n",
       "      <td>0.991647</td>\n",
       "    </tr>\n",
       "    <tr>\n",
       "      <th>8</th>\n",
       "      <td>Hlth</td>\n",
       "      <td>0.783833</td>\n",
       "      <td>3.787172</td>\n",
       "      <td>0.075570</td>\n",
       "    </tr>\n",
       "    <tr>\n",
       "      <th>9</th>\n",
       "      <td>Utils</td>\n",
       "      <td>0.907167</td>\n",
       "      <td>3.701763</td>\n",
       "      <td>0.132643</td>\n",
       "    </tr>\n",
       "    <tr>\n",
       "      <th>10</th>\n",
       "      <td>Other</td>\n",
       "      <td>0.489083</td>\n",
       "      <td>5.582452</td>\n",
       "      <td>-0.913051</td>\n",
       "    </tr>\n",
       "  </tbody>\n",
       "</table>\n",
       "</div>"
      ],
      "text/plain": [
       "   Industry_Portfolios  Mean Return  Standard Deviation  Porftolio Weight\n",
       "1                NoDur     0.902833            3.345657          0.567972\n",
       "2                Durbl     0.733333            8.361852         -0.214073\n",
       "3                Manuf     1.012833            5.310270          0.714105\n",
       "4                Enrgy     1.231167            6.081524          0.104087\n",
       "5                HiTec     0.766250            5.381191         -0.363438\n",
       "6                Telcm     0.881417            4.448284         -0.095463\n",
       "7                Shops     0.916333            4.093786          0.991647\n",
       "8                 Hlth     0.783833            3.787172          0.075570\n",
       "9                Utils     0.907167            3.701763          0.132643\n",
       "10               Other     0.489083            5.582452         -0.913051"
      ]
     },
     "execution_count": 334,
     "metadata": {},
     "output_type": "execute_result"
    }
   ],
   "source": [
    "data['Porftolio Weight'] = portfolio_weight\n",
    "\n",
    "data"
   ]
  },
  {
   "cell_type": "markdown",
   "id": "22cb5039",
   "metadata": {},
   "source": [
    "### Plot the minimum-variance frontier (without the riskless asset) generated by the ten industry portfolios & efficient frontier (with the riskless asset) on the same graph with risk-free rate 0.13%"
   ]
  },
  {
   "cell_type": "code",
   "execution_count": 367,
   "id": "9f4e8b04",
   "metadata": {
    "scrolled": false
   },
   "outputs": [
    {
     "data": {
      "image/png": "[encoded data removed]",
      "text/plain": [
       "<Figure size 640x480 with 1 Axes>"
      ]
     },
     "metadata": {},
     "output_type": "display_data"
    }
   ],
   "source": [
    "# Flatten Rp_range and std_dev to 1D arrays\n",
    "# Rp_range = Rp_range.flatten()\n",
    "# std_dev = std_dev.flatten()\n",
    "\n",
    "# Calculate the median value of Rp\n",
    "median_Rp = round(RMV.item(),2)\n",
    "\n",
    "# Split the data into two parts based on the median Rp value\n",
    "lower_half_indices = Rp_range <= median_Rp\n",
    "upper_half_indices = Rp_range >= median_Rp\n",
    "\n",
    "# Create a scatter plot for the lower half (dashed line)\n",
    "# plt.scatter(std_dev[lower_half_indices], Rp_range[lower_half_indices], marker='o', color='grey', label='Data Points (Dashed)')\n",
    "plt.plot(std_dev[lower_half_indices],\n",
    "         Rp_range[lower_half_indices],\n",
    "         color='red',\n",
    "         linestyle='--')\n",
    "\n",
    "# Create a scatter plot for the upper half (solid line)\n",
    "# plt.scatter(std_dev[upper_half_indices], Rp_range[upper_half_indices], marker='o', color='blue')\n",
    "plt.plot(std_dev[upper_half_indices],\n",
    "         Rp_range[upper_half_indices],\n",
    "         color='blue',\n",
    "         linestyle='-',\n",
    "         label='Minimum-variance frontier (without riskless asset)')\n",
    "\n",
    "# Draw a horizontal line at RMV\n",
    "plt.axhline(y=RMV, color='green', linestyle='dotted')\n",
    "\n",
    "# Find the index where the Sharpe ratio is maximized (tangent point)\n",
    "tangent_idx = np.argmax(sharpe_ratio)\n",
    "tangent_std_dev = std_dev[tangent_idx]\n",
    "tangent_return = Rp_range[tangent_idx]\n",
    "\n",
    "# Plot a linear line between using the Sharpe ratio as the slope\n",
    "linear_line = Rf + sharpe_ratio * CAL_x_axis\n",
    "plt.plot(CAL_x_axis, linear_line, color='gold', linestyle='-', label='Efficient frontier (with riskless asset)')\n",
    "\n",
    "# Plot the CAL tangent point\n",
    "plt.scatter(std_dev_tg, Rtg, color='red', marker='o')\n",
    "plt.annotate(f'Tangent \\n{round(std_dev_tg.item(),2),round(Rtg.item(),2)}'\n",
    "             , (std_dev_tg-0.4, Rtg)\n",
    "             , ha='center'\n",
    "             , fontsize=8\n",
    "             , weight='bold')\n",
    "\n",
    "# Set labels and title\n",
    "plt.xlabel('Standard Deviation of (Monthly) Return')\n",
    "plt.ylabel('Expected (Monthly) Return_Rp (%)')\n",
    "# plt.title('Efficient Frontier',\n",
    "#           weight='bold')\n",
    "\n",
    "# Set the Y-axis ticks with an increment of 0.1\n",
    "plt.yticks(np.arange(0, max(Rp_range) + 0.1, 0.1))\n",
    "\n",
    "# Set the X-axis ticks with an increment of 0.1\n",
    "plt.xticks(np.arange(0, max(std_dev) + 0.1, 0.5))\n",
    "\n",
    "# Label the y-axis at the RMV intersection point\n",
    "plt.text(0, RMV, 'RMV', ha='left', va='bottom', color='blue')\n",
    "plt.text(-0.4, Rf, f'Rf={Rf}', ha='right', va='bottom', color='blue')\n",
    "\n",
    "# Set the X-axis limits to start from 0\n",
    "plt.xlim(0, max(std_dev))  # Adjust the upper limit as needed\n",
    "plt.ylim(0, max(Rp_range))  # Adjust the upper limit as needed\n",
    "\n",
    "# Show the plot\n",
    "plt.legend(loc='lower center')\n",
    "plt.grid(True)\n",
    "plt.show()"
   ]
  },
  {
   "cell_type": "code",
   "execution_count": null,
   "id": "80666cb3",
   "metadata": {},
   "outputs": [],
   "source": []
  },
  {
   "cell_type": "code",
   "execution_count": null,
   "id": "23812647",
   "metadata": {},
   "outputs": [],
   "source": []
  }
 ],
 "metadata": {
  "kernelspec": {
   "display_name": "Python 3 (ipykernel)",
   "language": "python",
   "name": "python3"
  },
  "language_info": {
   "codemirror_mode": {
    "name": "ipython",
    "version": 3
   },
   "file_extension": ".py",
   "mimetype": "text/x-python",
   "name": "python",
   "nbconvert_exporter": "python",
   "pygments_lexer": "ipython3",
   "version": "3.11.3"
  }
 },
 "nbformat": 4,
 "nbformat_minor": 5
}
