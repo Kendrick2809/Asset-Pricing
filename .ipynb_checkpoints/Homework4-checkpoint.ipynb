{
 "cells": [
  {
   "cell_type": "code",
   "execution_count": 223,
   "id": "818377b4",
   "metadata": {},
   "outputs": [],
   "source": [
    "import numpy as np\n",
    "import matplotlib.pyplot as plt\n",
    "import pandas as pd\n",
    "import statsmodels.api as sm"
   ]
  },
  {
   "cell_type": "code",
   "execution_count": 224,
   "id": "64c56942",
   "metadata": {},
   "outputs": [],
   "source": [
    "# Create a list of file paths\n",
    "file_paths = ['Industry_Portfolios_raw.csv',\\\n",
    "              'Risk_Factors_raw.csv',\\\n",
    "              'Market_Portfolio_raw.csv']"
   ]
  },
  {
   "cell_type": "code",
   "execution_count": 225,
   "id": "a1c950c7",
   "metadata": {},
   "outputs": [],
   "source": [
    "# Create a dictionary to store DataFrames\n",
    "dataframes = {}"
   ]
  },
  {
   "cell_type": "code",
   "execution_count": 226,
   "id": "0c542ba0",
   "metadata": {},
   "outputs": [],
   "source": [
    "# Loop through the file paths and read CSV files\n",
    "for file_path in file_paths:\n",
    "    # Extract the file name without the extension as the DataFrame key\n",
    "    file_name = file_path.split('_raw')[0]\n",
    "    df = pd.read_csv(file_path)\n",
    "    dataframes[file_name] = df"
   ]
  },
  {
   "cell_type": "code",
   "execution_count": 227,
   "id": "b7d4295c",
   "metadata": {},
   "outputs": [],
   "source": [
    "data_frame_industry = dataframes['Industry_Portfolios']"
   ]
  },
  {
   "cell_type": "code",
   "execution_count": 228,
   "id": "7e84950f",
   "metadata": {},
   "outputs": [],
   "source": [
    "data_frame_market = dataframes['Market_Portfolio']"
   ]
  },
  {
   "cell_type": "code",
   "execution_count": 229,
   "id": "9adf073f",
   "metadata": {
    "scrolled": true
   },
   "outputs": [],
   "source": [
    "data_frame_deviation = data_frame_industry - data_frame_market "
   ]
  },
  {
   "cell_type": "code",
   "execution_count": 230,
   "id": "d2739707",
   "metadata": {},
   "outputs": [
    {
     "data": {
      "text/html": [
       "<div>\n",
       "<style scoped>\n",
       "    .dataframe tbody tr th:only-of-type {\n",
       "        vertical-align: middle;\n",
       "    }\n",
       "\n",
       "    .dataframe tbody tr th {\n",
       "        vertical-align: top;\n",
       "    }\n",
       "\n",
       "    .dataframe thead th {\n",
       "        text-align: right;\n",
       "    }\n",
       "</style>\n",
       "<table border=\"1\" class=\"dataframe\">\n",
       "  <thead>\n",
       "    <tr style=\"text-align: right;\">\n",
       "      <th></th>\n",
       "      <th>Date</th>\n",
       "      <th>NoDur</th>\n",
       "      <th>Durbl</th>\n",
       "      <th>Manuf</th>\n",
       "      <th>Enrgy</th>\n",
       "      <th>HiTec</th>\n",
       "      <th>Telcm</th>\n",
       "      <th>Shops</th>\n",
       "      <th>Hlth</th>\n",
       "      <th>Utils</th>\n",
       "      <th>Other</th>\n",
       "    </tr>\n",
       "  </thead>\n",
       "  <tbody>\n",
       "    <tr>\n",
       "      <th>0</th>\n",
       "      <td>200401</td>\n",
       "      <td>0.06</td>\n",
       "      <td>-1.07</td>\n",
       "      <td>-0.62</td>\n",
       "      <td>0.44</td>\n",
       "      <td>4.53</td>\n",
       "      <td>1.41</td>\n",
       "      <td>0.45</td>\n",
       "      <td>3.09</td>\n",
       "      <td>1.92</td>\n",
       "      <td>2.88</td>\n",
       "    </tr>\n",
       "    <tr>\n",
       "      <th>1</th>\n",
       "      <td>200402</td>\n",
       "      <td>4.25</td>\n",
       "      <td>-0.07</td>\n",
       "      <td>1.95</td>\n",
       "      <td>4.69</td>\n",
       "      <td>-2.92</td>\n",
       "      <td>-0.52</td>\n",
       "      <td>6.09</td>\n",
       "      <td>0.89</td>\n",
       "      <td>2.07</td>\n",
       "      <td>2.16</td>\n",
       "    </tr>\n",
       "    <tr>\n",
       "      <th>2</th>\n",
       "      <td>200403</td>\n",
       "      <td>-0.09</td>\n",
       "      <td>-1.15</td>\n",
       "      <td>-0.27</td>\n",
       "      <td>-0.13</td>\n",
       "      <td>-2.55</td>\n",
       "      <td>-2.07</td>\n",
       "      <td>0.29</td>\n",
       "      <td>-3.96</td>\n",
       "      <td>1.13</td>\n",
       "      <td>-0.63</td>\n",
       "    </tr>\n",
       "    <tr>\n",
       "      <th>3</th>\n",
       "      <td>200404</td>\n",
       "      <td>1.42</td>\n",
       "      <td>2.30</td>\n",
       "      <td>-0.17</td>\n",
       "      <td>2.52</td>\n",
       "      <td>-4.91</td>\n",
       "      <td>-0.48</td>\n",
       "      <td>-2.70</td>\n",
       "      <td>3.54</td>\n",
       "      <td>-3.55</td>\n",
       "      <td>-3.76</td>\n",
       "    </tr>\n",
       "    <tr>\n",
       "      <th>4</th>\n",
       "      <td>200405</td>\n",
       "      <td>-1.89</td>\n",
       "      <td>-1.64</td>\n",
       "      <td>1.61</td>\n",
       "      <td>0.39</td>\n",
       "      <td>4.85</td>\n",
       "      <td>-2.95</td>\n",
       "      <td>0.30</td>\n",
       "      <td>-0.42</td>\n",
       "      <td>1.28</td>\n",
       "      <td>1.86</td>\n",
       "    </tr>\n",
       "    <tr>\n",
       "      <th>...</th>\n",
       "      <td>...</td>\n",
       "      <td>...</td>\n",
       "      <td>...</td>\n",
       "      <td>...</td>\n",
       "      <td>...</td>\n",
       "      <td>...</td>\n",
       "      <td>...</td>\n",
       "      <td>...</td>\n",
       "      <td>...</td>\n",
       "      <td>...</td>\n",
       "      <td>...</td>\n",
       "    </tr>\n",
       "    <tr>\n",
       "      <th>115</th>\n",
       "      <td>201308</td>\n",
       "      <td>-4.00</td>\n",
       "      <td>-1.00</td>\n",
       "      <td>-1.95</td>\n",
       "      <td>-1.83</td>\n",
       "      <td>-0.12</td>\n",
       "      <td>-3.28</td>\n",
       "      <td>-4.21</td>\n",
       "      <td>-3.49</td>\n",
       "      <td>-4.43</td>\n",
       "      <td>-3.66</td>\n",
       "    </tr>\n",
       "    <tr>\n",
       "      <th>116</th>\n",
       "      <td>201309</td>\n",
       "      <td>1.94</td>\n",
       "      <td>6.46</td>\n",
       "      <td>5.20</td>\n",
       "      <td>2.03</td>\n",
       "      <td>3.77</td>\n",
       "      <td>4.33</td>\n",
       "      <td>4.46</td>\n",
       "      <td>4.19</td>\n",
       "      <td>1.05</td>\n",
       "      <td>3.83</td>\n",
       "    </tr>\n",
       "    <tr>\n",
       "      <th>117</th>\n",
       "      <td>201310</td>\n",
       "      <td>4.75</td>\n",
       "      <td>0.72</td>\n",
       "      <td>4.56</td>\n",
       "      <td>4.86</td>\n",
       "      <td>3.80</td>\n",
       "      <td>5.52</td>\n",
       "      <td>5.08</td>\n",
       "      <td>3.47</td>\n",
       "      <td>3.35</td>\n",
       "      <td>3.87</td>\n",
       "    </tr>\n",
       "    <tr>\n",
       "      <th>118</th>\n",
       "      <td>201311</td>\n",
       "      <td>1.29</td>\n",
       "      <td>1.81</td>\n",
       "      <td>2.95</td>\n",
       "      <td>0.85</td>\n",
       "      <td>3.65</td>\n",
       "      <td>0.27</td>\n",
       "      <td>3.67</td>\n",
       "      <td>4.54</td>\n",
       "      <td>-1.81</td>\n",
       "      <td>4.74</td>\n",
       "    </tr>\n",
       "    <tr>\n",
       "      <th>119</th>\n",
       "      <td>201312</td>\n",
       "      <td>2.65</td>\n",
       "      <td>1.18</td>\n",
       "      <td>3.13</td>\n",
       "      <td>2.95</td>\n",
       "      <td>4.04</td>\n",
       "      <td>3.96</td>\n",
       "      <td>0.20</td>\n",
       "      <td>0.71</td>\n",
       "      <td>1.79</td>\n",
       "      <td>3.11</td>\n",
       "    </tr>\n",
       "  </tbody>\n",
       "</table>\n",
       "<p>120 rows × 11 columns</p>\n",
       "</div>"
      ],
      "text/plain": [
       "       Date  NoDur  Durbl  Manuf  Enrgy  HiTec  Telcm  Shops  Hlth  Utils  \\\n",
       "0    200401   0.06  -1.07  -0.62   0.44   4.53   1.41   0.45  3.09   1.92   \n",
       "1    200402   4.25  -0.07   1.95   4.69  -2.92  -0.52   6.09  0.89   2.07   \n",
       "2    200403  -0.09  -1.15  -0.27  -0.13  -2.55  -2.07   0.29 -3.96   1.13   \n",
       "3    200404   1.42   2.30  -0.17   2.52  -4.91  -0.48  -2.70  3.54  -3.55   \n",
       "4    200405  -1.89  -1.64   1.61   0.39   4.85  -2.95   0.30 -0.42   1.28   \n",
       "..      ...    ...    ...    ...    ...    ...    ...    ...   ...    ...   \n",
       "115  201308  -4.00  -1.00  -1.95  -1.83  -0.12  -3.28  -4.21 -3.49  -4.43   \n",
       "116  201309   1.94   6.46   5.20   2.03   3.77   4.33   4.46  4.19   1.05   \n",
       "117  201310   4.75   0.72   4.56   4.86   3.80   5.52   5.08  3.47   3.35   \n",
       "118  201311   1.29   1.81   2.95   0.85   3.65   0.27   3.67  4.54  -1.81   \n",
       "119  201312   2.65   1.18   3.13   2.95   4.04   3.96   0.20  0.71   1.79   \n",
       "\n",
       "     Other  \n",
       "0     2.88  \n",
       "1     2.16  \n",
       "2    -0.63  \n",
       "3    -3.76  \n",
       "4     1.86  \n",
       "..     ...  \n",
       "115  -3.66  \n",
       "116   3.83  \n",
       "117   3.87  \n",
       "118   4.74  \n",
       "119   3.11  \n",
       "\n",
       "[120 rows x 11 columns]"
      ]
     },
     "execution_count": 230,
     "metadata": {},
     "output_type": "execute_result"
    }
   ],
   "source": [
    "data_frame_industry"
   ]
  },
  {
   "cell_type": "code",
   "execution_count": 231,
   "id": "b29600aa",
   "metadata": {
    "scrolled": true
   },
   "outputs": [
    {
     "data": {
      "text/plain": [
       "NoDur    0.902833\n",
       "Durbl    0.733333\n",
       "Manuf    1.012833\n",
       "Enrgy    1.231167\n",
       "HiTec    0.766250\n",
       "Telcm    0.881417\n",
       "Shops    0.916333\n",
       "Hlth     0.783833\n",
       "Utils    0.907167\n",
       "Other    0.489083\n",
       "dtype: float64"
      ]
     },
     "execution_count": 231,
     "metadata": {},
     "output_type": "execute_result"
    }
   ],
   "source": [
    "industry_mean = data_frame_industry.drop('Date', axis=1).mean()\n",
    "industry_mean"
   ]
  },
  {
   "cell_type": "code",
   "execution_count": 232,
   "id": "c84e76a7",
   "metadata": {},
   "outputs": [
    {
     "data": {
      "text/html": [
       "<div>\n",
       "<style scoped>\n",
       "    .dataframe tbody tr th:only-of-type {\n",
       "        vertical-align: middle;\n",
       "    }\n",
       "\n",
       "    .dataframe tbody tr th {\n",
       "        vertical-align: top;\n",
       "    }\n",
       "\n",
       "    .dataframe thead th {\n",
       "        text-align: right;\n",
       "    }\n",
       "</style>\n",
       "<table border=\"1\" class=\"dataframe\">\n",
       "  <thead>\n",
       "    <tr style=\"text-align: right;\">\n",
       "      <th></th>\n",
       "      <th>NoDur</th>\n",
       "      <th>Durbl</th>\n",
       "      <th>Manuf</th>\n",
       "      <th>Enrgy</th>\n",
       "      <th>HiTec</th>\n",
       "      <th>Telcm</th>\n",
       "      <th>Shops</th>\n",
       "      <th>Hlth</th>\n",
       "      <th>Utils</th>\n",
       "      <th>Other</th>\n",
       "    </tr>\n",
       "  </thead>\n",
       "  <tbody>\n",
       "    <tr>\n",
       "      <th>NoDur</th>\n",
       "      <td>11.193422</td>\n",
       "      <td>18.449666</td>\n",
       "      <td>14.104907</td>\n",
       "      <td>10.531341</td>\n",
       "      <td>12.922949</td>\n",
       "      <td>11.968078</td>\n",
       "      <td>10.170832</td>\n",
       "      <td>9.953112</td>\n",
       "      <td>7.866653</td>\n",
       "      <td>14.438409</td>\n",
       "    </tr>\n",
       "    <tr>\n",
       "      <th>Durbl</th>\n",
       "      <td>18.449666</td>\n",
       "      <td>69.920577</td>\n",
       "      <td>39.178097</td>\n",
       "      <td>27.019794</td>\n",
       "      <td>35.466652</td>\n",
       "      <td>27.490543</td>\n",
       "      <td>27.444731</td>\n",
       "      <td>16.824003</td>\n",
       "      <td>12.746136</td>\n",
       "      <td>39.361987</td>\n",
       "    </tr>\n",
       "    <tr>\n",
       "      <th>Manuf</th>\n",
       "      <td>14.104907</td>\n",
       "      <td>39.178097</td>\n",
       "      <td>28.198970</td>\n",
       "      <td>23.145380</td>\n",
       "      <td>24.618739</td>\n",
       "      <td>19.550150</td>\n",
       "      <td>17.622867</td>\n",
       "      <td>13.596447</td>\n",
       "      <td>11.440612</td>\n",
       "      <td>26.313423</td>\n",
       "    </tr>\n",
       "    <tr>\n",
       "      <th>Enrgy</th>\n",
       "      <td>10.531341</td>\n",
       "      <td>27.019794</td>\n",
       "      <td>23.145380</td>\n",
       "      <td>36.984933</td>\n",
       "      <td>19.267276</td>\n",
       "      <td>15.366817</td>\n",
       "      <td>11.297800</td>\n",
       "      <td>9.630327</td>\n",
       "      <td>14.027168</td>\n",
       "      <td>18.320469</td>\n",
       "    </tr>\n",
       "    <tr>\n",
       "      <th>HiTec</th>\n",
       "      <td>12.922949</td>\n",
       "      <td>35.466652</td>\n",
       "      <td>24.618739</td>\n",
       "      <td>19.267276</td>\n",
       "      <td>28.957220</td>\n",
       "      <td>18.708273</td>\n",
       "      <td>17.837115</td>\n",
       "      <td>13.254064</td>\n",
       "      <td>10.304187</td>\n",
       "      <td>23.855470</td>\n",
       "    </tr>\n",
       "    <tr>\n",
       "      <th>Telcm</th>\n",
       "      <td>11.968078</td>\n",
       "      <td>27.490543</td>\n",
       "      <td>19.550150</td>\n",
       "      <td>15.366817</td>\n",
       "      <td>18.708273</td>\n",
       "      <td>19.787227</td>\n",
       "      <td>14.169356</td>\n",
       "      <td>11.506599</td>\n",
       "      <td>10.991596</td>\n",
       "      <td>19.610836</td>\n",
       "    </tr>\n",
       "    <tr>\n",
       "      <th>Shops</th>\n",
       "      <td>10.170832</td>\n",
       "      <td>27.444731</td>\n",
       "      <td>17.622867</td>\n",
       "      <td>11.297800</td>\n",
       "      <td>17.837115</td>\n",
       "      <td>14.169356</td>\n",
       "      <td>16.759084</td>\n",
       "      <td>10.178849</td>\n",
       "      <td>6.694350</td>\n",
       "      <td>19.226524</td>\n",
       "    </tr>\n",
       "    <tr>\n",
       "      <th>Hlth</th>\n",
       "      <td>9.953112</td>\n",
       "      <td>16.824003</td>\n",
       "      <td>13.596447</td>\n",
       "      <td>9.630327</td>\n",
       "      <td>13.254064</td>\n",
       "      <td>11.506599</td>\n",
       "      <td>10.178849</td>\n",
       "      <td>14.342669</td>\n",
       "      <td>7.475036</td>\n",
       "      <td>14.864553</td>\n",
       "    </tr>\n",
       "    <tr>\n",
       "      <th>Utils</th>\n",
       "      <td>7.866653</td>\n",
       "      <td>12.746136</td>\n",
       "      <td>11.440612</td>\n",
       "      <td>14.027168</td>\n",
       "      <td>10.304187</td>\n",
       "      <td>10.991596</td>\n",
       "      <td>6.694350</td>\n",
       "      <td>7.475036</td>\n",
       "      <td>13.703052</td>\n",
       "      <td>9.992960</td>\n",
       "    </tr>\n",
       "    <tr>\n",
       "      <th>Other</th>\n",
       "      <td>14.438409</td>\n",
       "      <td>39.361987</td>\n",
       "      <td>26.313423</td>\n",
       "      <td>18.320469</td>\n",
       "      <td>23.855470</td>\n",
       "      <td>19.610836</td>\n",
       "      <td>19.226524</td>\n",
       "      <td>14.864553</td>\n",
       "      <td>9.992960</td>\n",
       "      <td>31.163771</td>\n",
       "    </tr>\n",
       "  </tbody>\n",
       "</table>\n",
       "</div>"
      ],
      "text/plain": [
       "           NoDur      Durbl      Manuf      Enrgy      HiTec      Telcm  \\\n",
       "NoDur  11.193422  18.449666  14.104907  10.531341  12.922949  11.968078   \n",
       "Durbl  18.449666  69.920577  39.178097  27.019794  35.466652  27.490543   \n",
       "Manuf  14.104907  39.178097  28.198970  23.145380  24.618739  19.550150   \n",
       "Enrgy  10.531341  27.019794  23.145380  36.984933  19.267276  15.366817   \n",
       "HiTec  12.922949  35.466652  24.618739  19.267276  28.957220  18.708273   \n",
       "Telcm  11.968078  27.490543  19.550150  15.366817  18.708273  19.787227   \n",
       "Shops  10.170832  27.444731  17.622867  11.297800  17.837115  14.169356   \n",
       "Hlth    9.953112  16.824003  13.596447   9.630327  13.254064  11.506599   \n",
       "Utils   7.866653  12.746136  11.440612  14.027168  10.304187  10.991596   \n",
       "Other  14.438409  39.361987  26.313423  18.320469  23.855470  19.610836   \n",
       "\n",
       "           Shops       Hlth      Utils      Other  \n",
       "NoDur  10.170832   9.953112   7.866653  14.438409  \n",
       "Durbl  27.444731  16.824003  12.746136  39.361987  \n",
       "Manuf  17.622867  13.596447  11.440612  26.313423  \n",
       "Enrgy  11.297800   9.630327  14.027168  18.320469  \n",
       "HiTec  17.837115  13.254064  10.304187  23.855470  \n",
       "Telcm  14.169356  11.506599  10.991596  19.610836  \n",
       "Shops  16.759084  10.178849   6.694350  19.226524  \n",
       "Hlth   10.178849  14.342669   7.475036  14.864553  \n",
       "Utils   6.694350   7.475036  13.703052   9.992960  \n",
       "Other  19.226524  14.864553   9.992960  31.163771  "
      ]
     },
     "execution_count": 232,
     "metadata": {},
     "output_type": "execute_result"
    }
   ],
   "source": [
    "industry_covariance = data_frame_industry.drop('Date', axis=1).cov()\n",
    "industry_covariance"
   ]
  },
  {
   "cell_type": "code",
   "execution_count": 233,
   "id": "246cbe98",
   "metadata": {},
   "outputs": [
    {
     "data": {
      "text/html": [
       "<div>\n",
       "<style scoped>\n",
       "    .dataframe tbody tr th:only-of-type {\n",
       "        vertical-align: middle;\n",
       "    }\n",
       "\n",
       "    .dataframe tbody tr th {\n",
       "        vertical-align: top;\n",
       "    }\n",
       "\n",
       "    .dataframe thead th {\n",
       "        text-align: right;\n",
       "    }\n",
       "</style>\n",
       "<table border=\"1\" class=\"dataframe\">\n",
       "  <thead>\n",
       "    <tr style=\"text-align: right;\">\n",
       "      <th></th>\n",
       "      <th>Market</th>\n",
       "    </tr>\n",
       "  </thead>\n",
       "  <tbody>\n",
       "    <tr>\n",
       "      <th>0</th>\n",
       "      <td>2.22</td>\n",
       "    </tr>\n",
       "    <tr>\n",
       "      <th>1</th>\n",
       "      <td>1.46</td>\n",
       "    </tr>\n",
       "    <tr>\n",
       "      <th>2</th>\n",
       "      <td>-1.23</td>\n",
       "    </tr>\n",
       "    <tr>\n",
       "      <th>3</th>\n",
       "      <td>-1.75</td>\n",
       "    </tr>\n",
       "    <tr>\n",
       "      <th>4</th>\n",
       "      <td>1.23</td>\n",
       "    </tr>\n",
       "    <tr>\n",
       "      <th>...</th>\n",
       "      <td>...</td>\n",
       "    </tr>\n",
       "    <tr>\n",
       "      <th>115</th>\n",
       "      <td>-2.69</td>\n",
       "    </tr>\n",
       "    <tr>\n",
       "      <th>116</th>\n",
       "      <td>3.76</td>\n",
       "    </tr>\n",
       "    <tr>\n",
       "      <th>117</th>\n",
       "      <td>4.17</td>\n",
       "    </tr>\n",
       "    <tr>\n",
       "      <th>118</th>\n",
       "      <td>3.12</td>\n",
       "    </tr>\n",
       "    <tr>\n",
       "      <th>119</th>\n",
       "      <td>2.81</td>\n",
       "    </tr>\n",
       "  </tbody>\n",
       "</table>\n",
       "<p>120 rows × 1 columns</p>\n",
       "</div>"
      ],
      "text/plain": [
       "     Market\n",
       "0      2.22\n",
       "1      1.46\n",
       "2     -1.23\n",
       "3     -1.75\n",
       "4      1.23\n",
       "..      ...\n",
       "115   -2.69\n",
       "116    3.76\n",
       "117    4.17\n",
       "118    3.12\n",
       "119    2.81\n",
       "\n",
       "[120 rows x 1 columns]"
      ]
     },
     "execution_count": 233,
     "metadata": {},
     "output_type": "execute_result"
    }
   ],
   "source": [
    "market_mean_return_df = data_frame_market.drop('Date', axis=1)\n",
    "market_mean_return_df"
   ]
  },
  {
   "cell_type": "code",
   "execution_count": 234,
   "id": "d9f271d2",
   "metadata": {},
   "outputs": [],
   "source": [
    "def calculate_deviation(data_frame, data_frame_target, df_target_column_name):\n",
    "    # Exclude the 'Date' column\n",
    "    columns_to_subtract = data_frame.columns[1:]\n",
    "    \n",
    "    # Subtract the 'Rf' column from the selected columns\n",
    "    deviation = data_frame[columns_to_subtract].sub(data_frame_target[df_target_column_name], axis=0)\n",
    "    \n",
    "    # Add the 'Date' column back to the result as the first column\n",
    "    deviation.insert(0, 'Date', data_frame['Date'])\n",
    "    \n",
    "    return deviation\n",
    "\n",
    "# Assuming you have loaded data_frame_riskfactor, data_frame_industry, and data_frame_market\n",
    "\n",
    "# Calculate excess return for industry\n",
    "industry_expected_deviation = calculate_deviation(data_frame_industry, data_frame_market, 'Market')\n"
   ]
  },
  {
   "cell_type": "code",
   "execution_count": 235,
   "id": "35ce1011",
   "metadata": {},
   "outputs": [
    {
     "data": {
      "text/html": [
       "<div>\n",
       "<style scoped>\n",
       "    .dataframe tbody tr th:only-of-type {\n",
       "        vertical-align: middle;\n",
       "    }\n",
       "\n",
       "    .dataframe tbody tr th {\n",
       "        vertical-align: top;\n",
       "    }\n",
       "\n",
       "    .dataframe thead th {\n",
       "        text-align: right;\n",
       "    }\n",
       "</style>\n",
       "<table border=\"1\" class=\"dataframe\">\n",
       "  <thead>\n",
       "    <tr style=\"text-align: right;\">\n",
       "      <th></th>\n",
       "      <th>Date</th>\n",
       "      <th>NoDur</th>\n",
       "      <th>Durbl</th>\n",
       "      <th>Manuf</th>\n",
       "      <th>Enrgy</th>\n",
       "      <th>HiTec</th>\n",
       "      <th>Telcm</th>\n",
       "      <th>Shops</th>\n",
       "      <th>Hlth</th>\n",
       "      <th>Utils</th>\n",
       "      <th>Other</th>\n",
       "    </tr>\n",
       "  </thead>\n",
       "  <tbody>\n",
       "    <tr>\n",
       "      <th>0</th>\n",
       "      <td>200401</td>\n",
       "      <td>-2.16</td>\n",
       "      <td>-3.29</td>\n",
       "      <td>-2.84</td>\n",
       "      <td>-1.78</td>\n",
       "      <td>2.31</td>\n",
       "      <td>-0.81</td>\n",
       "      <td>-1.77</td>\n",
       "      <td>0.87</td>\n",
       "      <td>-0.30</td>\n",
       "      <td>0.66</td>\n",
       "    </tr>\n",
       "    <tr>\n",
       "      <th>1</th>\n",
       "      <td>200402</td>\n",
       "      <td>2.79</td>\n",
       "      <td>-1.53</td>\n",
       "      <td>0.49</td>\n",
       "      <td>3.23</td>\n",
       "      <td>-4.38</td>\n",
       "      <td>-1.98</td>\n",
       "      <td>4.63</td>\n",
       "      <td>-0.57</td>\n",
       "      <td>0.61</td>\n",
       "      <td>0.70</td>\n",
       "    </tr>\n",
       "    <tr>\n",
       "      <th>2</th>\n",
       "      <td>200403</td>\n",
       "      <td>1.14</td>\n",
       "      <td>0.08</td>\n",
       "      <td>0.96</td>\n",
       "      <td>1.10</td>\n",
       "      <td>-1.32</td>\n",
       "      <td>-0.84</td>\n",
       "      <td>1.52</td>\n",
       "      <td>-2.73</td>\n",
       "      <td>2.36</td>\n",
       "      <td>0.60</td>\n",
       "    </tr>\n",
       "    <tr>\n",
       "      <th>3</th>\n",
       "      <td>200404</td>\n",
       "      <td>3.17</td>\n",
       "      <td>4.05</td>\n",
       "      <td>1.58</td>\n",
       "      <td>4.27</td>\n",
       "      <td>-3.16</td>\n",
       "      <td>1.27</td>\n",
       "      <td>-0.95</td>\n",
       "      <td>5.29</td>\n",
       "      <td>-1.80</td>\n",
       "      <td>-2.01</td>\n",
       "    </tr>\n",
       "    <tr>\n",
       "      <th>4</th>\n",
       "      <td>200405</td>\n",
       "      <td>-3.12</td>\n",
       "      <td>-2.87</td>\n",
       "      <td>0.38</td>\n",
       "      <td>-0.84</td>\n",
       "      <td>3.62</td>\n",
       "      <td>-4.18</td>\n",
       "      <td>-0.93</td>\n",
       "      <td>-1.65</td>\n",
       "      <td>0.05</td>\n",
       "      <td>0.63</td>\n",
       "    </tr>\n",
       "    <tr>\n",
       "      <th>...</th>\n",
       "      <td>...</td>\n",
       "      <td>...</td>\n",
       "      <td>...</td>\n",
       "      <td>...</td>\n",
       "      <td>...</td>\n",
       "      <td>...</td>\n",
       "      <td>...</td>\n",
       "      <td>...</td>\n",
       "      <td>...</td>\n",
       "      <td>...</td>\n",
       "      <td>...</td>\n",
       "    </tr>\n",
       "    <tr>\n",
       "      <th>115</th>\n",
       "      <td>201308</td>\n",
       "      <td>-1.31</td>\n",
       "      <td>1.69</td>\n",
       "      <td>0.74</td>\n",
       "      <td>0.86</td>\n",
       "      <td>2.57</td>\n",
       "      <td>-0.59</td>\n",
       "      <td>-1.52</td>\n",
       "      <td>-0.80</td>\n",
       "      <td>-1.74</td>\n",
       "      <td>-0.97</td>\n",
       "    </tr>\n",
       "    <tr>\n",
       "      <th>116</th>\n",
       "      <td>201309</td>\n",
       "      <td>-1.82</td>\n",
       "      <td>2.70</td>\n",
       "      <td>1.44</td>\n",
       "      <td>-1.73</td>\n",
       "      <td>0.01</td>\n",
       "      <td>0.57</td>\n",
       "      <td>0.70</td>\n",
       "      <td>0.43</td>\n",
       "      <td>-2.71</td>\n",
       "      <td>0.07</td>\n",
       "    </tr>\n",
       "    <tr>\n",
       "      <th>117</th>\n",
       "      <td>201310</td>\n",
       "      <td>0.58</td>\n",
       "      <td>-3.45</td>\n",
       "      <td>0.39</td>\n",
       "      <td>0.69</td>\n",
       "      <td>-0.37</td>\n",
       "      <td>1.35</td>\n",
       "      <td>0.91</td>\n",
       "      <td>-0.70</td>\n",
       "      <td>-0.82</td>\n",
       "      <td>-0.30</td>\n",
       "    </tr>\n",
       "    <tr>\n",
       "      <th>118</th>\n",
       "      <td>201311</td>\n",
       "      <td>-1.83</td>\n",
       "      <td>-1.31</td>\n",
       "      <td>-0.17</td>\n",
       "      <td>-2.27</td>\n",
       "      <td>0.53</td>\n",
       "      <td>-2.85</td>\n",
       "      <td>0.55</td>\n",
       "      <td>1.42</td>\n",
       "      <td>-4.93</td>\n",
       "      <td>1.62</td>\n",
       "    </tr>\n",
       "    <tr>\n",
       "      <th>119</th>\n",
       "      <td>201312</td>\n",
       "      <td>-0.16</td>\n",
       "      <td>-1.63</td>\n",
       "      <td>0.32</td>\n",
       "      <td>0.14</td>\n",
       "      <td>1.23</td>\n",
       "      <td>1.15</td>\n",
       "      <td>-2.61</td>\n",
       "      <td>-2.10</td>\n",
       "      <td>-1.02</td>\n",
       "      <td>0.30</td>\n",
       "    </tr>\n",
       "  </tbody>\n",
       "</table>\n",
       "<p>120 rows × 11 columns</p>\n",
       "</div>"
      ],
      "text/plain": [
       "       Date  NoDur  Durbl  Manuf  Enrgy  HiTec  Telcm  Shops  Hlth  Utils  \\\n",
       "0    200401  -2.16  -3.29  -2.84  -1.78   2.31  -0.81  -1.77  0.87  -0.30   \n",
       "1    200402   2.79  -1.53   0.49   3.23  -4.38  -1.98   4.63 -0.57   0.61   \n",
       "2    200403   1.14   0.08   0.96   1.10  -1.32  -0.84   1.52 -2.73   2.36   \n",
       "3    200404   3.17   4.05   1.58   4.27  -3.16   1.27  -0.95  5.29  -1.80   \n",
       "4    200405  -3.12  -2.87   0.38  -0.84   3.62  -4.18  -0.93 -1.65   0.05   \n",
       "..      ...    ...    ...    ...    ...    ...    ...    ...   ...    ...   \n",
       "115  201308  -1.31   1.69   0.74   0.86   2.57  -0.59  -1.52 -0.80  -1.74   \n",
       "116  201309  -1.82   2.70   1.44  -1.73   0.01   0.57   0.70  0.43  -2.71   \n",
       "117  201310   0.58  -3.45   0.39   0.69  -0.37   1.35   0.91 -0.70  -0.82   \n",
       "118  201311  -1.83  -1.31  -0.17  -2.27   0.53  -2.85   0.55  1.42  -4.93   \n",
       "119  201312  -0.16  -1.63   0.32   0.14   1.23   1.15  -2.61 -2.10  -1.02   \n",
       "\n",
       "     Other  \n",
       "0     0.66  \n",
       "1     0.70  \n",
       "2     0.60  \n",
       "3    -2.01  \n",
       "4     0.63  \n",
       "..     ...  \n",
       "115  -0.97  \n",
       "116   0.07  \n",
       "117  -0.30  \n",
       "118   1.62  \n",
       "119   0.30  \n",
       "\n",
       "[120 rows x 11 columns]"
      ]
     },
     "execution_count": 235,
     "metadata": {},
     "output_type": "execute_result"
    }
   ],
   "source": [
    "industry_expected_deviation"
   ]
  },
  {
   "cell_type": "code",
   "execution_count": 236,
   "id": "e8e91219",
   "metadata": {
    "scrolled": true
   },
   "outputs": [
    {
     "data": {
      "text/html": [
       "<div>\n",
       "<style scoped>\n",
       "    .dataframe tbody tr th:only-of-type {\n",
       "        vertical-align: middle;\n",
       "    }\n",
       "\n",
       "    .dataframe tbody tr th {\n",
       "        vertical-align: top;\n",
       "    }\n",
       "\n",
       "    .dataframe thead th {\n",
       "        text-align: right;\n",
       "    }\n",
       "</style>\n",
       "<table border=\"1\" class=\"dataframe\">\n",
       "  <thead>\n",
       "    <tr style=\"text-align: right;\">\n",
       "      <th></th>\n",
       "      <th>NoDur</th>\n",
       "      <th>Durbl</th>\n",
       "      <th>Manuf</th>\n",
       "      <th>Enrgy</th>\n",
       "      <th>HiTec</th>\n",
       "      <th>Telcm</th>\n",
       "      <th>Shops</th>\n",
       "      <th>Hlth</th>\n",
       "      <th>Utils</th>\n",
       "      <th>Other</th>\n",
       "    </tr>\n",
       "  </thead>\n",
       "  <tbody>\n",
       "    <tr>\n",
       "      <th>0</th>\n",
       "      <td>-2.16</td>\n",
       "      <td>-3.29</td>\n",
       "      <td>-2.84</td>\n",
       "      <td>-1.78</td>\n",
       "      <td>2.31</td>\n",
       "      <td>-0.81</td>\n",
       "      <td>-1.77</td>\n",
       "      <td>0.87</td>\n",
       "      <td>-0.30</td>\n",
       "      <td>0.66</td>\n",
       "    </tr>\n",
       "    <tr>\n",
       "      <th>1</th>\n",
       "      <td>2.79</td>\n",
       "      <td>-1.53</td>\n",
       "      <td>0.49</td>\n",
       "      <td>3.23</td>\n",
       "      <td>-4.38</td>\n",
       "      <td>-1.98</td>\n",
       "      <td>4.63</td>\n",
       "      <td>-0.57</td>\n",
       "      <td>0.61</td>\n",
       "      <td>0.70</td>\n",
       "    </tr>\n",
       "    <tr>\n",
       "      <th>2</th>\n",
       "      <td>1.14</td>\n",
       "      <td>0.08</td>\n",
       "      <td>0.96</td>\n",
       "      <td>1.10</td>\n",
       "      <td>-1.32</td>\n",
       "      <td>-0.84</td>\n",
       "      <td>1.52</td>\n",
       "      <td>-2.73</td>\n",
       "      <td>2.36</td>\n",
       "      <td>0.60</td>\n",
       "    </tr>\n",
       "    <tr>\n",
       "      <th>3</th>\n",
       "      <td>3.17</td>\n",
       "      <td>4.05</td>\n",
       "      <td>1.58</td>\n",
       "      <td>4.27</td>\n",
       "      <td>-3.16</td>\n",
       "      <td>1.27</td>\n",
       "      <td>-0.95</td>\n",
       "      <td>5.29</td>\n",
       "      <td>-1.80</td>\n",
       "      <td>-2.01</td>\n",
       "    </tr>\n",
       "    <tr>\n",
       "      <th>4</th>\n",
       "      <td>-3.12</td>\n",
       "      <td>-2.87</td>\n",
       "      <td>0.38</td>\n",
       "      <td>-0.84</td>\n",
       "      <td>3.62</td>\n",
       "      <td>-4.18</td>\n",
       "      <td>-0.93</td>\n",
       "      <td>-1.65</td>\n",
       "      <td>0.05</td>\n",
       "      <td>0.63</td>\n",
       "    </tr>\n",
       "    <tr>\n",
       "      <th>...</th>\n",
       "      <td>...</td>\n",
       "      <td>...</td>\n",
       "      <td>...</td>\n",
       "      <td>...</td>\n",
       "      <td>...</td>\n",
       "      <td>...</td>\n",
       "      <td>...</td>\n",
       "      <td>...</td>\n",
       "      <td>...</td>\n",
       "      <td>...</td>\n",
       "    </tr>\n",
       "    <tr>\n",
       "      <th>115</th>\n",
       "      <td>-1.31</td>\n",
       "      <td>1.69</td>\n",
       "      <td>0.74</td>\n",
       "      <td>0.86</td>\n",
       "      <td>2.57</td>\n",
       "      <td>-0.59</td>\n",
       "      <td>-1.52</td>\n",
       "      <td>-0.80</td>\n",
       "      <td>-1.74</td>\n",
       "      <td>-0.97</td>\n",
       "    </tr>\n",
       "    <tr>\n",
       "      <th>116</th>\n",
       "      <td>-1.82</td>\n",
       "      <td>2.70</td>\n",
       "      <td>1.44</td>\n",
       "      <td>-1.73</td>\n",
       "      <td>0.01</td>\n",
       "      <td>0.57</td>\n",
       "      <td>0.70</td>\n",
       "      <td>0.43</td>\n",
       "      <td>-2.71</td>\n",
       "      <td>0.07</td>\n",
       "    </tr>\n",
       "    <tr>\n",
       "      <th>117</th>\n",
       "      <td>0.58</td>\n",
       "      <td>-3.45</td>\n",
       "      <td>0.39</td>\n",
       "      <td>0.69</td>\n",
       "      <td>-0.37</td>\n",
       "      <td>1.35</td>\n",
       "      <td>0.91</td>\n",
       "      <td>-0.70</td>\n",
       "      <td>-0.82</td>\n",
       "      <td>-0.30</td>\n",
       "    </tr>\n",
       "    <tr>\n",
       "      <th>118</th>\n",
       "      <td>-1.83</td>\n",
       "      <td>-1.31</td>\n",
       "      <td>-0.17</td>\n",
       "      <td>-2.27</td>\n",
       "      <td>0.53</td>\n",
       "      <td>-2.85</td>\n",
       "      <td>0.55</td>\n",
       "      <td>1.42</td>\n",
       "      <td>-4.93</td>\n",
       "      <td>1.62</td>\n",
       "    </tr>\n",
       "    <tr>\n",
       "      <th>119</th>\n",
       "      <td>-0.16</td>\n",
       "      <td>-1.63</td>\n",
       "      <td>0.32</td>\n",
       "      <td>0.14</td>\n",
       "      <td>1.23</td>\n",
       "      <td>1.15</td>\n",
       "      <td>-2.61</td>\n",
       "      <td>-2.10</td>\n",
       "      <td>-1.02</td>\n",
       "      <td>0.30</td>\n",
       "    </tr>\n",
       "  </tbody>\n",
       "</table>\n",
       "<p>120 rows × 10 columns</p>\n",
       "</div>"
      ],
      "text/plain": [
       "     NoDur  Durbl  Manuf  Enrgy  HiTec  Telcm  Shops  Hlth  Utils  Other\n",
       "0    -2.16  -3.29  -2.84  -1.78   2.31  -0.81  -1.77  0.87  -0.30   0.66\n",
       "1     2.79  -1.53   0.49   3.23  -4.38  -1.98   4.63 -0.57   0.61   0.70\n",
       "2     1.14   0.08   0.96   1.10  -1.32  -0.84   1.52 -2.73   2.36   0.60\n",
       "3     3.17   4.05   1.58   4.27  -3.16   1.27  -0.95  5.29  -1.80  -2.01\n",
       "4    -3.12  -2.87   0.38  -0.84   3.62  -4.18  -0.93 -1.65   0.05   0.63\n",
       "..     ...    ...    ...    ...    ...    ...    ...   ...    ...    ...\n",
       "115  -1.31   1.69   0.74   0.86   2.57  -0.59  -1.52 -0.80  -1.74  -0.97\n",
       "116  -1.82   2.70   1.44  -1.73   0.01   0.57   0.70  0.43  -2.71   0.07\n",
       "117   0.58  -3.45   0.39   0.69  -0.37   1.35   0.91 -0.70  -0.82  -0.30\n",
       "118  -1.83  -1.31  -0.17  -2.27   0.53  -2.85   0.55  1.42  -4.93   1.62\n",
       "119  -0.16  -1.63   0.32   0.14   1.23   1.15  -2.61 -2.10  -1.02   0.30\n",
       "\n",
       "[120 rows x 10 columns]"
      ]
     },
     "execution_count": 236,
     "metadata": {},
     "output_type": "execute_result"
    }
   ],
   "source": [
    "selected_columns = industry_expected_deviation.drop('Date', axis=1)\n",
    "selected_columns"
   ]
  },
  {
   "cell_type": "code",
   "execution_count": 237,
   "id": "85fc4dd4",
   "metadata": {
    "scrolled": true
   },
   "outputs": [
    {
     "data": {
      "text/plain": [
       "array(['NoDur', 'Durbl', 'Manuf', 'Enrgy', 'HiTec', 'Telcm', 'Shops',\n",
       "       'Hlth', 'Utils', 'Other'], dtype=object)"
      ]
     },
     "execution_count": 237,
     "metadata": {},
     "output_type": "execute_result"
    }
   ],
   "source": [
    "ten_industry_portfolios = selected_columns.columns.to_numpy()\n",
    "ten_industry_portfolios"
   ]
  },
  {
   "cell_type": "code",
   "execution_count": 238,
   "id": "f7e862e0",
   "metadata": {},
   "outputs": [
    {
     "data": {
      "text/plain": [
       "NoDur    0.154750\n",
       "Durbl   -0.014750\n",
       "Manuf    0.264750\n",
       "Enrgy    0.483083\n",
       "HiTec    0.018167\n",
       "Telcm    0.133333\n",
       "Shops    0.168250\n",
       "Hlth     0.035750\n",
       "Utils    0.159083\n",
       "Other   -0.259000\n",
       "dtype: float64"
      ]
     },
     "execution_count": 238,
     "metadata": {},
     "output_type": "execute_result"
    }
   ],
   "source": [
    "return_averages = selected_columns.mean()\n",
    "return_averages"
   ]
  },
  {
   "cell_type": "code",
   "execution_count": 239,
   "id": "6021bf3a",
   "metadata": {},
   "outputs": [],
   "source": [
    "std_dev_industry = selected_columns.std()"
   ]
  },
  {
   "cell_type": "code",
   "execution_count": 240,
   "id": "45f18062",
   "metadata": {
    "scrolled": false
   },
   "outputs": [],
   "source": [
    "std_dev_industry_array = std_dev_industry.values"
   ]
  },
  {
   "cell_type": "code",
   "execution_count": 241,
   "id": "5d5f0a65",
   "metadata": {},
   "outputs": [],
   "source": [
    "R_transposed = return_averages.values"
   ]
  },
  {
   "cell_type": "code",
   "execution_count": 242,
   "id": "6e8ebb23",
   "metadata": {},
   "outputs": [
    {
     "data": {
      "text/plain": [
       "array([ 0.15475   , -0.01475   ,  0.26475   ,  0.48308333,  0.01816667,\n",
       "        0.13333333,  0.16825   ,  0.03575   ,  0.15908333, -0.259     ])"
      ]
     },
     "execution_count": 242,
     "metadata": {},
     "output_type": "execute_result"
    }
   ],
   "source": [
    "R_transposed"
   ]
  },
  {
   "cell_type": "code",
   "execution_count": 243,
   "id": "3b6faae0",
   "metadata": {},
   "outputs": [],
   "source": [
    "R = R_transposed.reshape(-1,1)"
   ]
  },
  {
   "cell_type": "code",
   "execution_count": 244,
   "id": "c4d2d8ec",
   "metadata": {},
   "outputs": [
    {
     "data": {
      "text/plain": [
       "array([[ 0.15475   ],\n",
       "       [-0.01475   ],\n",
       "       [ 0.26475   ],\n",
       "       [ 0.48308333],\n",
       "       [ 0.01816667],\n",
       "       [ 0.13333333],\n",
       "       [ 0.16825   ],\n",
       "       [ 0.03575   ],\n",
       "       [ 0.15908333],\n",
       "       [-0.259     ]])"
      ]
     },
     "execution_count": 244,
     "metadata": {},
     "output_type": "execute_result"
    }
   ],
   "source": [
    "R"
   ]
  },
  {
   "cell_type": "code",
   "execution_count": 245,
   "id": "8c1892f4",
   "metadata": {},
   "outputs": [
    {
     "data": {
      "text/html": [
       "<div>\n",
       "<style scoped>\n",
       "    .dataframe tbody tr th:only-of-type {\n",
       "        vertical-align: middle;\n",
       "    }\n",
       "\n",
       "    .dataframe tbody tr th {\n",
       "        vertical-align: top;\n",
       "    }\n",
       "\n",
       "    .dataframe thead th {\n",
       "        text-align: right;\n",
       "    }\n",
       "</style>\n",
       "<table border=\"1\" class=\"dataframe\">\n",
       "  <thead>\n",
       "    <tr style=\"text-align: right;\">\n",
       "      <th></th>\n",
       "      <th>NoDur</th>\n",
       "      <th>Durbl</th>\n",
       "      <th>Manuf</th>\n",
       "      <th>Enrgy</th>\n",
       "      <th>HiTec</th>\n",
       "      <th>Telcm</th>\n",
       "      <th>Shops</th>\n",
       "      <th>Hlth</th>\n",
       "      <th>Utils</th>\n",
       "      <th>Other</th>\n",
       "    </tr>\n",
       "  </thead>\n",
       "  <tbody>\n",
       "    <tr>\n",
       "      <th>NoDur</th>\n",
       "      <td>5.439696</td>\n",
       "      <td>-6.073035</td>\n",
       "      <td>-1.396192</td>\n",
       "      <td>-1.200533</td>\n",
       "      <td>-1.883151</td>\n",
       "      <td>1.538885</td>\n",
       "      <td>1.140741</td>\n",
       "      <td>3.815137</td>\n",
       "      <td>4.272002</td>\n",
       "      <td>-1.768738</td>\n",
       "    </tr>\n",
       "    <tr>\n",
       "      <th>Durbl</th>\n",
       "      <td>-6.073035</td>\n",
       "      <td>26.628901</td>\n",
       "      <td>4.908024</td>\n",
       "      <td>-3.481055</td>\n",
       "      <td>1.891577</td>\n",
       "      <td>-1.707625</td>\n",
       "      <td>-0.354335</td>\n",
       "      <td>-8.082946</td>\n",
       "      <td>-9.617490</td>\n",
       "      <td>4.385865</td>\n",
       "    </tr>\n",
       "    <tr>\n",
       "      <th>Manuf</th>\n",
       "      <td>-1.396192</td>\n",
       "      <td>4.908024</td>\n",
       "      <td>2.950499</td>\n",
       "      <td>1.666133</td>\n",
       "      <td>0.065267</td>\n",
       "      <td>-0.626416</td>\n",
       "      <td>-1.154597</td>\n",
       "      <td>-2.288900</td>\n",
       "      <td>-1.901412</td>\n",
       "      <td>0.358904</td>\n",
       "    </tr>\n",
       "    <tr>\n",
       "      <th>Enrgy</th>\n",
       "      <td>-1.200533</td>\n",
       "      <td>-3.481055</td>\n",
       "      <td>1.666133</td>\n",
       "      <td>19.274911</td>\n",
       "      <td>-1.516972</td>\n",
       "      <td>-1.040525</td>\n",
       "      <td>-3.710439</td>\n",
       "      <td>-2.485796</td>\n",
       "      <td>4.454368</td>\n",
       "      <td>-3.864826</td>\n",
       "    </tr>\n",
       "    <tr>\n",
       "      <th>HiTec</th>\n",
       "      <td>-1.883151</td>\n",
       "      <td>1.891577</td>\n",
       "      <td>0.065267</td>\n",
       "      <td>-1.516972</td>\n",
       "      <td>5.098746</td>\n",
       "      <td>-0.773294</td>\n",
       "      <td>-0.245350</td>\n",
       "      <td>-1.936284</td>\n",
       "      <td>-2.342839</td>\n",
       "      <td>-1.404050</td>\n",
       "    </tr>\n",
       "    <tr>\n",
       "      <th>Telcm</th>\n",
       "      <td>1.538885</td>\n",
       "      <td>-1.707625</td>\n",
       "      <td>-0.626416</td>\n",
       "      <td>-1.040525</td>\n",
       "      <td>-0.773294</td>\n",
       "      <td>4.682567</td>\n",
       "      <td>0.463797</td>\n",
       "      <td>0.693157</td>\n",
       "      <td>2.721477</td>\n",
       "      <td>-1.271778</td>\n",
       "    </tr>\n",
       "    <tr>\n",
       "      <th>Shops</th>\n",
       "      <td>1.140741</td>\n",
       "      <td>-0.354335</td>\n",
       "      <td>-1.154597</td>\n",
       "      <td>-3.710439</td>\n",
       "      <td>-0.245350</td>\n",
       "      <td>0.463797</td>\n",
       "      <td>4.452628</td>\n",
       "      <td>0.764510</td>\n",
       "      <td>-0.176666</td>\n",
       "      <td>-0.256987</td>\n",
       "    </tr>\n",
       "    <tr>\n",
       "      <th>Hlth</th>\n",
       "      <td>3.815137</td>\n",
       "      <td>-8.082946</td>\n",
       "      <td>-2.288900</td>\n",
       "      <td>-2.485796</td>\n",
       "      <td>-1.936284</td>\n",
       "      <td>0.693157</td>\n",
       "      <td>0.764510</td>\n",
       "      <td>7.820446</td>\n",
       "      <td>3.496136</td>\n",
       "      <td>-1.726842</td>\n",
       "    </tr>\n",
       "    <tr>\n",
       "      <th>Utils</th>\n",
       "      <td>4.272002</td>\n",
       "      <td>-9.617490</td>\n",
       "      <td>-1.901412</td>\n",
       "      <td>4.454368</td>\n",
       "      <td>-2.342839</td>\n",
       "      <td>2.721477</td>\n",
       "      <td>-0.176666</td>\n",
       "      <td>3.496136</td>\n",
       "      <td>12.267476</td>\n",
       "      <td>-4.055112</td>\n",
       "    </tr>\n",
       "    <tr>\n",
       "      <th>Other</th>\n",
       "      <td>-1.768738</td>\n",
       "      <td>4.385865</td>\n",
       "      <td>0.358904</td>\n",
       "      <td>-3.864826</td>\n",
       "      <td>-1.404050</td>\n",
       "      <td>-1.271778</td>\n",
       "      <td>-0.256987</td>\n",
       "      <td>-1.726842</td>\n",
       "      <td>-4.055112</td>\n",
       "      <td>4.503204</td>\n",
       "    </tr>\n",
       "  </tbody>\n",
       "</table>\n",
       "</div>"
      ],
      "text/plain": [
       "          NoDur      Durbl     Manuf      Enrgy     HiTec     Telcm     Shops  \\\n",
       "NoDur  5.439696  -6.073035 -1.396192  -1.200533 -1.883151  1.538885  1.140741   \n",
       "Durbl -6.073035  26.628901  4.908024  -3.481055  1.891577 -1.707625 -0.354335   \n",
       "Manuf -1.396192   4.908024  2.950499   1.666133  0.065267 -0.626416 -1.154597   \n",
       "Enrgy -1.200533  -3.481055  1.666133  19.274911 -1.516972 -1.040525 -3.710439   \n",
       "HiTec -1.883151   1.891577  0.065267  -1.516972  5.098746 -0.773294 -0.245350   \n",
       "Telcm  1.538885  -1.707625 -0.626416  -1.040525 -0.773294  4.682567  0.463797   \n",
       "Shops  1.140741  -0.354335 -1.154597  -3.710439 -0.245350  0.463797  4.452628   \n",
       "Hlth   3.815137  -8.082946 -2.288900  -2.485796 -1.936284  0.693157  0.764510   \n",
       "Utils  4.272002  -9.617490 -1.901412   4.454368 -2.342839  2.721477 -0.176666   \n",
       "Other -1.768738   4.385865  0.358904  -3.864826 -1.404050 -1.271778 -0.256987   \n",
       "\n",
       "           Hlth      Utils     Other  \n",
       "NoDur  3.815137   4.272002 -1.768738  \n",
       "Durbl -8.082946  -9.617490  4.385865  \n",
       "Manuf -2.288900  -1.901412  0.358904  \n",
       "Enrgy -2.485796   4.454368 -3.864826  \n",
       "HiTec -1.936284  -2.342839 -1.404050  \n",
       "Telcm  0.693157   2.721477 -1.271778  \n",
       "Shops  0.764510  -0.176666 -0.256987  \n",
       "Hlth   7.820446   3.496136 -1.726842  \n",
       "Utils  3.496136  12.267476 -4.055112  \n",
       "Other -1.726842  -4.055112  4.503204  "
      ]
     },
     "execution_count": 245,
     "metadata": {},
     "output_type": "execute_result"
    }
   ],
   "source": [
    "covariance_matrix_df = selected_columns.cov()\n",
    "covariance_matrix_df"
   ]
  },
  {
   "cell_type": "code",
   "execution_count": 246,
   "id": "7e45df57",
   "metadata": {},
   "outputs": [
    {
     "data": {
      "text/plain": [
       "array([ 5.43969574, -6.07303523, -1.39619166, -1.20053326, -1.88315088,\n",
       "        1.53888487,  1.14074116,  3.81513716,  4.27200187, -1.7687384 ,\n",
       "       -6.07303523, 26.62890078,  4.90802359, -3.48105498,  1.89157693,\n",
       "       -1.70762521, -0.35433527, -8.08294641, -9.61749011,  4.38586529,\n",
       "       -1.39619166,  4.90802359,  2.9504991 ,  1.66613313,  0.06526676,\n",
       "       -0.62641597, -1.15459666, -2.28889981, -1.90141158,  0.35890361,\n",
       "       -1.20053326, -3.48105498,  1.66613313, 19.27491058, -1.51697245,\n",
       "       -1.04052465, -3.7104391 , -2.48579603,  4.4543684 , -3.8648258 ,\n",
       "       -1.88315088,  1.89157693,  0.06526676, -1.51697245,  5.09874619,\n",
       "       -0.77329384, -0.24535029, -1.93628433, -2.34283867, -1.40405025,\n",
       "        1.53888487, -1.70762521, -0.62641597, -1.04052465, -0.77329384,\n",
       "        4.68256695,  0.46379748,  0.69315714,  2.72147703, -1.27177815,\n",
       "        1.14074116, -0.35433527, -1.15459666, -3.7104391 , -0.24535029,\n",
       "        0.46379748,  4.452628  ,  0.76451015, -0.17666632, -0.25698731,\n",
       "        3.81513716, -8.08294641, -2.28889981, -2.48579603, -1.93628433,\n",
       "        0.69315714,  0.76451015,  7.82044649,  3.49613641, -1.72684193,\n",
       "        4.27200187, -9.61749011, -1.90141158,  4.4543684 , -2.34283867,\n",
       "        2.72147703, -0.17666632,  3.49613641, 12.26747562, -4.05511168,\n",
       "       -1.7687384 ,  4.38586529,  0.35890361, -3.8648258 , -1.40405025,\n",
       "       -1.27177815, -0.25698731, -1.72684193, -4.05511168,  4.50320403])"
      ]
     },
     "execution_count": 246,
     "metadata": {},
     "output_type": "execute_result"
    }
   ],
   "source": [
    "covariance_matrix = covariance_matrix_df.values\n",
    "covariance_matrix.flatten()"
   ]
  },
  {
   "cell_type": "code",
   "execution_count": 247,
   "id": "18580333",
   "metadata": {},
   "outputs": [],
   "source": [
    "inverse_covariance_matrix = np.linalg.inv(covariance_matrix)"
   ]
  },
  {
   "cell_type": "code",
   "execution_count": 248,
   "id": "8ab1b574",
   "metadata": {},
   "outputs": [
    {
     "data": {
      "text/plain": [
       "array([[ 5.45383229e-01,  4.52282303e-02,  2.07945041e-01,\n",
       "         2.78363758e-01,  6.04680938e-01,  1.53595518e-01,\n",
       "         1.80487809e-01,  1.90500937e-01,  5.74650893e-02,\n",
       "         7.59500969e-01],\n",
       "       [ 4.52282303e-02,  8.96520899e-02, -8.74489380e-02,\n",
       "         3.89464036e-02,  4.29778706e-02,  6.25343163e-03,\n",
       "        -7.13876686e-04,  6.30519257e-02,  2.71023736e-02,\n",
       "         3.45527748e-02],\n",
       "       [ 2.07945041e-01, -8.74489380e-02,  1.13979978e+00,\n",
       "         4.02051132e-01,  1.05645736e+00,  3.70594533e-01,\n",
       "         5.77248304e-01,  6.14377150e-01,  3.04562775e-01,\n",
       "         1.39790823e+00],\n",
       "       [ 2.78363758e-01,  3.89464036e-02,  4.02051132e-01,\n",
       "         5.06498392e-01,  9.53963540e-01,  3.57385466e-01,\n",
       "         4.62025059e-01,  5.39514740e-01,  1.89783184e-01,\n",
       "         1.27657562e+00],\n",
       "       [ 6.04680938e-01,  4.29778706e-02,  1.05645736e+00,\n",
       "         9.53963540e-01,  2.30237254e+00,  7.43644981e-01,\n",
       "         9.52973363e-01,  1.15990395e+00,  5.37592942e-01,\n",
       "         2.84131790e+00],\n",
       "       [ 1.53595518e-01,  6.25343163e-03,  3.70594533e-01,\n",
       "         3.57385466e-01,  7.43644981e-01,  5.23995220e-01,\n",
       "         3.30645052e-01,  4.26827087e-01,  1.18802670e-01,\n",
       "         1.00079445e+00],\n",
       "       [ 1.80487809e-01, -7.13876686e-04,  5.77248304e-01,\n",
       "         4.62025059e-01,  9.52973363e-01,  3.30645052e-01,\n",
       "         7.23154850e-01,  5.34982793e-01,  2.49115367e-01,\n",
       "         1.28335939e+00],\n",
       "       [ 1.90500937e-01,  6.30519257e-02,  6.14377150e-01,\n",
       "         5.39514740e-01,  1.15990395e+00,  4.26827087e-01,\n",
       "         5.34982793e-01,  8.61344550e-01,  2.72588769e-01,\n",
       "         1.51596457e+00],\n",
       "       [ 5.74650893e-02,  2.71023736e-02,  3.04562775e-01,\n",
       "         1.89783184e-01,  5.37592942e-01,  1.18802670e-01,\n",
       "         2.49115367e-01,  2.72588769e-01,  3.04079902e-01,\n",
       "         7.28516164e-01],\n",
       "       [ 7.59500969e-01,  3.45527748e-02,  1.39790823e+00,\n",
       "         1.27657562e+00,  2.84131790e+00,  1.00079445e+00,\n",
       "         1.28335939e+00,  1.51596457e+00,  7.28516164e-01,\n",
       "         3.95004023e+00]])"
      ]
     },
     "execution_count": 248,
     "metadata": {},
     "output_type": "execute_result"
    }
   ],
   "source": [
    "inverse_covariance_matrix"
   ]
  },
  {
   "cell_type": "code",
   "execution_count": 249,
   "id": "49ac63eb",
   "metadata": {},
   "outputs": [],
   "source": [
    "e = np.ones((10,1))"
   ]
  },
  {
   "cell_type": "code",
   "execution_count": 250,
   "id": "28a43376",
   "metadata": {},
   "outputs": [],
   "source": [
    "e_transposed = e.transpose()"
   ]
  },
  {
   "cell_type": "code",
   "execution_count": 251,
   "id": "8e8e5e51",
   "metadata": {},
   "outputs": [
    {
     "data": {
      "text/plain": [
       "array([[1., 1., 1., 1., 1., 1., 1., 1., 1., 1.]])"
      ]
     },
     "execution_count": 251,
     "metadata": {},
     "output_type": "execute_result"
    }
   ],
   "source": [
    "e_transposed"
   ]
  },
  {
   "cell_type": "code",
   "execution_count": 252,
   "id": "73c79149",
   "metadata": {},
   "outputs": [],
   "source": [
    "alpha = np.dot(np.dot(R_transposed, inverse_covariance_matrix),e)"
   ]
  },
  {
   "cell_type": "code",
   "execution_count": 253,
   "id": "b4af4df1",
   "metadata": {},
   "outputs": [
    {
     "data": {
      "text/plain": [
       "array([2.93212788])"
      ]
     },
     "execution_count": 253,
     "metadata": {},
     "output_type": "execute_result"
    }
   ],
   "source": [
    "alpha"
   ]
  },
  {
   "cell_type": "code",
   "execution_count": 254,
   "id": "779a0e1c",
   "metadata": {},
   "outputs": [],
   "source": [
    "zeta = np.dot(np.dot(R_transposed, inverse_covariance_matrix),R)"
   ]
  },
  {
   "cell_type": "code",
   "execution_count": 255,
   "id": "db8b6c0c",
   "metadata": {},
   "outputs": [
    {
     "data": {
      "text/plain": [
       "array([0.20474497])"
      ]
     },
     "execution_count": 255,
     "metadata": {},
     "output_type": "execute_result"
    }
   ],
   "source": [
    "zeta"
   ]
  },
  {
   "cell_type": "code",
   "execution_count": 256,
   "id": "d0bc59d1",
   "metadata": {},
   "outputs": [],
   "source": [
    "delta = np.dot(np.dot(e_transposed, inverse_covariance_matrix),e)"
   ]
  },
  {
   "cell_type": "code",
   "execution_count": 257,
   "id": "83726bd2",
   "metadata": {},
   "outputs": [
    {
     "data": {
      "text/plain": [
       "array([[58.55025438]])"
      ]
     },
     "execution_count": 257,
     "metadata": {},
     "output_type": "execute_result"
    }
   ],
   "source": [
    "delta"
   ]
  },
  {
   "cell_type": "code",
   "execution_count": 258,
   "id": "05c306e0",
   "metadata": {},
   "outputs": [],
   "source": [
    "RMV = alpha/delta"
   ]
  },
  {
   "cell_type": "code",
   "execution_count": 259,
   "id": "c5737c55",
   "metadata": {},
   "outputs": [
    {
     "data": {
      "text/plain": [
       "array([[0.05007882]])"
      ]
     },
     "execution_count": 259,
     "metadata": {},
     "output_type": "execute_result"
    }
   ],
   "source": [
    "RMV"
   ]
  },
  {
   "cell_type": "code",
   "execution_count": 260,
   "id": "c96002d9",
   "metadata": {},
   "outputs": [],
   "source": [
    "# Create a range of values for Rp from 0 to 0.1 with an interval of 0.1\n",
    "Rp_range = np.arange(0, 0.105, 0.005).reshape(1, -1).flatten()"
   ]
  },
  {
   "cell_type": "code",
   "execution_count": 261,
   "id": "74fce2ec",
   "metadata": {},
   "outputs": [
    {
     "data": {
      "text/plain": [
       "array([0.   , 0.005, 0.01 , 0.015, 0.02 , 0.025, 0.03 , 0.035, 0.04 ,\n",
       "       0.045, 0.05 , 0.055, 0.06 , 0.065, 0.07 , 0.075, 0.08 , 0.085,\n",
       "       0.09 , 0.095, 0.1  ])"
      ]
     },
     "execution_count": 261,
     "metadata": {},
     "output_type": "execute_result"
    }
   ],
   "source": [
    "Rp_range"
   ]
  },
  {
   "cell_type": "code",
   "execution_count": 262,
   "id": "e42a5f6a",
   "metadata": {},
   "outputs": [],
   "source": [
    "# Calculate the standard deviation for each value of Rp using the formula\n",
    "variance = (1 / delta + (delta / (zeta * delta - alpha**2)) * (Rp_range - RMV)**2).flatten()"
   ]
  },
  {
   "cell_type": "code",
   "execution_count": 263,
   "id": "8cff15ac",
   "metadata": {},
   "outputs": [
    {
     "data": {
      "text/plain": [
       "array([0.06038791, 0.05217155, 0.04481864, 0.03832918, 0.03270316,\n",
       "       0.0279406 , 0.02404147, 0.0210058 , 0.01883357, 0.01752479,\n",
       "       0.01707945, 0.01749756, 0.01877912, 0.02092413, 0.02393258,\n",
       "       0.02780448, 0.03253982, 0.03813861, 0.04460085, 0.05192653,\n",
       "       0.06011566])"
      ]
     },
     "execution_count": 263,
     "metadata": {},
     "output_type": "execute_result"
    }
   ],
   "source": [
    "variance"
   ]
  },
  {
   "cell_type": "code",
   "execution_count": 264,
   "id": "2a3e1c68",
   "metadata": {},
   "outputs": [],
   "source": [
    "std_dev = np.sqrt(variance)"
   ]
  },
  {
   "cell_type": "code",
   "execution_count": 265,
   "id": "885c7c91",
   "metadata": {},
   "outputs": [
    {
     "data": {
      "text/plain": [
       "array([0.24573951, 0.22841092, 0.21170414, 0.19577839, 0.18084016,\n",
       "       0.16715441, 0.15505313, 0.14493377, 0.13723545, 0.13238122,\n",
       "       0.13068838, 0.13227836, 0.13703694, 0.14465174, 0.15470158,\n",
       "       0.16674674, 0.18038797, 0.19529109, 0.21118913, 0.22787394,\n",
       "       0.24518496])"
      ]
     },
     "execution_count": 265,
     "metadata": {},
     "output_type": "execute_result"
    }
   ],
   "source": [
    "std_dev"
   ]
  },
  {
   "cell_type": "markdown",
   "id": "16830245",
   "metadata": {},
   "source": [
    "### Create a table showing the mean return and standard deviation of return for the ten industry portfolios."
   ]
  },
  {
   "cell_type": "code",
   "execution_count": 266,
   "id": "8575a5d7",
   "metadata": {
    "scrolled": true
   },
   "outputs": [
    {
     "data": {
      "text/html": [
       "<style type=\"text/css\">\n",
       "#T_5acee_row0_col0, #T_5acee_row0_col1, #T_5acee_row0_col2, #T_5acee_row1_col0, #T_5acee_row1_col1, #T_5acee_row1_col2, #T_5acee_row2_col0, #T_5acee_row2_col1, #T_5acee_row2_col2, #T_5acee_row3_col0, #T_5acee_row3_col1, #T_5acee_row3_col2, #T_5acee_row4_col0, #T_5acee_row4_col1, #T_5acee_row4_col2, #T_5acee_row5_col0, #T_5acee_row5_col1, #T_5acee_row5_col2, #T_5acee_row6_col0, #T_5acee_row6_col1, #T_5acee_row6_col2, #T_5acee_row7_col0, #T_5acee_row7_col1, #T_5acee_row7_col2, #T_5acee_row8_col0, #T_5acee_row8_col1, #T_5acee_row8_col2, #T_5acee_row9_col0, #T_5acee_row9_col1, #T_5acee_row9_col2 {\n",
       "  text-align: center;\n",
       "}\n",
       "</style>\n",
       "<table id=\"T_5acee\">\n",
       "  <thead>\n",
       "    <tr>\n",
       "      <th class=\"blank level0\" >&nbsp;</th>\n",
       "      <th id=\"T_5acee_level0_col0\" class=\"col_heading level0 col0\" >Industry_Portfolios</th>\n",
       "      <th id=\"T_5acee_level0_col1\" class=\"col_heading level0 col1\" >Mean Return</th>\n",
       "      <th id=\"T_5acee_level0_col2\" class=\"col_heading level0 col2\" >Standard Deviation</th>\n",
       "    </tr>\n",
       "  </thead>\n",
       "  <tbody>\n",
       "    <tr>\n",
       "      <th id=\"T_5acee_level0_row0\" class=\"row_heading level0 row0\" >1</th>\n",
       "      <td id=\"T_5acee_row0_col0\" class=\"data row0 col0\" >NoDur</td>\n",
       "      <td id=\"T_5acee_row0_col1\" class=\"data row0 col1\" >0.154750</td>\n",
       "      <td id=\"T_5acee_row0_col2\" class=\"data row0 col2\" >2.332316</td>\n",
       "    </tr>\n",
       "    <tr>\n",
       "      <th id=\"T_5acee_level0_row1\" class=\"row_heading level0 row1\" >2</th>\n",
       "      <td id=\"T_5acee_row1_col0\" class=\"data row1 col0\" >Durbl</td>\n",
       "      <td id=\"T_5acee_row1_col1\" class=\"data row1 col1\" >-0.014750</td>\n",
       "      <td id=\"T_5acee_row1_col2\" class=\"data row1 col2\" >5.160320</td>\n",
       "    </tr>\n",
       "    <tr>\n",
       "      <th id=\"T_5acee_level0_row2\" class=\"row_heading level0 row2\" >3</th>\n",
       "      <td id=\"T_5acee_row2_col0\" class=\"data row2 col0\" >Manuf</td>\n",
       "      <td id=\"T_5acee_row2_col1\" class=\"data row2 col1\" >0.264750</td>\n",
       "      <td id=\"T_5acee_row2_col2\" class=\"data row2 col2\" >1.717702</td>\n",
       "    </tr>\n",
       "    <tr>\n",
       "      <th id=\"T_5acee_level0_row3\" class=\"row_heading level0 row3\" >4</th>\n",
       "      <td id=\"T_5acee_row3_col0\" class=\"data row3 col0\" >Enrgy</td>\n",
       "      <td id=\"T_5acee_row3_col1\" class=\"data row3 col1\" >0.483083</td>\n",
       "      <td id=\"T_5acee_row3_col2\" class=\"data row3 col2\" >4.390320</td>\n",
       "    </tr>\n",
       "    <tr>\n",
       "      <th id=\"T_5acee_level0_row4\" class=\"row_heading level0 row4\" >5</th>\n",
       "      <td id=\"T_5acee_row4_col0\" class=\"data row4 col0\" >HiTec</td>\n",
       "      <td id=\"T_5acee_row4_col1\" class=\"data row4 col1\" >0.018167</td>\n",
       "      <td id=\"T_5acee_row4_col2\" class=\"data row4 col2\" >2.258040</td>\n",
       "    </tr>\n",
       "    <tr>\n",
       "      <th id=\"T_5acee_level0_row5\" class=\"row_heading level0 row5\" >6</th>\n",
       "      <td id=\"T_5acee_row5_col0\" class=\"data row5 col0\" >Telcm</td>\n",
       "      <td id=\"T_5acee_row5_col1\" class=\"data row5 col1\" >0.133333</td>\n",
       "      <td id=\"T_5acee_row5_col2\" class=\"data row5 col2\" >2.163924</td>\n",
       "    </tr>\n",
       "    <tr>\n",
       "      <th id=\"T_5acee_level0_row6\" class=\"row_heading level0 row6\" >7</th>\n",
       "      <td id=\"T_5acee_row6_col0\" class=\"data row6 col0\" >Shops</td>\n",
       "      <td id=\"T_5acee_row6_col1\" class=\"data row6 col1\" >0.168250</td>\n",
       "      <td id=\"T_5acee_row6_col2\" class=\"data row6 col2\" >2.110125</td>\n",
       "    </tr>\n",
       "    <tr>\n",
       "      <th id=\"T_5acee_level0_row7\" class=\"row_heading level0 row7\" >8</th>\n",
       "      <td id=\"T_5acee_row7_col0\" class=\"data row7 col0\" >Hlth</td>\n",
       "      <td id=\"T_5acee_row7_col1\" class=\"data row7 col1\" >0.035750</td>\n",
       "      <td id=\"T_5acee_row7_col2\" class=\"data row7 col2\" >2.796506</td>\n",
       "    </tr>\n",
       "    <tr>\n",
       "      <th id=\"T_5acee_level0_row8\" class=\"row_heading level0 row8\" >9</th>\n",
       "      <td id=\"T_5acee_row8_col0\" class=\"data row8 col0\" >Utils</td>\n",
       "      <td id=\"T_5acee_row8_col1\" class=\"data row8 col1\" >0.159083</td>\n",
       "      <td id=\"T_5acee_row8_col2\" class=\"data row8 col2\" >3.502496</td>\n",
       "    </tr>\n",
       "    <tr>\n",
       "      <th id=\"T_5acee_level0_row9\" class=\"row_heading level0 row9\" >10</th>\n",
       "      <td id=\"T_5acee_row9_col0\" class=\"data row9 col0\" >Other</td>\n",
       "      <td id=\"T_5acee_row9_col1\" class=\"data row9 col1\" >-0.259000</td>\n",
       "      <td id=\"T_5acee_row9_col2\" class=\"data row9 col2\" >2.122075</td>\n",
       "    </tr>\n",
       "  </tbody>\n",
       "</table>\n"
      ],
      "text/plain": [
       "<pandas.io.formats.style.Styler at 0x17a523a10>"
      ]
     },
     "execution_count": 266,
     "metadata": {},
     "output_type": "execute_result"
    }
   ],
   "source": [
    "data = pd.DataFrame({\n",
    "    'Industry_Portfolios': ten_industry_portfolios,\n",
    "    'Mean Return': R_transposed,\n",
    "    'Standard Deviation': std_dev_industry_array\n",
    "}, index=range(1, 11))\n",
    "\n",
    "# Use the `style` attribute to align text at the center\n",
    "styled_data = data.style.set_properties(**{'text-align': 'center'})\n",
    "\n",
    "styled_data"
   ]
  },
  {
   "cell_type": "code",
   "execution_count": 267,
   "id": "0bb16278",
   "metadata": {},
   "outputs": [
    {
     "data": {
      "text/html": [
       "<div>\n",
       "<style scoped>\n",
       "    .dataframe tbody tr th:only-of-type {\n",
       "        vertical-align: middle;\n",
       "    }\n",
       "\n",
       "    .dataframe tbody tr th {\n",
       "        vertical-align: top;\n",
       "    }\n",
       "\n",
       "    .dataframe thead th {\n",
       "        text-align: right;\n",
       "    }\n",
       "</style>\n",
       "<table border=\"1\" class=\"dataframe\">\n",
       "  <thead>\n",
       "    <tr style=\"text-align: right;\">\n",
       "      <th></th>\n",
       "      <th>0</th>\n",
       "      <th>1</th>\n",
       "      <th>2</th>\n",
       "      <th>3</th>\n",
       "      <th>4</th>\n",
       "      <th>5</th>\n",
       "      <th>6</th>\n",
       "      <th>7</th>\n",
       "      <th>8</th>\n",
       "      <th>9</th>\n",
       "    </tr>\n",
       "  </thead>\n",
       "  <tbody>\n",
       "    <tr>\n",
       "      <th>0</th>\n",
       "      <td>5.439696</td>\n",
       "      <td>-6.073035</td>\n",
       "      <td>-1.396192</td>\n",
       "      <td>-1.200533</td>\n",
       "      <td>-1.883151</td>\n",
       "      <td>1.538885</td>\n",
       "      <td>1.140741</td>\n",
       "      <td>3.815137</td>\n",
       "      <td>4.272002</td>\n",
       "      <td>-1.768738</td>\n",
       "    </tr>\n",
       "    <tr>\n",
       "      <th>1</th>\n",
       "      <td>-6.073035</td>\n",
       "      <td>26.628901</td>\n",
       "      <td>4.908024</td>\n",
       "      <td>-3.481055</td>\n",
       "      <td>1.891577</td>\n",
       "      <td>-1.707625</td>\n",
       "      <td>-0.354335</td>\n",
       "      <td>-8.082946</td>\n",
       "      <td>-9.617490</td>\n",
       "      <td>4.385865</td>\n",
       "    </tr>\n",
       "    <tr>\n",
       "      <th>2</th>\n",
       "      <td>-1.396192</td>\n",
       "      <td>4.908024</td>\n",
       "      <td>2.950499</td>\n",
       "      <td>1.666133</td>\n",
       "      <td>0.065267</td>\n",
       "      <td>-0.626416</td>\n",
       "      <td>-1.154597</td>\n",
       "      <td>-2.288900</td>\n",
       "      <td>-1.901412</td>\n",
       "      <td>0.358904</td>\n",
       "    </tr>\n",
       "    <tr>\n",
       "      <th>3</th>\n",
       "      <td>-1.200533</td>\n",
       "      <td>-3.481055</td>\n",
       "      <td>1.666133</td>\n",
       "      <td>19.274911</td>\n",
       "      <td>-1.516972</td>\n",
       "      <td>-1.040525</td>\n",
       "      <td>-3.710439</td>\n",
       "      <td>-2.485796</td>\n",
       "      <td>4.454368</td>\n",
       "      <td>-3.864826</td>\n",
       "    </tr>\n",
       "    <tr>\n",
       "      <th>4</th>\n",
       "      <td>-1.883151</td>\n",
       "      <td>1.891577</td>\n",
       "      <td>0.065267</td>\n",
       "      <td>-1.516972</td>\n",
       "      <td>5.098746</td>\n",
       "      <td>-0.773294</td>\n",
       "      <td>-0.245350</td>\n",
       "      <td>-1.936284</td>\n",
       "      <td>-2.342839</td>\n",
       "      <td>-1.404050</td>\n",
       "    </tr>\n",
       "    <tr>\n",
       "      <th>5</th>\n",
       "      <td>1.538885</td>\n",
       "      <td>-1.707625</td>\n",
       "      <td>-0.626416</td>\n",
       "      <td>-1.040525</td>\n",
       "      <td>-0.773294</td>\n",
       "      <td>4.682567</td>\n",
       "      <td>0.463797</td>\n",
       "      <td>0.693157</td>\n",
       "      <td>2.721477</td>\n",
       "      <td>-1.271778</td>\n",
       "    </tr>\n",
       "    <tr>\n",
       "      <th>6</th>\n",
       "      <td>1.140741</td>\n",
       "      <td>-0.354335</td>\n",
       "      <td>-1.154597</td>\n",
       "      <td>-3.710439</td>\n",
       "      <td>-0.245350</td>\n",
       "      <td>0.463797</td>\n",
       "      <td>4.452628</td>\n",
       "      <td>0.764510</td>\n",
       "      <td>-0.176666</td>\n",
       "      <td>-0.256987</td>\n",
       "    </tr>\n",
       "    <tr>\n",
       "      <th>7</th>\n",
       "      <td>3.815137</td>\n",
       "      <td>-8.082946</td>\n",
       "      <td>-2.288900</td>\n",
       "      <td>-2.485796</td>\n",
       "      <td>-1.936284</td>\n",
       "      <td>0.693157</td>\n",
       "      <td>0.764510</td>\n",
       "      <td>7.820446</td>\n",
       "      <td>3.496136</td>\n",
       "      <td>-1.726842</td>\n",
       "    </tr>\n",
       "    <tr>\n",
       "      <th>8</th>\n",
       "      <td>4.272002</td>\n",
       "      <td>-9.617490</td>\n",
       "      <td>-1.901412</td>\n",
       "      <td>4.454368</td>\n",
       "      <td>-2.342839</td>\n",
       "      <td>2.721477</td>\n",
       "      <td>-0.176666</td>\n",
       "      <td>3.496136</td>\n",
       "      <td>12.267476</td>\n",
       "      <td>-4.055112</td>\n",
       "    </tr>\n",
       "    <tr>\n",
       "      <th>9</th>\n",
       "      <td>-1.768738</td>\n",
       "      <td>4.385865</td>\n",
       "      <td>0.358904</td>\n",
       "      <td>-3.864826</td>\n",
       "      <td>-1.404050</td>\n",
       "      <td>-1.271778</td>\n",
       "      <td>-0.256987</td>\n",
       "      <td>-1.726842</td>\n",
       "      <td>-4.055112</td>\n",
       "      <td>4.503204</td>\n",
       "    </tr>\n",
       "  </tbody>\n",
       "</table>\n",
       "</div>"
      ],
      "text/plain": [
       "          0          1         2          3         4         5         6  \\\n",
       "0  5.439696  -6.073035 -1.396192  -1.200533 -1.883151  1.538885  1.140741   \n",
       "1 -6.073035  26.628901  4.908024  -3.481055  1.891577 -1.707625 -0.354335   \n",
       "2 -1.396192   4.908024  2.950499   1.666133  0.065267 -0.626416 -1.154597   \n",
       "3 -1.200533  -3.481055  1.666133  19.274911 -1.516972 -1.040525 -3.710439   \n",
       "4 -1.883151   1.891577  0.065267  -1.516972  5.098746 -0.773294 -0.245350   \n",
       "5  1.538885  -1.707625 -0.626416  -1.040525 -0.773294  4.682567  0.463797   \n",
       "6  1.140741  -0.354335 -1.154597  -3.710439 -0.245350  0.463797  4.452628   \n",
       "7  3.815137  -8.082946 -2.288900  -2.485796 -1.936284  0.693157  0.764510   \n",
       "8  4.272002  -9.617490 -1.901412   4.454368 -2.342839  2.721477 -0.176666   \n",
       "9 -1.768738   4.385865  0.358904  -3.864826 -1.404050 -1.271778 -0.256987   \n",
       "\n",
       "          7          8         9  \n",
       "0  3.815137   4.272002 -1.768738  \n",
       "1 -8.082946  -9.617490  4.385865  \n",
       "2 -2.288900  -1.901412  0.358904  \n",
       "3 -2.485796   4.454368 -3.864826  \n",
       "4 -1.936284  -2.342839 -1.404050  \n",
       "5  0.693157   2.721477 -1.271778  \n",
       "6  0.764510  -0.176666 -0.256987  \n",
       "7  7.820446   3.496136 -1.726842  \n",
       "8  3.496136  12.267476 -4.055112  \n",
       "9 -1.726842  -4.055112  4.503204  "
      ]
     },
     "execution_count": 267,
     "metadata": {},
     "output_type": "execute_result"
    }
   ],
   "source": [
    "cov_matrix_df = pd.DataFrame(covariance_matrix)\n",
    "\n",
    "cov_matrix_df"
   ]
  },
  {
   "cell_type": "code",
   "execution_count": 268,
   "id": "df002b35",
   "metadata": {},
   "outputs": [
    {
     "data": {
      "text/plain": [
       "array([0.   , 0.005, 0.01 , 0.015, 0.02 , 0.025, 0.03 , 0.035, 0.04 ,\n",
       "       0.045, 0.05 , 0.055, 0.06 , 0.065, 0.07 , 0.075, 0.08 , 0.085,\n",
       "       0.09 , 0.095, 0.1  ])"
      ]
     },
     "execution_count": 268,
     "metadata": {},
     "output_type": "execute_result"
    }
   ],
   "source": [
    "Rp_range"
   ]
  },
  {
   "cell_type": "markdown",
   "id": "9962d13a",
   "metadata": {},
   "source": [
    "### The two frontiers will intersect at single point: the tangency portfolio:\n",
    "\n",
    "### Calculate the Sharpe ratio for the tangency portfolio, and also the tangency portfolio weights for the ten industry portfolios."
   ]
  },
  {
   "cell_type": "code",
   "execution_count": 269,
   "id": "fe41dcbc",
   "metadata": {
    "scrolled": true
   },
   "outputs": [
    {
     "data": {
      "text/plain": [
       "0.452487539619932"
      ]
     },
     "execution_count": 269,
     "metadata": {},
     "output_type": "execute_result"
    }
   ],
   "source": [
    "# For information ratio, there is no Rf\n",
    "Rf = 0\n",
    "\n",
    "last_index_Rp = Rp_range[-1]\n",
    "last_index_std_dev = std_dev[-1]\n",
    "\n",
    "CAL_x_axis = np.array([0, last_index_std_dev])\n",
    " \n",
    "information_ratio = ((zeta- 2*alpha*Rf + delta * Rf**2)**(1/2)).item()\n",
    "\n",
    "information_ratio"
   ]
  },
  {
   "cell_type": "code",
   "execution_count": 270,
   "id": "03770d1f",
   "metadata": {},
   "outputs": [],
   "source": [
    "# Calculate the tangency portfolio standard deviation\n",
    "\n",
    "std_dev_tg = -(zeta-2*alpha*Rf+delta*Rf**2)**(1/2)/(delta*(Rf-RMV))\n",
    "Rtg = information_ratio * std_dev_tg + Rf"
   ]
  },
  {
   "cell_type": "code",
   "execution_count": 271,
   "id": "8d031076",
   "metadata": {},
   "outputs": [
    {
     "data": {
      "text/plain": [
       "array([[0.15432053]])"
      ]
     },
     "execution_count": 271,
     "metadata": {},
     "output_type": "execute_result"
    }
   ],
   "source": [
    "std_dev_tg"
   ]
  },
  {
   "cell_type": "code",
   "execution_count": 272,
   "id": "5c48467a",
   "metadata": {},
   "outputs": [
    {
     "data": {
      "text/plain": [
       "array([[0.06982812]])"
      ]
     },
     "execution_count": 272,
     "metadata": {},
     "output_type": "execute_result"
    }
   ],
   "source": [
    "Rtg"
   ]
  },
  {
   "cell_type": "code",
   "execution_count": 273,
   "id": "3b9f91bb",
   "metadata": {},
   "outputs": [
    {
     "data": {
      "text/plain": [
       "array([[ 5.45383229e-01,  4.52282303e-02,  2.07945041e-01,\n",
       "         2.78363758e-01,  6.04680938e-01,  1.53595518e-01,\n",
       "         1.80487809e-01,  1.90500937e-01,  5.74650893e-02,\n",
       "         7.59500969e-01],\n",
       "       [ 4.52282303e-02,  8.96520899e-02, -8.74489380e-02,\n",
       "         3.89464036e-02,  4.29778706e-02,  6.25343163e-03,\n",
       "        -7.13876686e-04,  6.30519257e-02,  2.71023736e-02,\n",
       "         3.45527748e-02],\n",
       "       [ 2.07945041e-01, -8.74489380e-02,  1.13979978e+00,\n",
       "         4.02051132e-01,  1.05645736e+00,  3.70594533e-01,\n",
       "         5.77248304e-01,  6.14377150e-01,  3.04562775e-01,\n",
       "         1.39790823e+00],\n",
       "       [ 2.78363758e-01,  3.89464036e-02,  4.02051132e-01,\n",
       "         5.06498392e-01,  9.53963540e-01,  3.57385466e-01,\n",
       "         4.62025059e-01,  5.39514740e-01,  1.89783184e-01,\n",
       "         1.27657562e+00],\n",
       "       [ 6.04680938e-01,  4.29778706e-02,  1.05645736e+00,\n",
       "         9.53963540e-01,  2.30237254e+00,  7.43644981e-01,\n",
       "         9.52973363e-01,  1.15990395e+00,  5.37592942e-01,\n",
       "         2.84131790e+00],\n",
       "       [ 1.53595518e-01,  6.25343163e-03,  3.70594533e-01,\n",
       "         3.57385466e-01,  7.43644981e-01,  5.23995220e-01,\n",
       "         3.30645052e-01,  4.26827087e-01,  1.18802670e-01,\n",
       "         1.00079445e+00],\n",
       "       [ 1.80487809e-01, -7.13876686e-04,  5.77248304e-01,\n",
       "         4.62025059e-01,  9.52973363e-01,  3.30645052e-01,\n",
       "         7.23154850e-01,  5.34982793e-01,  2.49115367e-01,\n",
       "         1.28335939e+00],\n",
       "       [ 1.90500937e-01,  6.30519257e-02,  6.14377150e-01,\n",
       "         5.39514740e-01,  1.15990395e+00,  4.26827087e-01,\n",
       "         5.34982793e-01,  8.61344550e-01,  2.72588769e-01,\n",
       "         1.51596457e+00],\n",
       "       [ 5.74650893e-02,  2.71023736e-02,  3.04562775e-01,\n",
       "         1.89783184e-01,  5.37592942e-01,  1.18802670e-01,\n",
       "         2.49115367e-01,  2.72588769e-01,  3.04079902e-01,\n",
       "         7.28516164e-01],\n",
       "       [ 7.59500969e-01,  3.45527748e-02,  1.39790823e+00,\n",
       "         1.27657562e+00,  2.84131790e+00,  1.00079445e+00,\n",
       "         1.28335939e+00,  1.51596457e+00,  7.28516164e-01,\n",
       "         3.95004023e+00]])"
      ]
     },
     "execution_count": 273,
     "metadata": {},
     "output_type": "execute_result"
    }
   ],
   "source": [
    "inverse_covariance_matrix"
   ]
  },
  {
   "cell_type": "code",
   "execution_count": 274,
   "id": "7f63ff82",
   "metadata": {
    "scrolled": true
   },
   "outputs": [
    {
     "data": {
      "text/plain": [
       "array([[0.34104924]])"
      ]
     },
     "execution_count": 274,
     "metadata": {},
     "output_type": "execute_result"
    }
   ],
   "source": [
    "# Calculate tangency portfolio weight\n",
    "\n",
    "lagrange_multiplier = (Rtg)/(zeta).flatten()\n",
    "lagrange_multiplier"
   ]
  },
  {
   "cell_type": "code",
   "execution_count": null,
   "id": "0ea18f41",
   "metadata": {},
   "outputs": [],
   "source": []
  },
  {
   "cell_type": "code",
   "execution_count": 275,
   "id": "89a2c5bf",
   "metadata": {
    "scrolled": true
   },
   "outputs": [
    {
     "data": {
      "text/plain": [
       "array([[5.26341943e-02],\n",
       "       [1.53428449e-04],\n",
       "       [1.37626709e-01],\n",
       "       [8.70322403e-02],\n",
       "       [1.79352886e-01],\n",
       "       [7.10739711e-02],\n",
       "       [1.06884468e-01],\n",
       "       [1.02775950e-01],\n",
       "       [4.01622131e-02],\n",
       "       [2.22303939e-01]])"
      ]
     },
     "execution_count": 275,
     "metadata": {},
     "output_type": "execute_result"
    }
   ],
   "source": [
    "portfolio_weight = lagrange_multiplier * np.dot(inverse_covariance_matrix , (R))\n",
    "\n",
    "portfolio_weight"
   ]
  },
  {
   "cell_type": "code",
   "execution_count": 276,
   "id": "10a14834",
   "metadata": {},
   "outputs": [
    {
     "data": {
      "text/plain": [
       "1.0000000000000002"
      ]
     },
     "execution_count": 276,
     "metadata": {},
     "output_type": "execute_result"
    }
   ],
   "source": [
    "np.sum(portfolio_weight)"
   ]
  },
  {
   "cell_type": "code",
   "execution_count": 277,
   "id": "031a2fd5",
   "metadata": {
    "scrolled": false
   },
   "outputs": [
    {
     "data": {
      "text/html": [
       "<div>\n",
       "<style scoped>\n",
       "    .dataframe tbody tr th:only-of-type {\n",
       "        vertical-align: middle;\n",
       "    }\n",
       "\n",
       "    .dataframe tbody tr th {\n",
       "        vertical-align: top;\n",
       "    }\n",
       "\n",
       "    .dataframe thead th {\n",
       "        text-align: right;\n",
       "    }\n",
       "</style>\n",
       "<table border=\"1\" class=\"dataframe\">\n",
       "  <thead>\n",
       "    <tr style=\"text-align: right;\">\n",
       "      <th></th>\n",
       "      <th>Industry_Portfolios</th>\n",
       "      <th>Mean Return</th>\n",
       "      <th>Standard Deviation</th>\n",
       "      <th>Porftolio Weight</th>\n",
       "    </tr>\n",
       "  </thead>\n",
       "  <tbody>\n",
       "    <tr>\n",
       "      <th>1</th>\n",
       "      <td>NoDur</td>\n",
       "      <td>0.154750</td>\n",
       "      <td>2.332316</td>\n",
       "      <td>0.052634</td>\n",
       "    </tr>\n",
       "    <tr>\n",
       "      <th>2</th>\n",
       "      <td>Durbl</td>\n",
       "      <td>-0.014750</td>\n",
       "      <td>5.160320</td>\n",
       "      <td>0.000153</td>\n",
       "    </tr>\n",
       "    <tr>\n",
       "      <th>3</th>\n",
       "      <td>Manuf</td>\n",
       "      <td>0.264750</td>\n",
       "      <td>1.717702</td>\n",
       "      <td>0.137627</td>\n",
       "    </tr>\n",
       "    <tr>\n",
       "      <th>4</th>\n",
       "      <td>Enrgy</td>\n",
       "      <td>0.483083</td>\n",
       "      <td>4.390320</td>\n",
       "      <td>0.087032</td>\n",
       "    </tr>\n",
       "    <tr>\n",
       "      <th>5</th>\n",
       "      <td>HiTec</td>\n",
       "      <td>0.018167</td>\n",
       "      <td>2.258040</td>\n",
       "      <td>0.179353</td>\n",
       "    </tr>\n",
       "    <tr>\n",
       "      <th>6</th>\n",
       "      <td>Telcm</td>\n",
       "      <td>0.133333</td>\n",
       "      <td>2.163924</td>\n",
       "      <td>0.071074</td>\n",
       "    </tr>\n",
       "    <tr>\n",
       "      <th>7</th>\n",
       "      <td>Shops</td>\n",
       "      <td>0.168250</td>\n",
       "      <td>2.110125</td>\n",
       "      <td>0.106884</td>\n",
       "    </tr>\n",
       "    <tr>\n",
       "      <th>8</th>\n",
       "      <td>Hlth</td>\n",
       "      <td>0.035750</td>\n",
       "      <td>2.796506</td>\n",
       "      <td>0.102776</td>\n",
       "    </tr>\n",
       "    <tr>\n",
       "      <th>9</th>\n",
       "      <td>Utils</td>\n",
       "      <td>0.159083</td>\n",
       "      <td>3.502496</td>\n",
       "      <td>0.040162</td>\n",
       "    </tr>\n",
       "    <tr>\n",
       "      <th>10</th>\n",
       "      <td>Other</td>\n",
       "      <td>-0.259000</td>\n",
       "      <td>2.122075</td>\n",
       "      <td>0.222304</td>\n",
       "    </tr>\n",
       "  </tbody>\n",
       "</table>\n",
       "</div>"
      ],
      "text/plain": [
       "   Industry_Portfolios  Mean Return  Standard Deviation  Porftolio Weight\n",
       "1                NoDur     0.154750            2.332316          0.052634\n",
       "2                Durbl    -0.014750            5.160320          0.000153\n",
       "3                Manuf     0.264750            1.717702          0.137627\n",
       "4                Enrgy     0.483083            4.390320          0.087032\n",
       "5                HiTec     0.018167            2.258040          0.179353\n",
       "6                Telcm     0.133333            2.163924          0.071074\n",
       "7                Shops     0.168250            2.110125          0.106884\n",
       "8                 Hlth     0.035750            2.796506          0.102776\n",
       "9                Utils     0.159083            3.502496          0.040162\n",
       "10               Other    -0.259000            2.122075          0.222304"
      ]
     },
     "execution_count": 277,
     "metadata": {},
     "output_type": "execute_result"
    }
   ],
   "source": [
    "data['Porftolio Weight'] = portfolio_weight\n",
    "\n",
    "data"
   ]
  },
  {
   "cell_type": "code",
   "execution_count": 3,
   "id": "8824dbf6",
   "metadata": {},
   "outputs": [],
   "source": [
    "dfprint = df['Industry_Portfolios', 'Portfolio Weight']\n",
    "\n",
    "dfprint"
   ]
  },
  {
   "cell_type": "markdown",
   "id": "22cb5039",
   "metadata": {},
   "source": [
    "### Plot the minimum-variance frontier (without the riskless asset) generated by the ten industry portfolios & efficient frontier (with the riskless asset) on the same graph with risk-free rate 0.13%"
   ]
  },
  {
   "cell_type": "code",
   "execution_count": 278,
   "id": "9f4e8b04",
   "metadata": {
    "scrolled": false
   },
   "outputs": [
    {
     "data": {
      "image/png": "[encoded data removed]",
      "text/plain": [
       "<Figure size 640x480 with 1 Axes>"
      ]
     },
     "metadata": {},
     "output_type": "display_data"
    }
   ],
   "source": [
    "# Flatten Rp_range and std_dev to 1D arrays\n",
    "# Rp_range = Rp_range.flatten()\n",
    "# std_dev = std_dev.flatten()\n",
    "\n",
    "# Calculate the median value of Rp\n",
    "median_Rp = round(RMV.item(),2)\n",
    "\n",
    "# Split the data into two parts based on the median Rp value\n",
    "lower_half_indices = Rp_range <= median_Rp\n",
    "upper_half_indices = Rp_range >= median_Rp\n",
    "\n",
    "# Create a scatter plot for the lower half (dashed line)\n",
    "# plt.scatter(std_dev[lower_half_indices], Rp_range[lower_half_indices], marker='o', color='grey', label='Data Points (Dashed)')\n",
    "plt.plot(std_dev[lower_half_indices],\n",
    "         Rp_range[lower_half_indices],\n",
    "         color='red',\n",
    "         linestyle='--')\n",
    "\n",
    "# Create a scatter plot for the upper half (solid line)\n",
    "# plt.scatter(std_dev[upper_half_indices], Rp_range[upper_half_indices], marker='o', color='blue')\n",
    "plt.plot(std_dev[upper_half_indices],\n",
    "         Rp_range[upper_half_indices],\n",
    "         color='blue',\n",
    "         linestyle='-',\n",
    "         label='Minimum-tracking error frontier')\n",
    "\n",
    "# Draw a horizontal line at RMV\n",
    "plt.axhline(y=RMV, color='green', linestyle='dotted')\n",
    "\n",
    "# Find the index where the Sharpe ratio is maximized (tangent point)\n",
    "tangent_idx = np.argmax(information_ratio)\n",
    "tangent_std_dev = std_dev[tangent_idx]\n",
    "tangent_return = Rp_range[tangent_idx]\n",
    "\n",
    "# Plot a linear line between using the Sharpe ratio as the slope\n",
    "linear_line = information_ratio * CAL_x_axis\n",
    "plt.plot(CAL_x_axis, linear_line, color='gold', linestyle='-', label='Tangent line')\n",
    "\n",
    "# Plot the CAL tangent point\n",
    "plt.scatter(std_dev_tg, Rtg, color='red', marker='o')\n",
    "plt.annotate(f'Tangent \\n{round(std_dev_tg.item(),2),round(Rtg.item(),2)}'\n",
    "             , (std_dev_tg-0.4, Rtg)\n",
    "             , ha='center'\n",
    "             , fontsize=8\n",
    "             , weight='bold')\n",
    "\n",
    "# Set labels and title\n",
    "plt.xlabel('Tracking Error (Monthly)')\n",
    "plt.ylabel('Expected (Monthly) Return Deviation_Rp (%)')\n",
    "# plt.title('Efficient Frontier',\n",
    "#           weight='bold')\n",
    "\n",
    "# Set the Y-axis ticks with an increment of 0.005\n",
    "plt.yticks(np.arange(0, max(Rp_range) + 0.005, 0.005))\n",
    "\n",
    "# Set the X-axis ticks with an increment of 0.1\n",
    "plt.xticks()\n",
    "\n",
    "\n",
    "# Set the X-axis limits to start from 0\n",
    "plt.xlim(0, max(std_dev))  # Adjust the upper limit as needed\n",
    "plt.ylim(0, max(Rp_range))  # Adjust the upper limit as needed\n",
    "\n",
    "# Show the plot\n",
    "plt.legend(loc='lower center')\n",
    "plt.grid(True)\n",
    "plt.show()"
   ]
  },
  {
   "cell_type": "markdown",
   "id": "373fc882",
   "metadata": {},
   "source": [
    "### Part 2"
   ]
  },
  {
   "cell_type": "markdown",
   "id": "ea236e91",
   "metadata": {},
   "source": [
    "### Simulating random portfolios data points"
   ]
  },
  {
   "cell_type": "code",
   "execution_count": 279,
   "id": "23812647",
   "metadata": {},
   "outputs": [],
   "source": [
    "data_points = 100000"
   ]
  },
  {
   "cell_type": "code",
   "execution_count": 280,
   "id": "d360718d",
   "metadata": {},
   "outputs": [],
   "source": [
    "num_weight = len(portfolio_weight)"
   ]
  },
  {
   "cell_type": "markdown",
   "id": "d04bc6be",
   "metadata": {},
   "source": [
    "## with normalized W"
   ]
  },
  {
   "cell_type": "code",
   "execution_count": 281,
   "id": "ef252222",
   "metadata": {},
   "outputs": [],
   "source": [
    "# Generate random numbers\n",
    "random_data = np.random.rand(data_points,num_weight)\n",
    "\n",
    "# Normalize each row of date to ensure the sum of each row is equal to one\n",
    "normalized_portfolio_weight = random_data / random_data.sum(axis=1, keepdims=True)\n",
    "\n",
    "# Transpose normalised data (portfolio weight)\n",
    "transpose_portfolio_weight = normalized_portfolio_weight.T\n",
    "\n",
    "# Processed data point\n",
    "mean_random_point = normalized_portfolio_weight * industry_mean.values\n",
    "\n",
    "portfolio_mean = np.mean(mean_random_point, axis=1)\n",
    "\n"
   ]
  },
  {
   "cell_type": "code",
   "execution_count": 282,
   "id": "372611a4",
   "metadata": {},
   "outputs": [
    {
     "data": {
      "text/plain": [
       "array([[0.16061081, 0.06229556, 0.0884833 , ..., 0.16088202, 0.01377861,\n",
       "        0.12005921],\n",
       "       [0.02074238, 0.03254146, 0.14894712, ..., 0.22811693, 0.02811529,\n",
       "        0.18966616],\n",
       "       [0.03537268, 0.09541187, 0.04174426, ..., 0.1354281 , 0.03360436,\n",
       "        0.08310391],\n",
       "       ...,\n",
       "       [0.0959837 , 0.151758  , 0.00570494, ..., 0.11345655, 0.15188329,\n",
       "        0.16165982],\n",
       "       [0.08035209, 0.00099422, 0.20037472, ..., 0.11267509, 0.1972773 ,\n",
       "        0.04758669],\n",
       "       [0.00715114, 0.04631247, 0.00292991, ..., 0.1173074 , 0.2262134 ,\n",
       "        0.0791253 ]])"
      ]
     },
     "execution_count": 282,
     "metadata": {},
     "output_type": "execute_result"
    }
   ],
   "source": [
    "normalized_portfolio_weight"
   ]
  },
  {
   "cell_type": "code",
   "execution_count": 283,
   "id": "0de7d8f6",
   "metadata": {},
   "outputs": [
    {
     "data": {
      "text/plain": [
       "(100000, 10)"
      ]
     },
     "execution_count": 283,
     "metadata": {},
     "output_type": "execute_result"
    }
   ],
   "source": [
    "mean_random_point.shape"
   ]
  },
  {
   "cell_type": "code",
   "execution_count": 284,
   "id": "e337a677",
   "metadata": {},
   "outputs": [
    {
     "data": {
      "text/plain": [
       "(100000,)"
      ]
     },
     "execution_count": 284,
     "metadata": {},
     "output_type": "execute_result"
    }
   ],
   "source": [
    "portfolio_mean.shape"
   ]
  },
  {
   "cell_type": "code",
   "execution_count": 285,
   "id": "e920f9b8",
   "metadata": {},
   "outputs": [],
   "source": [
    "# Initialize an empty list to store the results\n",
    "results = []\n",
    "\n",
    "# Iterate over the columns of transpose_portfolio_weight\n",
    "for i in range(transpose_portfolio_weight.shape[1]):\n",
    "    # Extract the i-th column as a 1x10 matrix\n",
    "    transpose_column = transpose_portfolio_weight[:, i].reshape(1, -1)\n",
    "    \n",
    "    # Extract the i-th column of normalized_portfolio_weight as a 10x1 matrix\n",
    "    normalized_column = normalized_portfolio_weight[i,:].reshape(-1, 1)\n",
    "    \n",
    "    # Perform your calculations for this pair of matrices\n",
    "    # For example, calculate variance for this specific pair\n",
    "    SD_random_point = np.sqrt(\\\n",
    "                        np.dot(\\\n",
    "                          np.dot(\\\n",
    "                             transpose_column, industry_covariance.values),\\\n",
    "                             normalized_column))\n",
    "    \n",
    "    # Append the result to the list\n",
    "    results.append(SD_random_point)\n",
    "   \n",
    "\n",
    "# Flatten the list of arrays and remove the array wrapper\n",
    "flat_SD_results = np.squeeze(results)"
   ]
  },
  {
   "cell_type": "code",
   "execution_count": 286,
   "id": "5bf0cffb",
   "metadata": {},
   "outputs": [
    {
     "data": {
      "text/plain": [
       "array([4.11698764, 4.21954946, 4.35180827, ..., 4.34679693, 3.83046967,\n",
       "       4.14722864])"
      ]
     },
     "execution_count": 286,
     "metadata": {},
     "output_type": "execute_result"
    }
   ],
   "source": [
    "flat_SD_results"
   ]
  },
  {
   "cell_type": "code",
   "execution_count": 287,
   "id": "6059bc58",
   "metadata": {},
   "outputs": [
    {
     "data": {
      "image/png": "[encoded data removed]",
      "text/plain": [
       "<Figure size 1000x600 with 1 Axes>"
      ]
     },
     "metadata": {},
     "output_type": "display_data"
    }
   ],
   "source": [
    "# Plot the scatter plot\n",
    "\n",
    "colors = flat_SD_results \n",
    "\n",
    "plt.figure(figsize=(10, 6))  # Optional: Adjust the figure size\n",
    "sc = plt.scatter(flat_SD_results, portfolio_mean, c=colors, cmap='viridis_r', alpha=0.5)\n",
    "\n",
    "\n",
    "\n",
    "plt.scatter(flat_SD_results,portfolio_mean, alpha=0.5)  # alpha controls transparency of points\n",
    "plt.xlabel('Standard Deviation of (Monthly) Return')\n",
    "plt.ylabel('Expected (Monthly) Return_Rp (%)')\n",
    "plt.title('Efficient Frontier without Short Sales')\n",
    "plt.grid(True)  # Add grid lines\n",
    "\n",
    "# Set the X-axis ticks with an increment of 0.25\n",
    "plt.xticks(np.arange(2.5, max(flat_SD_results) + 0.25, 0.25))\n",
    "\n",
    "# Set the lower limit of the x-axis to 0\n",
    "plt.xlim(2.5, max(flat_SD_results))  # Replace 'max(flat_SD_results)' with the desired upper limit if needed\n",
    "\n",
    "\n",
    "# # Add a colorbar\n",
    "# cbar = plt.colorbar(sc)\n",
    "\n",
    "plt.show()"
   ]
  },
  {
   "cell_type": "markdown",
   "id": "3ca66fb1",
   "metadata": {},
   "source": [
    "## with 1/W"
   ]
  },
  {
   "cell_type": "code",
   "execution_count": 288,
   "id": "57ceac8e",
   "metadata": {},
   "outputs": [],
   "source": [
    "# Invert normalize each row of date to ensure the sum of each row is equal to one\n",
    "invert_data = 1/ normalized_portfolio_weight\n",
    "        \n",
    "# Normalize each row by dividing by the row sum\n",
    "row_sums = invert_data.sum(axis=1, keepdims=True)\n",
    "inverted_normalized_portfolio_weight = invert_data / row_sums\n",
    "\n",
    "\n",
    "# Transpose normalised data (portfolio weight)\n",
    "transpose_inverted_portfolio_weight = inverted_normalized_portfolio_weight.T\n",
    "\n",
    "# Processed data point\n",
    "inverted_mean_random_point = inverted_normalized_portfolio_weight * industry_mean.values\n",
    "\n",
    "inverted_portfolio_mean = np.mean(inverted_mean_random_point, axis=1)\n",
    "\n",
    "# Initialize an empty list to store the results\n",
    "inverted_results = []\n",
    "\n",
    "# Iterate over the columns of transpose_portfolio_weight\n",
    "for i in range(transpose_portfolio_weight.shape[1]):\n",
    "    # Extract the i-th column as a 1x10 matrix\n",
    "    inverted_transpose_column = transpose_inverted_portfolio_weight[:, i].reshape(1, -1)\n",
    "    \n",
    "    # Extract the i-th column of normalized_portfolio_weight as a 10x1 matrix\n",
    "    inverted_normalized_column = inverted_normalized_portfolio_weight[i,:].reshape(-1, 1)\n",
    "    \n",
    "    # Perform your calculations for this pair of matrices\n",
    "    # For example, calculate variance for this specific pair\n",
    "    inverted_SD_random_point = np.sqrt(\\\n",
    "                        np.dot(\\\n",
    "                          np.dot(\\\n",
    "                             inverted_transpose_column, industry_covariance.values),\\\n",
    "                             inverted_normalized_column))\n",
    "    \n",
    "    # Append the result to the list\n",
    "    inverted_results.append(inverted_SD_random_point)\n",
    "   \n",
    "\n",
    "# Flatten the list of arrays and remove the array wrapper\n",
    "inverted_flat_SD_results = np.squeeze(inverted_results)"
   ]
  },
  {
   "cell_type": "code",
   "execution_count": 289,
   "id": "f2387d6f",
   "metadata": {},
   "outputs": [
    {
     "data": {
      "text/plain": [
       "array([3.93228987, 4.13091781, 3.98078787, ..., 4.48542673, 7.84230895,\n",
       "       4.49558072])"
      ]
     },
     "execution_count": 289,
     "metadata": {},
     "output_type": "execute_result"
    }
   ],
   "source": [
    "inverted_flat_SD_results"
   ]
  },
  {
   "cell_type": "code",
   "execution_count": 290,
   "id": "58bfac33",
   "metadata": {},
   "outputs": [
    {
     "data": {
      "text/plain": [
       "array([0.0864452 , 0.08917435, 0.0874257 , ..., 0.09706155, 0.0751809 ,\n",
       "       0.09491255])"
      ]
     },
     "execution_count": 290,
     "metadata": {},
     "output_type": "execute_result"
    }
   ],
   "source": [
    "inverted_portfolio_mean"
   ]
  },
  {
   "cell_type": "code",
   "execution_count": 293,
   "id": "c1c612ef",
   "metadata": {},
   "outputs": [
    {
     "data": {
      "image/png": "[encoded data removed]",
      "text/plain": [
       "<Figure size 1000x600 with 1 Axes>"
      ]
     },
     "metadata": {},
     "output_type": "display_data"
    }
   ],
   "source": [
    "# Plot the scatter plot\n",
    "\n",
    "colors = inverted_flat_SD_results \n",
    "\n",
    "plt.figure(figsize=(10, 6))  # Optional: Adjust the figure size\n",
    "sc = plt.scatter(inverted_flat_SD_results, inverted_portfolio_mean, c=colors, cmap='viridis_r', alpha=0.5)\n",
    "\n",
    "\n",
    "\n",
    "plt.scatter(inverted_flat_SD_results,inverted_portfolio_mean, alpha=0.5)  # alpha controls transparency of points\n",
    "plt.xlabel('Standard Deviation of (Monthly) Return')\n",
    "plt.ylabel('Expected (Monthly) Return_Rp (%)')\n",
    "plt.title('Efficient Frontier without Short Sales')\n",
    "plt.grid(True)  # Add grid lines\n",
    "\n",
    "# Set the X-axis ticks with an increment of 0.25\n",
    "plt.xticks(np.arange(2.5, max(inverted_flat_SD_results) + 0.25, 0.25))\n",
    "\n",
    "# Set the lower limit of the x-axis to 0\n",
    "plt.xlim(2.5, max(inverted_flat_SD_results))  # Replace 'max(flat_SD_results)' with the desired upper limit if needed\n",
    "\n",
    "\n",
    "# # Add a colorbar\n",
    "# cbar = plt.colorbar(sc)\n",
    "\n",
    "plt.show()"
   ]
  },
  {
   "cell_type": "code",
   "execution_count": null,
   "id": "abc52c13",
   "metadata": {},
   "outputs": [],
   "source": []
  }
 ],
 "metadata": {
  "kernelspec": {
   "display_name": "Python 3 (ipykernel)",
   "language": "python",
   "name": "python3"
  },
  "language_info": {
   "codemirror_mode": {
    "name": "ipython",
    "version": 3
   },
   "file_extension": ".py",
   "mimetype": "text/x-python",
   "name": "python",
   "nbconvert_exporter": "python",
   "pygments_lexer": "ipython3",
   "version": "3.11.3"
  }
 },
 "nbformat": 4,
 "nbformat_minor": 5
}
