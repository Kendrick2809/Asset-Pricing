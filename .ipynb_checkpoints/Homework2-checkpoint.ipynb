{
 "cells": [
  {
   "cell_type": "code",
   "execution_count": 1,
   "id": "818377b4",
   "metadata": {},
   "outputs": [],
   "source": [
    "import numpy as np\n",
    "import matplotlib.pyplot as plt\n",
    "import pandas as pd\n",
    "import statsmodels.api as sm"
   ]
  },
  {
   "cell_type": "code",
   "execution_count": 2,
   "id": "64c56942",
   "metadata": {},
   "outputs": [],
   "source": [
    "industry_portfolio_file_path = \"Industry_Portfolios_raw.csv\""
   ]
  },
  {
   "cell_type": "code",
   "execution_count": 3,
   "id": "c094d04c",
   "metadata": {},
   "outputs": [],
   "source": [
    "market_file_path = \"Market_Portfolio_raw.csv\""
   ]
  },
  {
   "cell_type": "code",
   "execution_count": 4,
   "id": "69e985a7",
   "metadata": {},
   "outputs": [
    {
     "ename": "FileNotFoundError",
     "evalue": "[Errno 2] No such file or directory: 'Industry_Portfolios_raw.csv'",
     "output_type": "error",
     "traceback": [
      "\u001b[0;31m---------------------------------------------------------------------------\u001b[0m",
      "\u001b[0;31mFileNotFoundError\u001b[0m                         Traceback (most recent call last)",
      "Cell \u001b[0;32mIn[4], line 1\u001b[0m\n\u001b[0;32m----> 1\u001b[0m data_frame_industry \u001b[38;5;241m=\u001b[39m pd\u001b[38;5;241m.\u001b[39mread_csv(industry_portfolio_file_path)\n",
      "File \u001b[0;32m~/anaconda3/lib/python3.11/site-packages/pandas/util/_decorators.py:211\u001b[0m, in \u001b[0;36mdeprecate_kwarg.<locals>._deprecate_kwarg.<locals>.wrapper\u001b[0;34m(*args, **kwargs)\u001b[0m\n\u001b[1;32m    209\u001b[0m     \u001b[38;5;28;01melse\u001b[39;00m:\n\u001b[1;32m    210\u001b[0m         kwargs[new_arg_name] \u001b[38;5;241m=\u001b[39m new_arg_value\n\u001b[0;32m--> 211\u001b[0m \u001b[38;5;28;01mreturn\u001b[39;00m func(\u001b[38;5;241m*\u001b[39margs, \u001b[38;5;241m*\u001b[39m\u001b[38;5;241m*\u001b[39mkwargs)\n",
      "File \u001b[0;32m~/anaconda3/lib/python3.11/site-packages/pandas/util/_decorators.py:331\u001b[0m, in \u001b[0;36mdeprecate_nonkeyword_arguments.<locals>.decorate.<locals>.wrapper\u001b[0;34m(*args, **kwargs)\u001b[0m\n\u001b[1;32m    325\u001b[0m \u001b[38;5;28;01mif\u001b[39;00m \u001b[38;5;28mlen\u001b[39m(args) \u001b[38;5;241m>\u001b[39m num_allow_args:\n\u001b[1;32m    326\u001b[0m     warnings\u001b[38;5;241m.\u001b[39mwarn(\n\u001b[1;32m    327\u001b[0m         msg\u001b[38;5;241m.\u001b[39mformat(arguments\u001b[38;5;241m=\u001b[39m_format_argument_list(allow_args)),\n\u001b[1;32m    328\u001b[0m         \u001b[38;5;167;01mFutureWarning\u001b[39;00m,\n\u001b[1;32m    329\u001b[0m         stacklevel\u001b[38;5;241m=\u001b[39mfind_stack_level(),\n\u001b[1;32m    330\u001b[0m     )\n\u001b[0;32m--> 331\u001b[0m \u001b[38;5;28;01mreturn\u001b[39;00m func(\u001b[38;5;241m*\u001b[39margs, \u001b[38;5;241m*\u001b[39m\u001b[38;5;241m*\u001b[39mkwargs)\n",
      "File \u001b[0;32m~/anaconda3/lib/python3.11/site-packages/pandas/io/parsers/readers.py:950\u001b[0m, in \u001b[0;36mread_csv\u001b[0;34m(filepath_or_buffer, sep, delimiter, header, names, index_col, usecols, squeeze, prefix, mangle_dupe_cols, dtype, engine, converters, true_values, false_values, skipinitialspace, skiprows, skipfooter, nrows, na_values, keep_default_na, na_filter, verbose, skip_blank_lines, parse_dates, infer_datetime_format, keep_date_col, date_parser, dayfirst, cache_dates, iterator, chunksize, compression, thousands, decimal, lineterminator, quotechar, quoting, doublequote, escapechar, comment, encoding, encoding_errors, dialect, error_bad_lines, warn_bad_lines, on_bad_lines, delim_whitespace, low_memory, memory_map, float_precision, storage_options)\u001b[0m\n\u001b[1;32m    935\u001b[0m kwds_defaults \u001b[38;5;241m=\u001b[39m _refine_defaults_read(\n\u001b[1;32m    936\u001b[0m     dialect,\n\u001b[1;32m    937\u001b[0m     delimiter,\n\u001b[0;32m   (...)\u001b[0m\n\u001b[1;32m    946\u001b[0m     defaults\u001b[38;5;241m=\u001b[39m{\u001b[38;5;124m\"\u001b[39m\u001b[38;5;124mdelimiter\u001b[39m\u001b[38;5;124m\"\u001b[39m: \u001b[38;5;124m\"\u001b[39m\u001b[38;5;124m,\u001b[39m\u001b[38;5;124m\"\u001b[39m},\n\u001b[1;32m    947\u001b[0m )\n\u001b[1;32m    948\u001b[0m kwds\u001b[38;5;241m.\u001b[39mupdate(kwds_defaults)\n\u001b[0;32m--> 950\u001b[0m \u001b[38;5;28;01mreturn\u001b[39;00m _read(filepath_or_buffer, kwds)\n",
      "File \u001b[0;32m~/anaconda3/lib/python3.11/site-packages/pandas/io/parsers/readers.py:605\u001b[0m, in \u001b[0;36m_read\u001b[0;34m(filepath_or_buffer, kwds)\u001b[0m\n\u001b[1;32m    602\u001b[0m _validate_names(kwds\u001b[38;5;241m.\u001b[39mget(\u001b[38;5;124m\"\u001b[39m\u001b[38;5;124mnames\u001b[39m\u001b[38;5;124m\"\u001b[39m, \u001b[38;5;28;01mNone\u001b[39;00m))\n\u001b[1;32m    604\u001b[0m \u001b[38;5;66;03m# Create the parser.\u001b[39;00m\n\u001b[0;32m--> 605\u001b[0m parser \u001b[38;5;241m=\u001b[39m TextFileReader(filepath_or_buffer, \u001b[38;5;241m*\u001b[39m\u001b[38;5;241m*\u001b[39mkwds)\n\u001b[1;32m    607\u001b[0m \u001b[38;5;28;01mif\u001b[39;00m chunksize \u001b[38;5;129;01mor\u001b[39;00m iterator:\n\u001b[1;32m    608\u001b[0m     \u001b[38;5;28;01mreturn\u001b[39;00m parser\n",
      "File \u001b[0;32m~/anaconda3/lib/python3.11/site-packages/pandas/io/parsers/readers.py:1442\u001b[0m, in \u001b[0;36mTextFileReader.__init__\u001b[0;34m(self, f, engine, **kwds)\u001b[0m\n\u001b[1;32m   1439\u001b[0m     \u001b[38;5;28mself\u001b[39m\u001b[38;5;241m.\u001b[39moptions[\u001b[38;5;124m\"\u001b[39m\u001b[38;5;124mhas_index_names\u001b[39m\u001b[38;5;124m\"\u001b[39m] \u001b[38;5;241m=\u001b[39m kwds[\u001b[38;5;124m\"\u001b[39m\u001b[38;5;124mhas_index_names\u001b[39m\u001b[38;5;124m\"\u001b[39m]\n\u001b[1;32m   1441\u001b[0m \u001b[38;5;28mself\u001b[39m\u001b[38;5;241m.\u001b[39mhandles: IOHandles \u001b[38;5;241m|\u001b[39m \u001b[38;5;28;01mNone\u001b[39;00m \u001b[38;5;241m=\u001b[39m \u001b[38;5;28;01mNone\u001b[39;00m\n\u001b[0;32m-> 1442\u001b[0m \u001b[38;5;28mself\u001b[39m\u001b[38;5;241m.\u001b[39m_engine \u001b[38;5;241m=\u001b[39m \u001b[38;5;28mself\u001b[39m\u001b[38;5;241m.\u001b[39m_make_engine(f, \u001b[38;5;28mself\u001b[39m\u001b[38;5;241m.\u001b[39mengine)\n",
      "File \u001b[0;32m~/anaconda3/lib/python3.11/site-packages/pandas/io/parsers/readers.py:1735\u001b[0m, in \u001b[0;36mTextFileReader._make_engine\u001b[0;34m(self, f, engine)\u001b[0m\n\u001b[1;32m   1733\u001b[0m     \u001b[38;5;28;01mif\u001b[39;00m \u001b[38;5;124m\"\u001b[39m\u001b[38;5;124mb\u001b[39m\u001b[38;5;124m\"\u001b[39m \u001b[38;5;129;01mnot\u001b[39;00m \u001b[38;5;129;01min\u001b[39;00m mode:\n\u001b[1;32m   1734\u001b[0m         mode \u001b[38;5;241m+\u001b[39m\u001b[38;5;241m=\u001b[39m \u001b[38;5;124m\"\u001b[39m\u001b[38;5;124mb\u001b[39m\u001b[38;5;124m\"\u001b[39m\n\u001b[0;32m-> 1735\u001b[0m \u001b[38;5;28mself\u001b[39m\u001b[38;5;241m.\u001b[39mhandles \u001b[38;5;241m=\u001b[39m get_handle(\n\u001b[1;32m   1736\u001b[0m     f,\n\u001b[1;32m   1737\u001b[0m     mode,\n\u001b[1;32m   1738\u001b[0m     encoding\u001b[38;5;241m=\u001b[39m\u001b[38;5;28mself\u001b[39m\u001b[38;5;241m.\u001b[39moptions\u001b[38;5;241m.\u001b[39mget(\u001b[38;5;124m\"\u001b[39m\u001b[38;5;124mencoding\u001b[39m\u001b[38;5;124m\"\u001b[39m, \u001b[38;5;28;01mNone\u001b[39;00m),\n\u001b[1;32m   1739\u001b[0m     compression\u001b[38;5;241m=\u001b[39m\u001b[38;5;28mself\u001b[39m\u001b[38;5;241m.\u001b[39moptions\u001b[38;5;241m.\u001b[39mget(\u001b[38;5;124m\"\u001b[39m\u001b[38;5;124mcompression\u001b[39m\u001b[38;5;124m\"\u001b[39m, \u001b[38;5;28;01mNone\u001b[39;00m),\n\u001b[1;32m   1740\u001b[0m     memory_map\u001b[38;5;241m=\u001b[39m\u001b[38;5;28mself\u001b[39m\u001b[38;5;241m.\u001b[39moptions\u001b[38;5;241m.\u001b[39mget(\u001b[38;5;124m\"\u001b[39m\u001b[38;5;124mmemory_map\u001b[39m\u001b[38;5;124m\"\u001b[39m, \u001b[38;5;28;01mFalse\u001b[39;00m),\n\u001b[1;32m   1741\u001b[0m     is_text\u001b[38;5;241m=\u001b[39mis_text,\n\u001b[1;32m   1742\u001b[0m     errors\u001b[38;5;241m=\u001b[39m\u001b[38;5;28mself\u001b[39m\u001b[38;5;241m.\u001b[39moptions\u001b[38;5;241m.\u001b[39mget(\u001b[38;5;124m\"\u001b[39m\u001b[38;5;124mencoding_errors\u001b[39m\u001b[38;5;124m\"\u001b[39m, \u001b[38;5;124m\"\u001b[39m\u001b[38;5;124mstrict\u001b[39m\u001b[38;5;124m\"\u001b[39m),\n\u001b[1;32m   1743\u001b[0m     storage_options\u001b[38;5;241m=\u001b[39m\u001b[38;5;28mself\u001b[39m\u001b[38;5;241m.\u001b[39moptions\u001b[38;5;241m.\u001b[39mget(\u001b[38;5;124m\"\u001b[39m\u001b[38;5;124mstorage_options\u001b[39m\u001b[38;5;124m\"\u001b[39m, \u001b[38;5;28;01mNone\u001b[39;00m),\n\u001b[1;32m   1744\u001b[0m )\n\u001b[1;32m   1745\u001b[0m \u001b[38;5;28;01massert\u001b[39;00m \u001b[38;5;28mself\u001b[39m\u001b[38;5;241m.\u001b[39mhandles \u001b[38;5;129;01mis\u001b[39;00m \u001b[38;5;129;01mnot\u001b[39;00m \u001b[38;5;28;01mNone\u001b[39;00m\n\u001b[1;32m   1746\u001b[0m f \u001b[38;5;241m=\u001b[39m \u001b[38;5;28mself\u001b[39m\u001b[38;5;241m.\u001b[39mhandles\u001b[38;5;241m.\u001b[39mhandle\n",
      "File \u001b[0;32m~/anaconda3/lib/python3.11/site-packages/pandas/io/common.py:856\u001b[0m, in \u001b[0;36mget_handle\u001b[0;34m(path_or_buf, mode, encoding, compression, memory_map, is_text, errors, storage_options)\u001b[0m\n\u001b[1;32m    851\u001b[0m \u001b[38;5;28;01melif\u001b[39;00m \u001b[38;5;28misinstance\u001b[39m(handle, \u001b[38;5;28mstr\u001b[39m):\n\u001b[1;32m    852\u001b[0m     \u001b[38;5;66;03m# Check whether the filename is to be opened in binary mode.\u001b[39;00m\n\u001b[1;32m    853\u001b[0m     \u001b[38;5;66;03m# Binary mode does not support 'encoding' and 'newline'.\u001b[39;00m\n\u001b[1;32m    854\u001b[0m     \u001b[38;5;28;01mif\u001b[39;00m ioargs\u001b[38;5;241m.\u001b[39mencoding \u001b[38;5;129;01mand\u001b[39;00m \u001b[38;5;124m\"\u001b[39m\u001b[38;5;124mb\u001b[39m\u001b[38;5;124m\"\u001b[39m \u001b[38;5;129;01mnot\u001b[39;00m \u001b[38;5;129;01min\u001b[39;00m ioargs\u001b[38;5;241m.\u001b[39mmode:\n\u001b[1;32m    855\u001b[0m         \u001b[38;5;66;03m# Encoding\u001b[39;00m\n\u001b[0;32m--> 856\u001b[0m         handle \u001b[38;5;241m=\u001b[39m \u001b[38;5;28mopen\u001b[39m(\n\u001b[1;32m    857\u001b[0m             handle,\n\u001b[1;32m    858\u001b[0m             ioargs\u001b[38;5;241m.\u001b[39mmode,\n\u001b[1;32m    859\u001b[0m             encoding\u001b[38;5;241m=\u001b[39mioargs\u001b[38;5;241m.\u001b[39mencoding,\n\u001b[1;32m    860\u001b[0m             errors\u001b[38;5;241m=\u001b[39merrors,\n\u001b[1;32m    861\u001b[0m             newline\u001b[38;5;241m=\u001b[39m\u001b[38;5;124m\"\u001b[39m\u001b[38;5;124m\"\u001b[39m,\n\u001b[1;32m    862\u001b[0m         )\n\u001b[1;32m    863\u001b[0m     \u001b[38;5;28;01melse\u001b[39;00m:\n\u001b[1;32m    864\u001b[0m         \u001b[38;5;66;03m# Binary mode\u001b[39;00m\n\u001b[1;32m    865\u001b[0m         handle \u001b[38;5;241m=\u001b[39m \u001b[38;5;28mopen\u001b[39m(handle, ioargs\u001b[38;5;241m.\u001b[39mmode)\n",
      "\u001b[0;31mFileNotFoundError\u001b[0m: [Errno 2] No such file or directory: 'Industry_Portfolios_raw.csv'"
     ]
    }
   ],
   "source": [
    "data_frame_industry = pd.read_csv(industry_portfolio_file_path)"
   ]
  },
  {
   "cell_type": "code",
   "execution_count": null,
   "id": "af06a7db",
   "metadata": {},
   "outputs": [],
   "source": [
    "data_frame_market = pd.read_csv(market_file_path)"
   ]
  },
  {
   "cell_type": "code",
   "execution_count": null,
   "id": "15e16e2a",
   "metadata": {},
   "outputs": [],
   "source": [
    "risk_free_rate = 0.13"
   ]
  },
  {
   "cell_type": "code",
   "execution_count": null,
   "id": "9adf073f",
   "metadata": {
    "scrolled": true
   },
   "outputs": [],
   "source": [
    "data_frame_industry"
   ]
  },
  {
   "cell_type": "code",
   "execution_count": null,
   "id": "d60c709b",
   "metadata": {},
   "outputs": [],
   "source": [
    "data_frame_market"
   ]
  },
  {
   "cell_type": "code",
   "execution_count": null,
   "id": "05b51230",
   "metadata": {},
   "outputs": [],
   "source": [
    "market_mean_return_df = data_frame_market.drop('Date', axis=1)\n",
    "market_mean_return_df"
   ]
  },
  {
   "cell_type": "code",
   "execution_count": null,
   "id": "e8e91219",
   "metadata": {
    "scrolled": true
   },
   "outputs": [],
   "source": [
    "industry_mean_return_df = data_frame_industry.drop('Date', axis=1)\n",
    "industry_mean_return_df"
   ]
  },
  {
   "cell_type": "code",
   "execution_count": null,
   "id": "42163ea3",
   "metadata": {
    "scrolled": true
   },
   "outputs": [],
   "source": [
    "combined_return_df = pd.concat([industry_mean_return_df,market_mean_return_df], axis=1)\n",
    "\n",
    "combined_return_df"
   ]
  },
  {
   "cell_type": "code",
   "execution_count": null,
   "id": "2c1d5701",
   "metadata": {},
   "outputs": [],
   "source": [
    "combined_monthly_mean_return = combined_return_df.mean()\n",
    "\n",
    "combined_monthly_mean_return.values\n",
    "# combined_monthly_mean_return_df = pd.DataFrame(combined_monthly_mean_return)\n",
    "\n",
    "# combined_monthly_mean_return_df.columns = [\"Mean Return\"]\n",
    "\n",
    "# combined_monthly_mean_return_df"
   ]
  },
  {
   "cell_type": "code",
   "execution_count": null,
   "id": "3590c20d",
   "metadata": {
    "scrolled": true
   },
   "outputs": [],
   "source": [
    "excess_industry_mean_return_df = industry_mean_return_df - risk_free_rate\n",
    "excess_industry_mean_return_df"
   ]
  },
  {
   "cell_type": "code",
   "execution_count": null,
   "id": "71cc4f34",
   "metadata": {},
   "outputs": [],
   "source": [
    "excess_market_mean_return_df = market_mean_return_df - risk_free_rate\n",
    "excess_market_mean_return_df"
   ]
  },
  {
   "cell_type": "code",
   "execution_count": null,
   "id": "85fc4dd4",
   "metadata": {
    "scrolled": true
   },
   "outputs": [],
   "source": [
    "ten_industry_portfolios = industry_mean_return_df.columns.to_numpy()\n",
    "ten_industry_portfolios"
   ]
  },
  {
   "cell_type": "code",
   "execution_count": null,
   "id": "c0f1ea3c",
   "metadata": {
    "scrolled": true
   },
   "outputs": [],
   "source": [
    "excess_industry_mean_return_df[\"NoDur\"]"
   ]
  },
  {
   "cell_type": "code",
   "execution_count": null,
   "id": "2da3665f",
   "metadata": {
    "scrolled": false
   },
   "outputs": [],
   "source": [
    "# list to store alpha and beta values for each portfolio\n",
    "alpha_list = []\n",
    "beta_list = []\n",
    "\n",
    "# Iterate through the industry portfolio (columns)\n",
    "\n",
    "for industry_portfolio in excess_industry_mean_return_df.columns:\n",
    "    \n",
    "    # Extract the industry portfolio returns\n",
    "    industry_returns = excess_industry_mean_return_df[industry_portfolio]\n",
    " \n",
    "    # Add a constant to intercepet (α)\n",
    "    X = sm.add_constant(excess_market_mean_return_df)\n",
    "\n",
    "    # Perform linear regression\n",
    "    model = sm.OLS(industry_returns, X).fit()\n",
    "    \n",
    "    model\n",
    "    \n",
    "    # Get α (alpha) and β (beta)\n",
    "    alpha = model.params['const']\n",
    "    beta = model.params[excess_market_mean_return_df.columns[0]]\n",
    "    \n",
    "    # Append results to the list\n",
    "    alpha_list.append(alpha)\n",
    "    beta_list.append(beta)\n",
    "    \n",
    "    \n",
    "# Create a DataFrame to display the results\n",
    "results_df = pd.DataFrame({\n",
    "        'Industry': ten_industry_portfolios,\n",
    "        'Intercept (α)': alpha_list,\n",
    "        'Slope coefficients (β)': beta_list})\n",
    "\n",
    "\n",
    "results_df.style.hide_index()\n"
   ]
  },
  {
   "cell_type": "code",
   "execution_count": null,
   "id": "9ed8ff6b",
   "metadata": {
    "scrolled": true
   },
   "outputs": [],
   "source": [
    "beta_df = results_df[[\"Industry\",\"Slope coefficients (β)\"]]\n",
    "\n",
    "\n",
    "# Add a new row with \"Industry\" set to \"market\" and \"Slope coefficients (β)\" set to 1\n",
    "new_row = pd.DataFrame({'Industry': ['Market'], 'Slope coefficients (β)': [1.0]})\n",
    "\n",
    "# Concatenate the new row to the original DataFrame\n",
    "beta_mean_df = pd.concat([beta_df,new_row], ignore_index=True)\n",
    "\n",
    "beta_mean_df['Mean Return'] = combined_monthly_mean_return.values\n",
    "\n",
    "beta_mean_df\n",
    "# Merge the DataFrames based on the \"Industry\" column\n",
    "# combined_df = pd.concat([beta_df, combined_monthly_mean_return_df], axis = 1)\n",
    "\n",
    "# combined_df"
   ]
  },
  {
   "cell_type": "code",
   "execution_count": null,
   "id": "f392d612",
   "metadata": {
    "scrolled": true
   },
   "outputs": [],
   "source": [
    "# Perform linear regression\n",
    "X = sm.add_constant(beta_mean_df['Slope coefficients (β)'])\n",
    "Y = beta_mean_df['Mean Return']\n",
    "regression_model = sm.OLS(Y,\n",
    "                          X).fit()\n",
    "\n",
    "# Get intercept (α) and slope (β) coefficients\n",
    "alpha_X = regression_model.params[0]\n",
    "beta_X = regression_model.params[1]\n"
   ]
  },
  {
   "cell_type": "markdown",
   "id": "1c2aebac",
   "metadata": {},
   "source": [
    "### Build graph for Security Market Line (SML)"
   ]
  },
  {
   "cell_type": "code",
   "execution_count": null,
   "id": "c4b21383",
   "metadata": {},
   "outputs": [],
   "source": [
    "# Create a scatter plot\n",
    "plt.scatter (combined_beta_array, combined_monthly_mean_return, marker = 'x', color = 'red', label = 'Industry and Market Portfolio')\n",
    "\n",
    "# Add labels and a title\n",
    "plt.xlabel('β', fontsize=10, fontweight='bold')\n",
    "plt.ylabel('Mean Return (%)',fontsize='10', fontweight='bold')\n",
    "\n",
    "# Plot the linear regression line\n",
    "x = np.linspace(0,2,100)\n",
    "y = alpha_X + beta_X * x\n",
    "\n",
    "plt.plot(x, y, label='Security Market Line (SML)', color='blue')\n",
    "\n",
    "# Set the x-axis view range limit\n",
    "plt.xlim(0, 2)\n",
    "\n",
    "# Show grid\n",
    "plt.grid(True)\n",
    "\n",
    "# Add legends for scatter and line plots\n",
    "plt.legend(loc='upper left', fontsize='7')\n",
    "\n",
    "# Get the current figure\n",
    "fig = plt.gcf()\n",
    "\n",
    "# Change the background color outside the graph area\n",
    "fig.set_facecolor('#EAEAEA')\n",
    "\n",
    "# Show the plot\n",
    "plt.show()"
   ]
  },
  {
   "cell_type": "code",
   "execution_count": null,
   "id": "979d4ca7",
   "metadata": {},
   "outputs": [],
   "source": []
  }
 ],
 "metadata": {
  "kernelspec": {
   "display_name": "Python 3 (ipykernel)",
   "language": "python",
   "name": "python3"
  },
  "language_info": {
   "codemirror_mode": {
    "name": "ipython",
    "version": 3
   },
   "file_extension": ".py",
   "mimetype": "text/x-python",
   "name": "python",
   "nbconvert_exporter": "python",
   "pygments_lexer": "ipython3",
   "version": "3.11.3"
  }
 },
 "nbformat": 4,
 "nbformat_minor": 5
}
